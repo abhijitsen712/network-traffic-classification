{
 "cells": [
  {
   "cell_type": "code",
   "execution_count": 1,
   "id": "698acf32",
   "metadata": {},
   "outputs": [],
   "source": [
    "import pandas as pd\n",
    "import numpy as np\n",
    "import matplotlib.pyplot as plt\n",
    "from sklearn.model_selection import GridSearchCV\n",
    "from sklearn.preprocessing import OneHotEncoder\n",
    "from sklearn.naive_bayes import GaussianNB\n",
    "from sklearn.neighbors import KNeighborsClassifier\n",
    "from sklearn.linear_model import LogisticRegression\n",
    "from sklearn.svm import SVC\n",
    "from sklearn.ensemble import GradientBoostingClassifier\n",
    "from sklearn.ensemble import RandomForestClassifier\n",
    "from sklearn.tree import DecisionTreeClassifier\n",
    "from sklearn.preprocessing import StandardScaler, MinMaxScaler\n",
    "from sklearn.metrics import accuracy_score,precision_score, recall_score,f1_score\n",
    "import seaborn as sns\n",
    "from sklearn.metrics import confusion_matrix\n",
    "from sklearn.manifold import TSNE\n",
    "import matplotlib.pyplot as plt\n",
    "from sklearn.model_selection import train_test_split\n",
    "import tensorflow  \n",
    "from tensorflow.keras.models import Sequential \n",
    "from tensorflow.keras.layers import Dense,Dropout,BatchNormalization\n",
    "from tensorflow.keras.optimizers import Adam,RMSprop\n",
    "from tensorflow.keras.callbacks import EarlyStopping\n",
    "import warnings\n",
    "warnings.filterwarnings('ignore')"
   ]
  },
  {
   "cell_type": "markdown",
   "id": "91c04497",
   "metadata": {},
   "source": [
    "<h2>1. Modelling with all the features</h2>"
   ]
  },
  {
   "cell_type": "code",
   "execution_count": 2,
   "id": "de5a6729",
   "metadata": {},
   "outputs": [],
   "source": [
    "df_train = pd.read_csv(\"df_train_whole.csv\").drop(columns='Unnamed: 0')\n",
    "df_test = pd.read_csv(\"df_test_whole.csv\").drop(columns='Unnamed: 0')"
   ]
  },
  {
   "cell_type": "code",
   "execution_count": 3,
   "id": "d334bce0",
   "metadata": {},
   "outputs": [],
   "source": [
    "train_labels = df_train['class']\n",
    "test_labels = df_test['class']\n",
    "df_train.drop(columns='class',inplace=True)\n",
    "df_test.drop(columns='class',inplace=True)"
   ]
  },
  {
   "cell_type": "markdown",
   "id": "08e5b254",
   "metadata": {},
   "source": [
    "<h2>1.1 Naive Bayes Classifier</h2>"
   ]
  },
  {
   "cell_type": "code",
   "execution_count": 11,
   "id": "80e62ca0",
   "metadata": {},
   "outputs": [
    {
     "data": {
      "text/plain": [
       "GridSearchCV(estimator=GaussianNB(),\n",
       "             param_grid={'var_smoothing': [0.001, 0.005, 0.01, 0.05, 0.1]},\n",
       "             scoring='f1')"
      ]
     },
     "execution_count": 11,
     "metadata": {},
     "output_type": "execute_result"
    }
   ],
   "source": [
    "params = {'var_smoothing':[0.001,0.005,0.01,0.05,0.1]}\n",
    "gnb = GaussianNB()\n",
    "clf = GridSearchCV(gnb, params,scoring='f1')\n",
    "clf.fit(df_train,train_labels)"
   ]
  },
  {
   "cell_type": "code",
   "execution_count": 12,
   "id": "c4e7a8ed",
   "metadata": {},
   "outputs": [
    {
     "data": {
      "text/plain": [
       "array([0.93408817, 0.95330713, 0.95626141, 0.94467846, 0.90706361])"
      ]
     },
     "execution_count": 12,
     "metadata": {},
     "output_type": "execute_result"
    }
   ],
   "source": [
    "clf.cv_results_['mean_test_score']"
   ]
  },
  {
   "cell_type": "code",
   "execution_count": 13,
   "id": "8c036996",
   "metadata": {},
   "outputs": [
    {
     "data": {
      "image/png": "[encoded data removed]",
      "text/plain": [
       "<Figure size 432x288 with 1 Axes>"
      ]
     },
     "metadata": {
      "needs_background": "light"
     },
     "output_type": "display_data"
    }
   ],
   "source": [
    "plt.plot(params['var_smoothing'],clf.cv_results_['mean_test_score'])\n",
    "plt.scatter(params['var_smoothing'],clf.cv_results_['mean_test_score'])\n",
    "for i in range(len(params['var_smoothing'])):\n",
    "    plt.annotate(round(clf.cv_results_['mean_test_score'][i],4), (params['var_smoothing'][i], clf.cv_results_['mean_test_score'][i]))\n",
    "plt.grid()\n",
    "plt.show()"
   ]
  },
  {
   "cell_type": "code",
   "execution_count": 14,
   "id": "7fed6d7c",
   "metadata": {},
   "outputs": [],
   "source": [
    "#Getting the best value of the hyper-parameters\n",
    "var_smoothing = clf.cv_results_['params'][np.argmax(clf.cv_results_['mean_test_score'])]['var_smoothing']\n"
   ]
  },
  {
   "cell_type": "code",
   "execution_count": 15,
   "id": "159dfd1b",
   "metadata": {},
   "outputs": [],
   "source": [
    "gnb = GaussianNB(var_smoothing = var_smoothing)\n",
    "gnb.fit(df_train,train_labels)\n",
    "y_pred = gnb.predict(df_test)"
   ]
  },
  {
   "cell_type": "code",
   "execution_count": 16,
   "id": "9bc856d7",
   "metadata": {},
   "outputs": [
    {
     "data": {
      "text/plain": [
       "array([[9104,  607],\n",
       "       [4138, 8691]], dtype=int64)"
      ]
     },
     "execution_count": 16,
     "metadata": {},
     "output_type": "execute_result"
    }
   ],
   "source": [
    "confusion_matrix(test_labels,y_pred)"
   ]
  },
  {
   "cell_type": "code",
   "execution_count": 25,
   "id": "320d0ce7",
   "metadata": {
    "scrolled": true
   },
   "outputs": [
    {
     "name": "stdout",
     "output_type": "stream",
     "text": [
      "Test Accuracy:: 0.7894853593611357\n",
      "Test precision:: 0.9347171434717143\n",
      "Test recall:: 0.6774495284121911\n",
      "Test F1:: 0.7855561079224477\n"
     ]
    }
   ],
   "source": [
    "print(\"Test Accuracy::\",accuracy_score(test_labels,y_pred))\n",
    "print(\"Test precision::\",precision_score(test_labels,y_pred))\n",
    "print(\"Test recall::\",recall_score(test_labels,y_pred))\n",
    "print(\"Test F1::\",f1_score(test_labels,y_pred))"
   ]
  },
  {
   "cell_type": "markdown",
   "id": "a2e3947c",
   "metadata": {},
   "source": [
    "<h2>1.2 KNN Classifier</h2>"
   ]
  },
  {
   "cell_type": "code",
   "execution_count": 54,
   "id": "4265ee76",
   "metadata": {},
   "outputs": [
    {
     "data": {
      "text/plain": [
       "GridSearchCV(estimator=KNeighborsClassifier(), n_jobs=-1,\n",
       "             param_grid={'n_neighbors': [3, 5, 7, 9, 11]}, scoring='f1')"
      ]
     },
     "execution_count": 54,
     "metadata": {},
     "output_type": "execute_result"
    }
   ],
   "source": [
    "params = {'n_neighbors':[3,5,7,9,11]}\n",
    "knn = KNeighborsClassifier()\n",
    "clf = GridSearchCV(knn, params,scoring='f1', n_jobs=-1)\n",
    "clf.fit(df_train,train_labels)"
   ]
  },
  {
   "cell_type": "code",
   "execution_count": 56,
   "id": "981cdcb2",
   "metadata": {},
   "outputs": [
    {
     "data": {
      "text/plain": [
       "array([0.99611812, 0.99557034, 0.9950661 , 0.99444153, 0.99426919])"
      ]
     },
     "execution_count": 56,
     "metadata": {},
     "output_type": "execute_result"
    }
   ],
   "source": [
    "clf.cv_results_['mean_test_score']"
   ]
  },
  {
   "cell_type": "code",
   "execution_count": 57,
   "id": "3c3ba4ae",
   "metadata": {},
   "outputs": [
    {
     "data": {
      "image/png": "[encoded data removed]",
      "text/plain": [
       "<Figure size 432x288 with 1 Axes>"
      ]
     },
     "metadata": {
      "needs_background": "light"
     },
     "output_type": "display_data"
    }
   ],
   "source": [
    "plt.plot(params['n_neighbors'],clf.cv_results_['mean_test_score'])\n",
    "plt.scatter(params['n_neighbors'],clf.cv_results_['mean_test_score'])\n",
    "for i in range(len(params['n_neighbors'])):\n",
    "    plt.annotate(round(clf.cv_results_['mean_test_score'][i],4), (params['n_neighbors'][i], clf.cv_results_['mean_test_score'][i]))\n",
    "plt.grid()\n",
    "plt.show()"
   ]
  },
  {
   "cell_type": "code",
   "execution_count": 58,
   "id": "cbe1ea27",
   "metadata": {},
   "outputs": [],
   "source": [
    "#Getting the best value of the hyper-parameters\n",
    "n_neighbors = clf.cv_results_['params'][np.argmax(clf.cv_results_['mean_test_score'])]['n_neighbors']"
   ]
  },
  {
   "cell_type": "code",
   "execution_count": 60,
   "id": "f2b7e317",
   "metadata": {},
   "outputs": [],
   "source": [
    "knn = KNeighborsClassifier(n_neighbors = n_neighbors)\n",
    "knn.fit(df_train,train_labels)\n",
    "y_pred_knn_whole = knn.predict(df_test)"
   ]
  },
  {
   "cell_type": "code",
   "execution_count": 91,
   "id": "f4cdd96c",
   "metadata": {},
   "outputs": [
    {
     "data": {
      "text/plain": [
       "array([[9023,  688],\n",
       "       [4463, 8366]], dtype=int64)"
      ]
     },
     "execution_count": 91,
     "metadata": {},
     "output_type": "execute_result"
    }
   ],
   "source": [
    "confusion_matrix(test_labels,y_pred_knn_whole)"
   ]
  },
  {
   "cell_type": "code",
   "execution_count": 64,
   "id": "5bdd5867",
   "metadata": {},
   "outputs": [
    {
     "name": "stdout",
     "output_type": "stream",
     "text": [
      "Test Accuracy:: 0.7714729370008873\n",
      "Test precision:: 0.9240114866357411\n",
      "Test recall:: 0.6521162990100553\n",
      "Test F1:: 0.764611799113467\n"
     ]
    }
   ],
   "source": [
    "print(\"Test Accuracy::\",accuracy_score(test_labels,y_pred_knn_whole))\n",
    "print(\"Test precision::\",precision_score(test_labels,y_pred_knn_whole))\n",
    "print(\"Test recall::\",recall_score(test_labels,y_pred_knn_whole))\n",
    "print(\"Test F1::\",f1_score(test_labels,y_pred_knn_whole))"
   ]
  },
  {
   "cell_type": "markdown",
   "id": "b9e1da00",
   "metadata": {},
   "source": [
    "<h2>1.3 Logistic Regression Classifier</h2>"
   ]
  },
  {
   "cell_type": "code",
   "execution_count": 65,
   "id": "ae6dc30c",
   "metadata": {},
   "outputs": [
    {
     "data": {
      "text/plain": [
       "GridSearchCV(estimator=LogisticRegression(),\n",
       "             param_grid={'C': [1, 0.1, 0.01, 0.001, 0.0001]}, scoring='f1')"
      ]
     },
     "execution_count": 65,
     "metadata": {},
     "output_type": "execute_result"
    }
   ],
   "source": [
    "params = {'C':[1,0.1,0.01,0.001,0.0001]}\n",
    "lr = LogisticRegression()\n",
    "clf = GridSearchCV(lr, params,scoring='f1')\n",
    "clf.fit(df_train,train_labels)"
   ]
  },
  {
   "cell_type": "code",
   "execution_count": 66,
   "id": "6425b0cc",
   "metadata": {},
   "outputs": [
    {
     "data": {
      "text/plain": [
       "array([0.97007737, 0.96803401, 0.96881705, 0.96108223, 0.89800151])"
      ]
     },
     "execution_count": 66,
     "metadata": {},
     "output_type": "execute_result"
    }
   ],
   "source": [
    "clf.cv_results_['mean_test_score']"
   ]
  },
  {
   "cell_type": "code",
   "execution_count": 67,
   "id": "196f14df",
   "metadata": {},
   "outputs": [
    {
     "data": {
      "image/png": "[encoded data removed]",
      "text/plain": [
       "<Figure size 432x288 with 1 Axes>"
      ]
     },
     "metadata": {
      "needs_background": "light"
     },
     "output_type": "display_data"
    }
   ],
   "source": [
    "plt.plot(params['C'],clf.cv_results_['mean_test_score'])\n",
    "plt.scatter(params['C'],clf.cv_results_['mean_test_score'])\n",
    "for i in range(len(params['C'])):\n",
    "    plt.annotate(round(clf.cv_results_['mean_test_score'][i],4), (params['C'][i], clf.cv_results_['mean_test_score'][i]))\n",
    "plt.grid()\n",
    "plt.show()"
   ]
  },
  {
   "cell_type": "code",
   "execution_count": 68,
   "id": "1297c3eb",
   "metadata": {},
   "outputs": [],
   "source": [
    "#Getting the best value of the hyper-parameters\n",
    "C = clf.cv_results_['params'][np.argmax(clf.cv_results_['mean_test_score'])]['C']"
   ]
  },
  {
   "cell_type": "code",
   "execution_count": 69,
   "id": "9c5d8f63",
   "metadata": {},
   "outputs": [],
   "source": [
    "lr = LogisticRegression(C = C)\n",
    "lr.fit(df_train,train_labels)\n",
    "y_pred_lr_whole = lr.predict(df_test)"
   ]
  },
  {
   "cell_type": "code",
   "execution_count": 70,
   "id": "f1601438",
   "metadata": {},
   "outputs": [
    {
     "data": {
      "text/plain": [
       "array([[8990,  721],\n",
       "       [4829, 8000]], dtype=int64)"
      ]
     },
     "execution_count": 70,
     "metadata": {},
     "output_type": "execute_result"
    }
   ],
   "source": [
    "confusion_matrix(test_labels,y_pred_lr_whole)"
   ]
  },
  {
   "cell_type": "code",
   "execution_count": 71,
   "id": "c293c92f",
   "metadata": {},
   "outputs": [
    {
     "name": "stdout",
     "output_type": "stream",
     "text": [
      "Test Accuracy:: 0.75377107364685\n",
      "Test precision:: 0.9173259947253756\n",
      "Test recall:: 0.6235871852833424\n",
      "Test F1:: 0.7424593967517402\n"
     ]
    }
   ],
   "source": [
    "print(\"Test Accuracy::\",accuracy_score(test_labels,y_pred_lr_whole))\n",
    "print(\"Test precision::\",precision_score(test_labels,y_pred_lr_whole))\n",
    "print(\"Test recall::\",recall_score(test_labels,y_pred_lr_whole))\n",
    "print(\"Test F1::\",f1_score(test_labels,y_pred_lr_whole))"
   ]
  },
  {
   "cell_type": "markdown",
   "id": "4fe97ddf",
   "metadata": {},
   "source": [
    "<h2>1.4 Support Vector Classifier</h2>"
   ]
  },
  {
   "cell_type": "code",
   "execution_count": 72,
   "id": "ae722268",
   "metadata": {},
   "outputs": [
    {
     "data": {
      "text/plain": [
       "GridSearchCV(estimator=SVC(), param_grid={'C': [1, 0.1, 0.01, 0.001, 0.0001]},\n",
       "             scoring='f1')"
      ]
     },
     "execution_count": 72,
     "metadata": {},
     "output_type": "execute_result"
    }
   ],
   "source": [
    "params = {'C':[1,0.1,0.01,0.001,0.0001]}\n",
    "svc = SVC()\n",
    "clf = GridSearchCV(svc, params,scoring='f1')\n",
    "clf.fit(df_train,train_labels)"
   ]
  },
  {
   "cell_type": "code",
   "execution_count": 73,
   "id": "f5a9bce0",
   "metadata": {},
   "outputs": [
    {
     "data": {
      "text/plain": [
       "array([0.98474043, 0.97747822, 0.97394611, 0.95290657, 0.88162472])"
      ]
     },
     "execution_count": 73,
     "metadata": {},
     "output_type": "execute_result"
    }
   ],
   "source": [
    "clf.cv_results_['mean_test_score']"
   ]
  },
  {
   "cell_type": "code",
   "execution_count": 74,
   "id": "8ac56f2c",
   "metadata": {},
   "outputs": [
    {
     "data": {
      "image/png": "[encoded data removed]",
      "text/plain": [
       "<Figure size 432x288 with 1 Axes>"
      ]
     },
     "metadata": {
      "needs_background": "light"
     },
     "output_type": "display_data"
    }
   ],
   "source": [
    "plt.plot(params['C'],clf.cv_results_['mean_test_score'])\n",
    "plt.scatter(params['C'],clf.cv_results_['mean_test_score'])\n",
    "for i in range(len(params['C'])):\n",
    "    plt.annotate(round(clf.cv_results_['mean_test_score'][i],4), (params['C'][i], clf.cv_results_['mean_test_score'][i]))\n",
    "plt.grid()\n",
    "plt.show()"
   ]
  },
  {
   "cell_type": "code",
   "execution_count": 75,
   "id": "d8834f3e",
   "metadata": {},
   "outputs": [],
   "source": [
    "#Getting the best value of the hyper-parameters\n",
    "C = clf.cv_results_['params'][np.argmax(clf.cv_results_['mean_test_score'])]['C']"
   ]
  },
  {
   "cell_type": "code",
   "execution_count": 84,
   "id": "69f8b56e",
   "metadata": {},
   "outputs": [],
   "source": [
    "svc = SVC(C = C)\n",
    "svc.fit(df_train,train_labels)\n",
    "y_pred_svc_whole = svc.predict(df_test)"
   ]
  },
  {
   "cell_type": "code",
   "execution_count": 85,
   "id": "e5d41cff",
   "metadata": {},
   "outputs": [
    {
     "data": {
      "text/plain": [
       "array([[9008,  703],\n",
       "       [4633, 8196]], dtype=int64)"
      ]
     },
     "execution_count": 85,
     "metadata": {},
     "output_type": "execute_result"
    }
   ],
   "source": [
    "confusion_matrix(test_labels,y_pred_svc_whole)"
   ]
  },
  {
   "cell_type": "code",
   "execution_count": 89,
   "id": "899ad50e",
   "metadata": {},
   "outputs": [
    {
     "name": "stdout",
     "output_type": "stream",
     "text": [
      "Test Accuracy:: 0.763265306122449\n",
      "Test precision:: 0.9210023598157097\n",
      "Test recall:: 0.6388650713227844\n",
      "Test F1:: 0.754418262150221\n"
     ]
    }
   ],
   "source": [
    "print(\"Test Accuracy::\",accuracy_score(test_labels,y_pred_svc_whole))\n",
    "print(\"Test precision::\",precision_score(test_labels,y_pred_svc_whole))\n",
    "print(\"Test recall::\",recall_score(test_labels,y_pred_svc_whole))\n",
    "print(\"Test F1::\",f1_score(test_labels,y_pred_svc_whole))"
   ]
  },
  {
   "cell_type": "markdown",
   "id": "edfdc051",
   "metadata": {},
   "source": [
    "<h2>1.5 Decision Tree Classifier</h2>"
   ]
  },
  {
   "cell_type": "code",
   "execution_count": 79,
   "id": "34cd12c8",
   "metadata": {},
   "outputs": [
    {
     "data": {
      "text/plain": [
       "GridSearchCV(estimator=DecisionTreeClassifier(),\n",
       "             param_grid={'min_samples_split': [2, 4, 6, 8, 10]}, scoring='f1')"
      ]
     },
     "execution_count": 79,
     "metadata": {},
     "output_type": "execute_result"
    }
   ],
   "source": [
    "params = {'min_samples_split':[2,4,6,8,10]}\n",
    "dtc = DecisionTreeClassifier()\n",
    "clf = GridSearchCV(dtc, params,scoring='f1')\n",
    "clf.fit(df_train,train_labels)"
   ]
  },
  {
   "cell_type": "code",
   "execution_count": 80,
   "id": "32c0cd35",
   "metadata": {},
   "outputs": [
    {
     "data": {
      "text/plain": [
       "array([0.99715991, 0.99716801, 0.99703959, 0.99698843, 0.99682643])"
      ]
     },
     "execution_count": 80,
     "metadata": {},
     "output_type": "execute_result"
    }
   ],
   "source": [
    "clf.cv_results_['mean_test_score']"
   ]
  },
  {
   "cell_type": "code",
   "execution_count": 81,
   "id": "43c387b7",
   "metadata": {},
   "outputs": [
    {
     "data": {
      "image/png": "[encoded data removed]",
      "text/plain": [
       "<Figure size 432x288 with 1 Axes>"
      ]
     },
     "metadata": {
      "needs_background": "light"
     },
     "output_type": "display_data"
    }
   ],
   "source": [
    "plt.plot(params['min_samples_split'],clf.cv_results_['mean_test_score'])\n",
    "plt.scatter(params['min_samples_split'],clf.cv_results_['mean_test_score'])\n",
    "for i in range(len(params['min_samples_split'])):\n",
    "    plt.annotate(round(clf.cv_results_['mean_test_score'][i],4), (params['min_samples_split'][i], clf.cv_results_['mean_test_score'][i]))\n",
    "plt.grid()\n",
    "plt.show()"
   ]
  },
  {
   "cell_type": "code",
   "execution_count": 83,
   "id": "16de1df8",
   "metadata": {},
   "outputs": [],
   "source": [
    "#Getting the best value of the hyper-parameters\n",
    "min_samples_split = clf.cv_results_['params'][np.argmax(clf.cv_results_['mean_test_score'])]['min_samples_split']"
   ]
  },
  {
   "cell_type": "code",
   "execution_count": 87,
   "id": "c4249bf0",
   "metadata": {},
   "outputs": [],
   "source": [
    "dtc = DecisionTreeClassifier(min_samples_split = min_samples_split)\n",
    "dtc.fit(df_train,train_labels)\n",
    "y_pred_dtc_whole = dtc.predict(df_test)"
   ]
  },
  {
   "cell_type": "code",
   "execution_count": 88,
   "id": "a3c742ec",
   "metadata": {},
   "outputs": [
    {
     "data": {
      "text/plain": [
       "array([[8943,  768],\n",
       "       [4077, 8752]], dtype=int64)"
      ]
     },
     "execution_count": 88,
     "metadata": {},
     "output_type": "execute_result"
    }
   ],
   "source": [
    "confusion_matrix(test_labels,y_pred_dtc_whole)"
   ]
  },
  {
   "cell_type": "code",
   "execution_count": 90,
   "id": "87c88d03",
   "metadata": {},
   "outputs": [
    {
     "name": "stdout",
     "output_type": "stream",
     "text": [
      "Test Accuracy:: 0.7850488021295474\n",
      "Test precision:: 0.9193277310924369\n",
      "Test recall:: 0.6822043806999766\n",
      "Test F1:: 0.7832117768132802\n"
     ]
    }
   ],
   "source": [
    "print(\"Test Accuracy::\",accuracy_score(test_labels,y_pred_dtc_whole))\n",
    "print(\"Test precision::\",precision_score(test_labels,y_pred_dtc_whole))\n",
    "print(\"Test recall::\",recall_score(test_labels,y_pred_dtc_whole))\n",
    "print(\"Test F1::\",f1_score(test_labels,y_pred_dtc_whole))"
   ]
  },
  {
   "cell_type": "markdown",
   "id": "fa1ac2b2",
   "metadata": {},
   "source": [
    "<h2>1.6 Random Forest Classifier</h2>"
   ]
  },
  {
   "cell_type": "code",
   "execution_count": 92,
   "id": "15dcba70",
   "metadata": {},
   "outputs": [
    {
     "data": {
      "text/plain": [
       "GridSearchCV(estimator=RandomForestClassifier(),\n",
       "             param_grid={'n_estimators': [100, 500, 1000, 1500, 2000]},\n",
       "             scoring='f1')"
      ]
     },
     "execution_count": 92,
     "metadata": {},
     "output_type": "execute_result"
    }
   ],
   "source": [
    "params = {'n_estimators':[100,500,1000,1500,2000]}\n",
    "rfc = RandomForestClassifier()\n",
    "clf = GridSearchCV(rfc, params,scoring='f1')\n",
    "clf.fit(df_train,train_labels)"
   ]
  },
  {
   "cell_type": "code",
   "execution_count": 93,
   "id": "fe420147",
   "metadata": {},
   "outputs": [
    {
     "data": {
      "text/plain": [
       "array([0.99813066, 0.99821613, 0.99819907, 0.99814782, 0.99816489])"
      ]
     },
     "execution_count": 93,
     "metadata": {},
     "output_type": "execute_result"
    }
   ],
   "source": [
    "clf.cv_results_['mean_test_score']"
   ]
  },
  {
   "cell_type": "code",
   "execution_count": 94,
   "id": "321b5327",
   "metadata": {},
   "outputs": [
    {
     "data": {
      "image/png": "[encoded data removed]",
      "text/plain": [
       "<Figure size 432x288 with 1 Axes>"
      ]
     },
     "metadata": {
      "needs_background": "light"
     },
     "output_type": "display_data"
    }
   ],
   "source": [
    "plt.plot(params['n_estimators'],clf.cv_results_['mean_test_score'])\n",
    "plt.scatter(params['n_estimators'],clf.cv_results_['mean_test_score'])\n",
    "for i in range(len(params['n_estimators'])):\n",
    "    plt.annotate(round(clf.cv_results_['mean_test_score'][i],4), (params['n_estimators'][i], clf.cv_results_['mean_test_score'][i]))\n",
    "plt.grid()\n",
    "plt.show()"
   ]
  },
  {
   "cell_type": "code",
   "execution_count": 95,
   "id": "1b9d9c4c",
   "metadata": {},
   "outputs": [],
   "source": [
    "#Getting the best value of the hyper-parameters\n",
    "n_estimators = clf.cv_results_['params'][np.argmax(clf.cv_results_['mean_test_score'])]['n_estimators']"
   ]
  },
  {
   "cell_type": "code",
   "execution_count": 98,
   "id": "7768c0ef",
   "metadata": {},
   "outputs": [],
   "source": [
    "rfc = RandomForestClassifier(n_estimators = n_estimators)\n",
    "rfc.fit(df_train,train_labels)\n",
    "y_pred_rfc_whole = rfc.predict(df_test)"
   ]
  },
  {
   "cell_type": "code",
   "execution_count": 99,
   "id": "5ce9fd01",
   "metadata": {},
   "outputs": [
    {
     "data": {
      "text/plain": [
       "array([[9443,  268],\n",
       "       [4693, 8136]], dtype=int64)"
      ]
     },
     "execution_count": 99,
     "metadata": {},
     "output_type": "execute_result"
    }
   ],
   "source": [
    "confusion_matrix(test_labels,y_pred_rfc_whole)"
   ]
  },
  {
   "cell_type": "code",
   "execution_count": 100,
   "id": "19ecf6d8",
   "metadata": {},
   "outputs": [
    {
     "name": "stdout",
     "output_type": "stream",
     "text": [
      "Test Accuracy:: 0.779902395740905\n",
      "Test precision:: 0.9681104236078059\n",
      "Test recall:: 0.6341881674331592\n",
      "Test F1:: 0.766354259878491\n"
     ]
    }
   ],
   "source": [
    "print(\"Test Accuracy::\",accuracy_score(test_labels,y_pred_rfc_whole))\n",
    "print(\"Test precision::\",precision_score(test_labels,y_pred_rfc_whole))\n",
    "print(\"Test recall::\",recall_score(test_labels,y_pred_rfc_whole))\n",
    "print(\"Test F1::\",f1_score(test_labels,y_pred_rfc_whole))"
   ]
  },
  {
   "cell_type": "markdown",
   "id": "094d1a92",
   "metadata": {},
   "source": [
    "<h2>1.7 GBDT Classifier</h2>"
   ]
  },
  {
   "cell_type": "code",
   "execution_count": 104,
   "id": "38ae154a",
   "metadata": {},
   "outputs": [
    {
     "data": {
      "text/plain": [
       "GridSearchCV(estimator=GradientBoostingClassifier(),\n",
       "             param_grid={'n_estimators': [100, 500, 1000, 1500, 2000]},\n",
       "             scoring='f1')"
      ]
     },
     "execution_count": 104,
     "metadata": {},
     "output_type": "execute_result"
    }
   ],
   "source": [
    "params = {'n_estimators':[100,500,1000,1500,2000]}\n",
    "gbc = GradientBoostingClassifier()\n",
    "clf = GridSearchCV(gbc, params,scoring='f1')\n",
    "clf.fit(df_train,train_labels)"
   ]
  },
  {
   "cell_type": "code",
   "execution_count": 105,
   "id": "84404a5d",
   "metadata": {},
   "outputs": [
    {
     "data": {
      "text/plain": [
       "array([0.99299052, 0.99707208, 0.99780744, 0.99794412, 0.99796128])"
      ]
     },
     "execution_count": 105,
     "metadata": {},
     "output_type": "execute_result"
    }
   ],
   "source": [
    "clf.cv_results_['mean_test_score']"
   ]
  },
  {
   "cell_type": "code",
   "execution_count": 106,
   "id": "e773905a",
   "metadata": {},
   "outputs": [
    {
     "data": {
      "image/png": "[encoded data removed]",
      "text/plain": [
       "<Figure size 432x288 with 1 Axes>"
      ]
     },
     "metadata": {
      "needs_background": "light"
     },
     "output_type": "display_data"
    }
   ],
   "source": [
    "plt.plot(params['n_estimators'],clf.cv_results_['mean_test_score'])\n",
    "plt.scatter(params['n_estimators'],clf.cv_results_['mean_test_score'])\n",
    "for i in range(len(params['n_estimators'])):\n",
    "    plt.annotate(round(clf.cv_results_['mean_test_score'][i],4), (params['n_estimators'][i], clf.cv_results_['mean_test_score'][i]))\n",
    "plt.grid()\n",
    "plt.show()"
   ]
  },
  {
   "cell_type": "code",
   "execution_count": 107,
   "id": "f22d67d8",
   "metadata": {},
   "outputs": [],
   "source": [
    "#Getting the best value of the hyper-parameters\n",
    "n_estimators = clf.cv_results_['params'][np.argmax(clf.cv_results_['mean_test_score'])]['n_estimators']"
   ]
  },
  {
   "cell_type": "code",
   "execution_count": 108,
   "id": "4473d092",
   "metadata": {},
   "outputs": [],
   "source": [
    "gbc = GradientBoostingClassifier(n_estimators = n_estimators)\n",
    "gbc.fit(df_train,train_labels)\n",
    "y_pred_gbc_whole = gbc.predict(df_test)"
   ]
  },
  {
   "cell_type": "code",
   "execution_count": 109,
   "id": "f2e698cd",
   "metadata": {},
   "outputs": [
    {
     "data": {
      "text/plain": [
       "array([[9375,  336],\n",
       "       [4206, 8623]], dtype=int64)"
      ]
     },
     "execution_count": 109,
     "metadata": {},
     "output_type": "execute_result"
    }
   ],
   "source": [
    "confusion_matrix(test_labels,y_pred_gbc_whole)"
   ]
  },
  {
   "cell_type": "code",
   "execution_count": 131,
   "id": "13da0727",
   "metadata": {},
   "outputs": [
    {
     "name": "stdout",
     "output_type": "stream",
     "text": [
      "Test Accuracy:: 0.79849157054126\n",
      "Test precision:: 0.962495814264985\n",
      "Test recall:: 0.6721490373372827\n",
      "Test F1:: 0.791536625665504\n"
     ]
    }
   ],
   "source": [
    "print(\"Test Accuracy::\",accuracy_score(test_labels,y_pred_gbc_whole))\n",
    "print(\"Test precision::\",precision_score(test_labels,y_pred_gbc_whole))\n",
    "print(\"Test recall::\",recall_score(test_labels,y_pred_gbc_whole))\n",
    "print(\"Test F1::\",f1_score(test_labels,y_pred_gbc_whole))"
   ]
  },
  {
   "cell_type": "markdown",
   "id": "6b70c6b8",
   "metadata": {},
   "source": [
    "<h2>1.8 MLP Classifier</h2>"
   ]
  },
  {
   "cell_type": "code",
   "execution_count": 136,
   "id": "1bc8619b",
   "metadata": {},
   "outputs": [
    {
     "name": "stdout",
     "output_type": "stream",
     "text": [
      "Model: \"sequential_10\"\n",
      "_________________________________________________________________\n",
      "Layer (type)                 Output Shape              Param #   \n",
      "=================================================================\n",
      "dense_58 (Dense)             (None, 6256)              763232    \n",
      "_________________________________________________________________\n",
      "dropout_14 (Dropout)         (None, 6256)              0         \n",
      "_________________________________________________________________\n",
      "dense_59 (Dense)             (None, 256)               1601792   \n",
      "_________________________________________________________________\n",
      "dropout_15 (Dropout)         (None, 256)               0         \n",
      "_________________________________________________________________\n",
      "dense_60 (Dense)             (None, 128)               32896     \n",
      "_________________________________________________________________\n",
      "dropout_16 (Dropout)         (None, 128)               0         \n",
      "_________________________________________________________________\n",
      "dense_61 (Dense)             (None, 128)               16512     \n",
      "_________________________________________________________________\n",
      "dropout_17 (Dropout)         (None, 128)               0         \n",
      "_________________________________________________________________\n",
      "batch_normalization_2 (Batch (None, 128)               512       \n",
      "_________________________________________________________________\n",
      "dense_62 (Dense)             (None, 64)                8256      \n",
      "_________________________________________________________________\n",
      "dropout_18 (Dropout)         (None, 64)                0         \n",
      "_________________________________________________________________\n",
      "dense_63 (Dense)             (None, 1)                 65        \n",
      "=================================================================\n",
      "Total params: 2,423,265\n",
      "Trainable params: 2,423,009\n",
      "Non-trainable params: 256\n",
      "_________________________________________________________________\n",
      "None\n",
      "Epoch 1/20\n",
      "2756/2756 [==============================] - 18s 6ms/step - loss: 0.0640 - accuracy: 0.9784 - val_loss: 0.0287 - val_accuracy: 0.9890\n",
      "Epoch 2/20\n",
      "2756/2756 [==============================] - 18s 6ms/step - loss: 0.0363 - accuracy: 0.9872 - val_loss: 0.0226 - val_accuracy: 0.9923\n",
      "Epoch 3/20\n",
      "2756/2756 [==============================] - 18s 6ms/step - loss: 0.0276 - accuracy: 0.9903 - val_loss: 0.0232 - val_accuracy: 0.9931\n",
      "Epoch 4/20\n",
      "2756/2756 [==============================] - 18s 6ms/step - loss: 0.0249 - accuracy: 0.9913 - val_loss: 0.0193 - val_accuracy: 0.9931\n",
      "Epoch 5/20\n",
      "2756/2756 [==============================] - 17s 6ms/step - loss: 0.0219 - accuracy: 0.9924 - val_loss: 0.0162 - val_accuracy: 0.9945\n",
      "Epoch 6/20\n",
      "2756/2756 [==============================] - 17s 6ms/step - loss: 0.0215 - accuracy: 0.9926 - val_loss: 0.0223 - val_accuracy: 0.9920\n",
      "Epoch 7/20\n",
      "2756/2756 [==============================] - 18s 6ms/step - loss: 0.0183 - accuracy: 0.9937 - val_loss: 0.0186 - val_accuracy: 0.9928\n",
      "Epoch 8/20\n",
      "2756/2756 [==============================] - 18s 7ms/step - loss: 0.0167 - accuracy: 0.9940 - val_loss: 0.0155 - val_accuracy: 0.9943\n",
      "Epoch 9/20\n",
      "2756/2756 [==============================] - 18s 6ms/step - loss: 0.0162 - accuracy: 0.9946 - val_loss: 0.0190 - val_accuracy: 0.9946\n",
      "Epoch 10/20\n",
      "2756/2756 [==============================] - 17s 6ms/step - loss: 0.0156 - accuracy: 0.9945 - val_loss: 0.0267 - val_accuracy: 0.9906\n",
      "Epoch 11/20\n",
      "2756/2756 [==============================] - 17s 6ms/step - loss: 0.0150 - accuracy: 0.9946 - val_loss: 0.0177 - val_accuracy: 0.9935\n",
      "Epoch 12/20\n",
      "2756/2756 [==============================] - 18s 6ms/step - loss: 0.0142 - accuracy: 0.9950 - val_loss: 0.0157 - val_accuracy: 0.9945\n",
      "Epoch 13/20\n",
      "2756/2756 [==============================] - 18s 6ms/step - loss: 0.0133 - accuracy: 0.9954 - val_loss: 0.0188 - val_accuracy: 0.9933\n"
     ]
    }
   ],
   "source": [
    "from tensorflow.keras.callbacks import ModelCheckpoint\n",
    "model = Sequential() \n",
    "model.add(Dense(6256, activation = 'relu',kernel_initializer = 'he_normal',input_shape = (df_train.shape[1],)))  \n",
    "model.add(Dropout(0.2))\n",
    "model.add(Dense(256, activation = 'relu',kernel_initializer = 'he_normal'))  \n",
    "model.add(Dropout(0.2))\n",
    "model.add(Dense(128, activation = 'relu',kernel_initializer = 'he_normal'))  \n",
    "model.add(Dropout(0.2))\n",
    "model.add(Dense(128, activation = 'relu',kernel_initializer = 'he_normal'))  \n",
    "model.add(Dropout(0.2))\n",
    "model.add(BatchNormalization())\n",
    "model.add(Dense(64, activation = 'relu',kernel_initializer = 'he_normal'))  \n",
    "model.add(Dropout(0.2))\n",
    "model.add(Dense(1, activation = 'sigmoid'))\n",
    "print(model.summary())\n",
    "\n",
    "\n",
    "optimizer = Adam(learning_rate=.001)\n",
    "model.compile(loss = 'binary_crossentropy', optimizer = optimizer, metrics = ['accuracy'])\n",
    "\n",
    "history = model.fit(\n",
    "   df_train,train_labels,    \n",
    "   epochs =20, \n",
    "   verbose = 1, \n",
    "   validation_split = 0.3, \n",
    "   callbacks = [EarlyStopping(monitor = 'val_loss', patience = 5)]\n",
    ")"
   ]
  },
  {
   "cell_type": "code",
   "execution_count": 139,
   "id": "b1e60dfc",
   "metadata": {},
   "outputs": [],
   "source": [
    "y_pred_mlp_whole = model.predict_classes(df_test)"
   ]
  },
  {
   "cell_type": "code",
   "execution_count": 140,
   "id": "8f7970e3",
   "metadata": {},
   "outputs": [
    {
     "data": {
      "text/plain": [
       "array([[9428,  283],\n",
       "       [4473, 8356]], dtype=int64)"
      ]
     },
     "execution_count": 140,
     "metadata": {},
     "output_type": "execute_result"
    }
   ],
   "source": [
    "confusion_matrix(test_labels,y_pred_mlp_whole)"
   ]
  },
  {
   "cell_type": "code",
   "execution_count": 141,
   "id": "6539c721",
   "metadata": {},
   "outputs": [
    {
     "name": "stdout",
     "output_type": "stream",
     "text": [
      "Test Accuracy:: 0.7889973380656611\n",
      "Test precision:: 0.9672415788864452\n",
      "Test recall:: 0.6513368150284512\n",
      "Test F1:: 0.7784609651574436\n"
     ]
    }
   ],
   "source": [
    "print(\"Test Accuracy::\",accuracy_score(test_labels,y_pred_mlp_whole))\n",
    "print(\"Test precision::\",precision_score(test_labels,y_pred_mlp_whole))\n",
    "print(\"Test recall::\",recall_score(test_labels,y_pred_mlp_whole))\n",
    "print(\"Test F1::\",f1_score(test_labels,y_pred_mlp_whole))"
   ]
  },
  {
   "cell_type": "markdown",
   "id": "88104a1d",
   "metadata": {},
   "source": [
    "<h2>2. Modelling with manually selected features</h2>"
   ]
  },
  {
   "cell_type": "code",
   "execution_count": 5,
   "id": "5c6d7f28",
   "metadata": {},
   "outputs": [],
   "source": [
    "df_train = pd.read_csv(\"df_train_manual.csv\").drop(columns='Unnamed: 0')\n",
    "df_test = pd.read_csv(\"df_test_manual.csv\").drop(columns='Unnamed: 0')"
   ]
  },
  {
   "cell_type": "markdown",
   "id": "0b1d35e6",
   "metadata": {},
   "source": [
    "<h2>2.1 Naive Bayes Classifier</h2>"
   ]
  },
  {
   "cell_type": "code",
   "execution_count": 145,
   "id": "3e54b56e",
   "metadata": {},
   "outputs": [
    {
     "data": {
      "text/plain": [
       "GridSearchCV(estimator=GaussianNB(),\n",
       "             param_grid={'var_smoothing': [0.001, 0.005, 0.01, 0.05, 0.1]},\n",
       "             scoring='f1')"
      ]
     },
     "execution_count": 145,
     "metadata": {},
     "output_type": "execute_result"
    }
   ],
   "source": [
    "params = {'var_smoothing':[0.001,0.005,0.01,0.05,0.1]}\n",
    "gnb = GaussianNB()\n",
    "clf = GridSearchCV(gnb, params,scoring='f1')\n",
    "clf.fit(df_train,train_labels)"
   ]
  },
  {
   "cell_type": "code",
   "execution_count": 146,
   "id": "8131e0b6",
   "metadata": {},
   "outputs": [
    {
     "data": {
      "text/plain": [
       "array([0.87031441, 0.93961998, 0.94524271, 0.94631405, 0.90870438])"
      ]
     },
     "execution_count": 146,
     "metadata": {},
     "output_type": "execute_result"
    }
   ],
   "source": [
    "clf.cv_results_['mean_test_score']"
   ]
  },
  {
   "cell_type": "code",
   "execution_count": 147,
   "id": "44abef9d",
   "metadata": {},
   "outputs": [
    {
     "data": {
      "image/png": "[encoded data removed]",
      "text/plain": [
       "<Figure size 432x288 with 1 Axes>"
      ]
     },
     "metadata": {
      "needs_background": "light"
     },
     "output_type": "display_data"
    }
   ],
   "source": [
    "plt.plot(params['var_smoothing'],clf.cv_results_['mean_test_score'])\n",
    "plt.scatter(params['var_smoothing'],clf.cv_results_['mean_test_score'])\n",
    "for i in range(len(params['var_smoothing'])):\n",
    "    plt.annotate(round(clf.cv_results_['mean_test_score'][i],4), (params['var_smoothing'][i], clf.cv_results_['mean_test_score'][i]))\n",
    "plt.grid()\n",
    "plt.show()"
   ]
  },
  {
   "cell_type": "code",
   "execution_count": 148,
   "id": "99ecda22",
   "metadata": {},
   "outputs": [],
   "source": [
    "#Getting the best value of the hyper-parameters\n",
    "var_smoothing = clf.cv_results_['params'][np.argmax(clf.cv_results_['mean_test_score'])]['var_smoothing']"
   ]
  },
  {
   "cell_type": "code",
   "execution_count": 149,
   "id": "e6b8f41e",
   "metadata": {},
   "outputs": [],
   "source": [
    "gnb = GaussianNB(var_smoothing = var_smoothing)\n",
    "gnb.fit(df_train,train_labels)\n",
    "y_pred_gnb_manual = gnb.predict(df_test)"
   ]
  },
  {
   "cell_type": "code",
   "execution_count": 150,
   "id": "8f6dd6e4",
   "metadata": {},
   "outputs": [
    {
     "data": {
      "text/plain": [
       "array([[9492,  219],\n",
       "       [5071, 7758]], dtype=int64)"
      ]
     },
     "execution_count": 150,
     "metadata": {},
     "output_type": "execute_result"
    }
   ],
   "source": [
    "confusion_matrix(test_labels,y_pred_gnb_manual)"
   ]
  },
  {
   "cell_type": "code",
   "execution_count": 151,
   "id": "6bafe50d",
   "metadata": {},
   "outputs": [
    {
     "name": "stdout",
     "output_type": "stream",
     "text": [
      "Test Accuracy:: 0.7653061224489796\n",
      "Test precision:: 0.9725460699511095\n",
      "Test recall:: 0.6047236729285214\n",
      "Test F1:: 0.7457464193021243\n"
     ]
    }
   ],
   "source": [
    "print(\"Test Accuracy::\",accuracy_score(test_labels,y_pred_gnb_manual))\n",
    "print(\"Test precision::\",precision_score(test_labels,y_pred_gnb_manual))\n",
    "print(\"Test recall::\",recall_score(test_labels,y_pred_gnb_manual))\n",
    "print(\"Test F1::\",f1_score(test_labels,y_pred_gnb_manual))"
   ]
  },
  {
   "cell_type": "markdown",
   "id": "d703c856",
   "metadata": {},
   "source": [
    "<h2>2.2 KNN Classifier</h2>"
   ]
  },
  {
   "cell_type": "code",
   "execution_count": 152,
   "id": "c18bae2d",
   "metadata": {},
   "outputs": [
    {
     "data": {
      "text/plain": [
       "GridSearchCV(estimator=KNeighborsClassifier(), n_jobs=-1,\n",
       "             param_grid={'n_neighbors': [3, 5, 7, 9, 11]}, scoring='f1')"
      ]
     },
     "execution_count": 152,
     "metadata": {},
     "output_type": "execute_result"
    }
   ],
   "source": [
    "params = {'n_neighbors':[3,5,7,9,11]}\n",
    "knn = KNeighborsClassifier()\n",
    "clf = GridSearchCV(knn, params,scoring='f1', n_jobs=-1)\n",
    "clf.fit(df_train,train_labels)"
   ]
  },
  {
   "cell_type": "code",
   "execution_count": 153,
   "id": "324b1049",
   "metadata": {},
   "outputs": [
    {
     "data": {
      "text/plain": [
       "array([0.9825279 , 0.98250656, 0.98274303, 0.98203837, 0.98174159])"
      ]
     },
     "execution_count": 153,
     "metadata": {},
     "output_type": "execute_result"
    }
   ],
   "source": [
    "clf.cv_results_['mean_test_score']"
   ]
  },
  {
   "cell_type": "code",
   "execution_count": 154,
   "id": "73f18344",
   "metadata": {},
   "outputs": [
    {
     "data": {
      "image/png": "[encoded data removed]",
      "text/plain": [
       "<Figure size 432x288 with 1 Axes>"
      ]
     },
     "metadata": {
      "needs_background": "light"
     },
     "output_type": "display_data"
    }
   ],
   "source": [
    "plt.plot(params['n_neighbors'],clf.cv_results_['mean_test_score'])\n",
    "plt.scatter(params['n_neighbors'],clf.cv_results_['mean_test_score'])\n",
    "for i in range(len(params['n_neighbors'])):\n",
    "    plt.annotate(round(clf.cv_results_['mean_test_score'][i],4), (params['n_neighbors'][i], clf.cv_results_['mean_test_score'][i]))\n",
    "plt.grid()\n",
    "plt.show()"
   ]
  },
  {
   "cell_type": "code",
   "execution_count": 155,
   "id": "cc3a6f46",
   "metadata": {},
   "outputs": [],
   "source": [
    "#Getting the best value of the hyper-parameters\n",
    "n_neighbors = clf.cv_results_['params'][np.argmax(clf.cv_results_['mean_test_score'])]['n_neighbors']"
   ]
  },
  {
   "cell_type": "code",
   "execution_count": 157,
   "id": "4a205bb9",
   "metadata": {},
   "outputs": [],
   "source": [
    "knn = KNeighborsClassifier(n_neighbors = n_neighbors)\n",
    "knn.fit(df_train,train_labels)\n",
    "y_pred_knn_manual = knn.predict(df_test)"
   ]
  },
  {
   "cell_type": "code",
   "execution_count": 158,
   "id": "63c6a83d",
   "metadata": {},
   "outputs": [
    {
     "data": {
      "text/plain": [
       "array([[8914,  797],\n",
       "       [4533, 8296]], dtype=int64)"
      ]
     },
     "execution_count": 158,
     "metadata": {},
     "output_type": "execute_result"
    }
   ],
   "source": [
    "confusion_matrix(test_labels,y_pred_knn_manual)"
   ]
  },
  {
   "cell_type": "code",
   "execution_count": 159,
   "id": "b917e816",
   "metadata": {},
   "outputs": [
    {
     "name": "stdout",
     "output_type": "stream",
     "text": [
      "Test Accuracy:: 0.7635314995563443\n",
      "Test precision:: 0.9123501594633234\n",
      "Test recall:: 0.6466599111388261\n",
      "Test F1:: 0.7568652495210291\n"
     ]
    }
   ],
   "source": [
    "print(\"Test Accuracy::\",accuracy_score(test_labels,y_pred_knn_manual))\n",
    "print(\"Test precision::\",precision_score(test_labels,y_pred_knn_manual))\n",
    "print(\"Test recall::\",recall_score(test_labels,y_pred_knn_manual))\n",
    "print(\"Test F1::\",f1_score(test_labels,y_pred_knn_manual))"
   ]
  },
  {
   "cell_type": "markdown",
   "id": "52fd90e7",
   "metadata": {},
   "source": [
    "<h2>2.3 Logistic Regression Classifier</h2>"
   ]
  },
  {
   "cell_type": "code",
   "execution_count": 161,
   "id": "f674e102",
   "metadata": {},
   "outputs": [
    {
     "name": "stdout",
     "output_type": "stream",
     "text": [
      "The average CV score against the five C values are: [0.9675006  0.96587281 0.96296503 0.95344837 0.8944589 ]\n",
      "**************************************************\n",
      "The plot of C vs F1 score\n"
     ]
    },
    {
     "data": {
      "image/png": "[encoded data removed]",
      "text/plain": [
       "<Figure size 432x288 with 1 Axes>"
      ]
     },
     "metadata": {
      "needs_background": "light"
     },
     "output_type": "display_data"
    },
    {
     "name": "stdout",
     "output_type": "stream",
     "text": [
      "**************************************************\n",
      "The confusion matrix for the test set is\n",
      "[[8961  750]\n",
      " [4942 7887]]\n",
      "Test Accuracy:: 0.7474711623779947\n",
      "Test precision:: 0.9131642931573463\n",
      "Test recall:: 0.6147790162912152\n",
      "Test F1:: 0.734836485605143\n"
     ]
    }
   ],
   "source": [
    "params = {'C':[1,0.1,0.01,0.001,0.0001]}\n",
    "lr = LogisticRegression()\n",
    "clf = GridSearchCV(lr, params,scoring='f1')\n",
    "clf.fit(df_train,train_labels)\n",
    "\n",
    "print(\"The average CV score against the five C values are:\",clf.cv_results_['mean_test_score'])\n",
    "print(\"*\"*50)\n",
    "print(\"The plot of C vs F1 score\")\n",
    "plt.plot(params['C'],clf.cv_results_['mean_test_score'])\n",
    "plt.scatter(params['C'],clf.cv_results_['mean_test_score'])\n",
    "for i in range(len(params['C'])):\n",
    "    plt.annotate(round(clf.cv_results_['mean_test_score'][i],4), (params['C'][i], clf.cv_results_['mean_test_score'][i]))\n",
    "plt.grid()\n",
    "plt.show()\n",
    "print(\"*\"*50)\n",
    "#Getting the best value of the hyper-parameters\n",
    "C = clf.cv_results_['params'][np.argmax(clf.cv_results_['mean_test_score'])]['C']\n",
    "\n",
    "#Training with the best value of the C\n",
    "lr = LogisticRegression(C = C)\n",
    "lr.fit(df_train,train_labels)\n",
    "y_pred_lr_manual = lr.predict(df_test)\n",
    "\n",
    "print(\"The confusion matrix for the test set is\")\n",
    "print(confusion_matrix(test_labels,y_pred_lr_manual))\n",
    "\n",
    "print(\"Test Accuracy::\",accuracy_score(test_labels,y_pred_lr_manual))\n",
    "print(\"Test precision::\",precision_score(test_labels,y_pred_lr_manual))\n",
    "print(\"Test recall::\",recall_score(test_labels,y_pred_lr_manual))\n",
    "print(\"Test F1::\",f1_score(test_labels,y_pred_lr_manual))"
   ]
  },
  {
   "cell_type": "markdown",
   "id": "2d4a75af",
   "metadata": {},
   "source": [
    "<h2>2.4 Support Vector Classifier</h2>"
   ]
  },
  {
   "cell_type": "code",
   "execution_count": 6,
   "id": "3c164a2f",
   "metadata": {},
   "outputs": [
    {
     "name": "stdout",
     "output_type": "stream",
     "text": [
      "The average CV score against the five C values are: [0.9741021  0.97154397 0.96690546 0.94985964 0.88717045]\n",
      "**************************************************\n",
      "The plot of C vs F1 score\n"
     ]
    },
    {
     "data": {
      "image/png": "[encoded data removed]",
      "text/plain": [
       "<Figure size 432x288 with 1 Axes>"
      ]
     },
     "metadata": {
      "needs_background": "light"
     },
     "output_type": "display_data"
    },
    {
     "name": "stdout",
     "output_type": "stream",
     "text": [
      "The confusion matrix for the test set is\n",
      "[[9009  702]\n",
      " [4808 8021]]\n",
      "Test Accuracy:: 0.7555456965394853\n",
      "Test precision:: 0.9195230998509687\n",
      "Test recall:: 0.6252241016447112\n",
      "Test F1:: 0.7443392724573126\n"
     ]
    }
   ],
   "source": [
    "params = {'C':[1,0.1,0.01,0.001,0.0001]}\n",
    "svc = SVC()\n",
    "clf = GridSearchCV(svc, params,scoring='f1')\n",
    "clf.fit(df_train,train_labels)\n",
    "\n",
    "print(\"The average CV score against the five C values are:\",clf.cv_results_['mean_test_score'])\n",
    "print(\"*\"*50)\n",
    "print(\"The plot of C vs F1 score\")\n",
    "plt.plot(params['C'],clf.cv_results_['mean_test_score'])\n",
    "plt.scatter(params['C'],clf.cv_results_['mean_test_score'])\n",
    "for i in range(len(params['C'])):\n",
    "    plt.annotate(round(clf.cv_results_['mean_test_score'][i],4), (params['C'][i], clf.cv_results_['mean_test_score'][i]))\n",
    "plt.grid()\n",
    "plt.show()\n",
    "\n",
    "#Getting the best value of the hyper-parameters\n",
    "C = clf.cv_results_['params'][np.argmax(clf.cv_results_['mean_test_score'])]['C']\n",
    "\n",
    "#Training with the best value of the C\n",
    "svc = SVC(C = C)\n",
    "svc.fit(df_train,train_labels)\n",
    "y_pred_svc_manual = svc.predict(df_test)\n",
    "\n",
    "print(\"The confusion matrix for the test set is\")\n",
    "print(confusion_matrix(test_labels,y_pred_svc_manual))\n",
    "\n",
    "print(\"Test Accuracy::\",accuracy_score(test_labels,y_pred_svc_manual))\n",
    "print(\"Test precision::\",precision_score(test_labels,y_pred_svc_manual))\n",
    "print(\"Test recall::\",recall_score(test_labels,y_pred_svc_manual))\n",
    "print(\"Test F1::\",f1_score(test_labels,y_pred_svc_manual))"
   ]
  },
  {
   "cell_type": "markdown",
   "id": "00f3fd6f",
   "metadata": {},
   "source": [
    "<h2>2.5 Decision Tree Classifier</h2>"
   ]
  },
  {
   "cell_type": "code",
   "execution_count": 163,
   "id": "63e1cbfd",
   "metadata": {},
   "outputs": [
    {
     "name": "stdout",
     "output_type": "stream",
     "text": [
      "The average CV score against the five min_samples_split values are: [0.98318712 0.98340868 0.98321167 0.98339116 0.9834028 ]\n",
      "**************************************************\n",
      "The plot of min_samples_split vs F1 score\n"
     ]
    },
    {
     "data": {
      "image/png": "[encoded data removed]",
      "text/plain": [
       "<Figure size 432x288 with 1 Axes>"
      ]
     },
     "metadata": {
      "needs_background": "light"
     },
     "output_type": "display_data"
    },
    {
     "name": "stdout",
     "output_type": "stream",
     "text": [
      "The confusion matrix for the test set is\n",
      "[[9309  402]\n",
      " [4359 8470]]\n",
      "Test Accuracy:: 0.7887755102040817\n",
      "Test precision:: 0.9546889089269612\n",
      "Test recall:: 0.6602229324187388\n",
      "Test F1:: 0.7806091885166582\n"
     ]
    }
   ],
   "source": [
    "params = {'min_samples_split':[2,4,6,8,10]}\n",
    "dtc = DecisionTreeClassifier()\n",
    "clf = GridSearchCV(dtc, params,scoring='f1')\n",
    "clf.fit(df_train,train_labels)\n",
    "\n",
    "print(\"The average CV score against the five min_samples_split values are:\",clf.cv_results_['mean_test_score'])\n",
    "print(\"*\"*50)\n",
    "print(\"The plot of min_samples_split vs F1 score\")\n",
    "\n",
    "plt.plot(params['min_samples_split'],clf.cv_results_['mean_test_score'])\n",
    "plt.scatter(params['min_samples_split'],clf.cv_results_['mean_test_score'])\n",
    "for i in range(len(params['min_samples_split'])):\n",
    "    plt.annotate(round(clf.cv_results_['mean_test_score'][i],4), (params['min_samples_split'][i], clf.cv_results_['mean_test_score'][i]))\n",
    "plt.grid()\n",
    "plt.show()\n",
    "\n",
    "#Getting the best value of the hyper-parameters\n",
    "min_samples_split = clf.cv_results_['params'][np.argmax(clf.cv_results_['mean_test_score'])]['min_samples_split']\n",
    "\n",
    "dtc = DecisionTreeClassifier(min_samples_split = min_samples_split)\n",
    "dtc.fit(df_train,train_labels)\n",
    "y_pred_dtc_manual = dtc.predict(df_test)\n",
    "\n",
    "\n",
    "print(\"The confusion matrix for the test set is\")\n",
    "print(confusion_matrix(test_labels,y_pred_dtc_manual))\n",
    "\n",
    "print(\"Test Accuracy::\",accuracy_score(test_labels,y_pred_dtc_manual))\n",
    "print(\"Test precision::\",precision_score(test_labels,y_pred_dtc_manual))\n",
    "print(\"Test recall::\",recall_score(test_labels,y_pred_dtc_manual))\n",
    "print(\"Test F1::\",f1_score(test_labels,y_pred_dtc_manual))"
   ]
  },
  {
   "cell_type": "markdown",
   "id": "7239c465",
   "metadata": {},
   "source": [
    "<h2>2.6 Random Forest Classifier</h2>"
   ]
  },
  {
   "cell_type": "code",
   "execution_count": 164,
   "id": "44a082d8",
   "metadata": {},
   "outputs": [
    {
     "name": "stdout",
     "output_type": "stream",
     "text": [
      "The average CV score against the five n_estimators values are: [0.98478452 0.98508385 0.9851428  0.9850765  0.98505833]\n",
      "**************************************************\n",
      "The plot of n_estimators vs F1 score\n"
     ]
    },
    {
     "data": {
      "image/png": "[encoded data removed]",
      "text/plain": [
       "<Figure size 432x288 with 1 Axes>"
      ]
     },
     "metadata": {
      "needs_background": "light"
     },
     "output_type": "display_data"
    },
    {
     "name": "stdout",
     "output_type": "stream",
     "text": [
      "The confusion matrix for the test set is\n",
      "[[9299  412]\n",
      " [4754 8075]]\n",
      "Test Accuracy:: 0.7708074534161491\n",
      "Test precision:: 0.9514551667255803\n",
      "Test recall:: 0.6294333151453738\n",
      "Test F1:: 0.7576468380559205\n"
     ]
    }
   ],
   "source": [
    "params = {'n_estimators':[100,500,1000,1500,2000]}\n",
    "rfc = RandomForestClassifier()\n",
    "clf = GridSearchCV(rfc, params,scoring='f1')\n",
    "clf.fit(df_train,train_labels)\n",
    "\n",
    "print(\"The average CV score against the five n_estimators values are:\",clf.cv_results_['mean_test_score'])\n",
    "print(\"*\"*50)\n",
    "print(\"The plot of n_estimators vs F1 score\")\n",
    "\n",
    "plt.plot(params['n_estimators'],clf.cv_results_['mean_test_score'])\n",
    "plt.scatter(params['n_estimators'],clf.cv_results_['mean_test_score'])\n",
    "for i in range(len(params['n_estimators'])):\n",
    "    plt.annotate(round(clf.cv_results_['mean_test_score'][i],4), (params['n_estimators'][i], clf.cv_results_['mean_test_score'][i]))\n",
    "plt.grid()\n",
    "plt.show()\n",
    "\n",
    "#Getting the best value of the hyper-parameters\n",
    "n_estimators = clf.cv_results_['params'][np.argmax(clf.cv_results_['mean_test_score'])]['n_estimators']\n",
    "\n",
    "rfc = RandomForestClassifier(n_estimators = n_estimators)\n",
    "rfc.fit(df_train,train_labels)\n",
    "y_pred_rfc_manual = rfc.predict(df_test)\n",
    "\n",
    "\n",
    "print(\"The confusion matrix for the test set is\")\n",
    "print(confusion_matrix(test_labels,y_pred_rfc_manual))\n",
    "\n",
    "print(\"Test Accuracy::\",accuracy_score(test_labels,y_pred_rfc_manual))\n",
    "print(\"Test precision::\",precision_score(test_labels,y_pred_rfc_manual))\n",
    "print(\"Test recall::\",recall_score(test_labels,y_pred_rfc_manual))\n",
    "print(\"Test F1::\",f1_score(test_labels,y_pred_rfc_manual))"
   ]
  },
  {
   "cell_type": "markdown",
   "id": "00388d1f",
   "metadata": {},
   "source": [
    "<h2>2.7 GBDT Classifier</h2>\n"
   ]
  },
  {
   "cell_type": "code",
   "execution_count": 166,
   "id": "880fcdd7",
   "metadata": {},
   "outputs": [
    {
     "name": "stdout",
     "output_type": "stream",
     "text": [
      "The average CV score against the five n_estimators values are: [0.97299039 0.98271245 0.98385203 0.98433207 0.98471782]\n",
      "**************************************************\n",
      "The plot of n_estimators vs F1 score\n"
     ]
    },
    {
     "data": {
      "image/png": "[encoded data removed]",
      "text/plain": [
       "<Figure size 432x288 with 1 Axes>"
      ]
     },
     "metadata": {
      "needs_background": "light"
     },
     "output_type": "display_data"
    },
    {
     "name": "stdout",
     "output_type": "stream",
     "text": [
      "The confusion matrix for the test set is\n",
      "[[9388  323]\n",
      " [4438 8391]]\n",
      "Test Accuracy:: 0.7887755102040817\n",
      "Test precision:: 0.9629332109249483\n",
      "Test recall:: 0.6540650089640658\n",
      "Test F1:: 0.779000139256371\n"
     ]
    }
   ],
   "source": [
    "\n",
    "params = {'n_estimators':[100,500,1000,1500,2000]}\n",
    "gbc = GradientBoostingClassifier()\n",
    "clf = GridSearchCV(gbc, params,scoring='f1')\n",
    "clf.fit(df_train,train_labels)\n",
    "\n",
    "print(\"The average CV score against the five n_estimators values are:\",clf.cv_results_['mean_test_score'])\n",
    "print(\"*\"*50)\n",
    "print(\"The plot of n_estimators vs F1 score\")\n",
    "\n",
    "plt.plot(params['n_estimators'],clf.cv_results_['mean_test_score'])\n",
    "plt.scatter(params['n_estimators'],clf.cv_results_['mean_test_score'])\n",
    "for i in range(len(params['n_estimators'])):\n",
    "    plt.annotate(round(clf.cv_results_['mean_test_score'][i],4), (params['n_estimators'][i], clf.cv_results_['mean_test_score'][i]))\n",
    "plt.grid()\n",
    "plt.show()\n",
    "\n",
    "#Getting the best value of the hyper-parameters\n",
    "n_estimators = clf.cv_results_['params'][np.argmax(clf.cv_results_['mean_test_score'])]['n_estimators']\n",
    "\n",
    "gbc = GradientBoostingClassifier(n_estimators = n_estimators)\n",
    "gbc.fit(df_train,train_labels)\n",
    "y_pred_gbc_manual = gbc.predict(df_test)\n",
    "\n",
    "print(\"The confusion matrix for the test set is\")\n",
    "print(confusion_matrix(test_labels,y_pred_gbc_manual))\n",
    "\n",
    "print(\"Test Accuracy::\",accuracy_score(test_labels,y_pred_gbc_manual))\n",
    "print(\"Test precision::\",precision_score(test_labels,y_pred_gbc_manual))\n",
    "print(\"Test recall::\",recall_score(test_labels,y_pred_gbc_manual))\n",
    "print(\"Test F1::\",f1_score(test_labels,y_pred_gbc_manual))"
   ]
  },
  {
   "cell_type": "markdown",
   "id": "e375a287",
   "metadata": {},
   "source": [
    "<h2>2.8 MLP Classifier</h2>"
   ]
  },
  {
   "cell_type": "code",
   "execution_count": 167,
   "id": "69a1ac89",
   "metadata": {},
   "outputs": [
    {
     "name": "stdout",
     "output_type": "stream",
     "text": [
      "Model: \"sequential_11\"\n",
      "_________________________________________________________________\n",
      "Layer (type)                 Output Shape              Param #   \n",
      "=================================================================\n",
      "dense_64 (Dense)             (None, 6256)              550528    \n",
      "_________________________________________________________________\n",
      "dropout_19 (Dropout)         (None, 6256)              0         \n",
      "_________________________________________________________________\n",
      "dense_65 (Dense)             (None, 256)               1601792   \n",
      "_________________________________________________________________\n",
      "dropout_20 (Dropout)         (None, 256)               0         \n",
      "_________________________________________________________________\n",
      "dense_66 (Dense)             (None, 128)               32896     \n",
      "_________________________________________________________________\n",
      "dropout_21 (Dropout)         (None, 128)               0         \n",
      "_________________________________________________________________\n",
      "dense_67 (Dense)             (None, 128)               16512     \n",
      "_________________________________________________________________\n",
      "dropout_22 (Dropout)         (None, 128)               0         \n",
      "_________________________________________________________________\n",
      "batch_normalization_3 (Batch (None, 128)               512       \n",
      "_________________________________________________________________\n",
      "dense_68 (Dense)             (None, 64)                8256      \n",
      "_________________________________________________________________\n",
      "dropout_23 (Dropout)         (None, 64)                0         \n",
      "_________________________________________________________________\n",
      "dense_69 (Dense)             (None, 1)                 65        \n",
      "=================================================================\n",
      "Total params: 2,210,561\n",
      "Trainable params: 2,210,305\n",
      "Non-trainable params: 256\n",
      "_________________________________________________________________\n",
      "None\n",
      "Epoch 1/20\n",
      "2756/2756 [==============================] - 18s 6ms/step - loss: 0.0961 - accuracy: 0.9698 - val_loss: 0.0807 - val_accuracy: 0.9707\n",
      "Epoch 2/20\n",
      "2756/2756 [==============================] - 17s 6ms/step - loss: 0.0759 - accuracy: 0.9755 - val_loss: 0.0667 - val_accuracy: 0.9771\n",
      "Epoch 3/20\n",
      "2756/2756 [==============================] - 18s 7ms/step - loss: 0.0723 - accuracy: 0.9767 - val_loss: 0.0653 - val_accuracy: 0.9780\n",
      "Epoch 4/20\n",
      "2756/2756 [==============================] - 17s 6ms/step - loss: 0.0698 - accuracy: 0.9783 - val_loss: 0.0623 - val_accuracy: 0.9788\n",
      "Epoch 5/20\n",
      "2756/2756 [==============================] - 18s 6ms/step - loss: 0.0670 - accuracy: 0.9781 - val_loss: 0.0587 - val_accuracy: 0.9810\n",
      "Epoch 6/20\n",
      "2756/2756 [==============================] - 17s 6ms/step - loss: 0.0658 - accuracy: 0.9784 - val_loss: 0.0592 - val_accuracy: 0.9791\n",
      "Epoch 7/20\n",
      "2756/2756 [==============================] - 17s 6ms/step - loss: 0.0644 - accuracy: 0.9792 - val_loss: 0.0601 - val_accuracy: 0.9799\n",
      "Epoch 8/20\n",
      "2756/2756 [==============================] - 18s 6ms/step - loss: 0.0642 - accuracy: 0.9793 - val_loss: 0.0590 - val_accuracy: 0.9800\n",
      "Epoch 9/20\n",
      "2756/2756 [==============================] - 17s 6ms/step - loss: 0.0628 - accuracy: 0.9797 - val_loss: 0.0600 - val_accuracy: 0.9800\n",
      "Epoch 10/20\n",
      "2756/2756 [==============================] - 20s 7ms/step - loss: 0.0619 - accuracy: 0.9800 - val_loss: 0.0612 - val_accuracy: 0.9803\n",
      "The confusion matrix for the test set is\n",
      "[[8983  728]\n",
      " [4543 8286]]\n",
      "Test Accuracy:: 0.7661490683229814\n",
      "Test precision:: 0.9192367428444642\n",
      "Test recall:: 0.6458804271572219\n",
      "Test F1:: 0.7586869935448427\n"
     ]
    }
   ],
   "source": [
    "from tensorflow.keras.callbacks import ModelCheckpoint\n",
    "model = Sequential() \n",
    "model.add(Dense(6256, activation = 'relu',kernel_initializer = 'he_normal',input_shape = (df_train.shape[1],)))  \n",
    "model.add(Dropout(0.2))\n",
    "model.add(Dense(256, activation = 'relu',kernel_initializer = 'he_normal'))  \n",
    "model.add(Dropout(0.2))\n",
    "model.add(Dense(128, activation = 'relu',kernel_initializer = 'he_normal'))  \n",
    "model.add(Dropout(0.2))\n",
    "model.add(Dense(128, activation = 'relu',kernel_initializer = 'he_normal'))  \n",
    "model.add(Dropout(0.2))\n",
    "model.add(BatchNormalization())\n",
    "model.add(Dense(64, activation = 'relu',kernel_initializer = 'he_normal'))  \n",
    "model.add(Dropout(0.2))\n",
    "model.add(Dense(1, activation = 'sigmoid'))\n",
    "print(model.summary())\n",
    "\n",
    "\n",
    "optimizer = Adam(learning_rate=.001)\n",
    "model.compile(loss = 'binary_crossentropy', optimizer = optimizer, metrics = ['accuracy'])\n",
    "\n",
    "history = model.fit(\n",
    "   df_train,train_labels,    \n",
    "   epochs =20, \n",
    "   verbose = 1, \n",
    "   validation_split = 0.3, \n",
    "   callbacks = [EarlyStopping(monitor = 'val_loss', patience = 5)]\n",
    ")\n",
    "\n",
    "y_pred_mlp_manual = model.predict_classes(df_test)\n",
    "\n",
    "print(\"The confusion matrix for the test set is\")\n",
    "print(confusion_matrix(test_labels,y_pred_mlp_manual))\n",
    "\n",
    "print(\"Test Accuracy::\",accuracy_score(test_labels,y_pred_mlp_manual))\n",
    "print(\"Test precision::\",precision_score(test_labels,y_pred_mlp_manual))\n",
    "print(\"Test recall::\",recall_score(test_labels,y_pred_mlp_manual))\n",
    "print(\"Test F1::\",f1_score(test_labels,y_pred_mlp_manual))"
   ]
  },
  {
   "cell_type": "markdown",
   "id": "6926c25c",
   "metadata": {},
   "source": [
    "<h2>3. Modelling with features selected through Chi-squared and Anova test</h2>"
   ]
  },
  {
   "cell_type": "code",
   "execution_count": 4,
   "id": "b2ea5209",
   "metadata": {},
   "outputs": [],
   "source": [
    "df_train = pd.read_csv(\"df_train_chi_anova.csv\").drop(columns='Unnamed: 0')\n",
    "df_test = pd.read_csv(\"df_test_chi_anova.csv\").drop(columns='Unnamed: 0')"
   ]
  },
  {
   "cell_type": "markdown",
   "id": "aad1c6c0",
   "metadata": {},
   "source": [
    "<h2>3.1 Naive Bayes Classifier</h2>"
   ]
  },
  {
   "cell_type": "code",
   "execution_count": 8,
   "id": "4c2f8427",
   "metadata": {},
   "outputs": [
    {
     "name": "stdout",
     "output_type": "stream",
     "text": [
      "The average CV score against the five var_smoothing values are: [0.89181959 0.94117843 0.94656438 0.94003859 0.90779114]\n",
      "**************************************************\n",
      "The plot of var_smoothing vs F1 score\n"
     ]
    },
    {
     "data": {
      "image/png": "[encoded data removed]",
      "text/plain": [
       "<Figure size 432x288 with 1 Axes>"
      ]
     },
     "metadata": {
      "needs_background": "light"
     },
     "output_type": "display_data"
    },
    {
     "name": "stdout",
     "output_type": "stream",
     "text": [
      "The confusion matrix for the test set is\n",
      "[[9555  156]\n",
      " [4443 8386]]\n",
      "Test Accuracy:: 0.7959627329192547\n",
      "Test precision:: 0.9817372980566612\n",
      "Test recall:: 0.6536752669732637\n",
      "Test F1:: 0.7848018342613823\n"
     ]
    }
   ],
   "source": [
    "params = {'var_smoothing':[0.001,0.005,0.01,0.05,0.1]}\n",
    "gnb = GaussianNB()\n",
    "clf = GridSearchCV(gnb, params,scoring='f1')\n",
    "clf.fit(df_train,train_labels)\n",
    "\n",
    "print(\"The average CV score against the five var_smoothing values are:\",clf.cv_results_['mean_test_score'])\n",
    "print(\"*\"*50)\n",
    "print(\"The plot of var_smoothing vs F1 score\")\n",
    "\n",
    "plt.plot(params['var_smoothing'],clf.cv_results_['mean_test_score'])\n",
    "plt.scatter(params['var_smoothing'],clf.cv_results_['mean_test_score'])\n",
    "for i in range(len(params['var_smoothing'])):\n",
    "    plt.annotate(round(clf.cv_results_['mean_test_score'][i],4), (params['var_smoothing'][i], clf.cv_results_['mean_test_score'][i]))\n",
    "plt.grid()\n",
    "plt.show()\n",
    "\n",
    "#Getting the best value of the hyper-parameters\n",
    "var_smoothing = clf.cv_results_['params'][np.argmax(clf.cv_results_['mean_test_score'])]['var_smoothing']\n",
    "\n",
    "gnb = GaussianNB(var_smoothing = var_smoothing)\n",
    "gnb.fit(df_train,train_labels)\n",
    "y_pred_gnb_chi_anova = gnb.predict(df_test)\n",
    "\n",
    "print(\"The confusion matrix for the test set is\")\n",
    "print(confusion_matrix(test_labels,y_pred_gnb_chi_anova))\n",
    "\n",
    "print(\"Test Accuracy::\",accuracy_score(test_labels,y_pred_gnb_chi_anova))\n",
    "print(\"Test precision::\",precision_score(test_labels,y_pred_gnb_chi_anova))\n",
    "print(\"Test recall::\",recall_score(test_labels,y_pred_gnb_chi_anova))\n",
    "print(\"Test F1::\",f1_score(test_labels,y_pred_gnb_chi_anova))"
   ]
  },
  {
   "cell_type": "markdown",
   "id": "c6be7e51",
   "metadata": {},
   "source": [
    "<h2>3.2 KNN Classifier</h2>"
   ]
  },
  {
   "cell_type": "code",
   "execution_count": 9,
   "id": "2b085ac8",
   "metadata": {},
   "outputs": [
    {
     "name": "stdout",
     "output_type": "stream",
     "text": [
      "The average CV score against the five n_neighbors values are: [0.99051606 0.9899813  0.98951613 0.98861798 0.9878634 ]\n",
      "**************************************************\n",
      "The plot of n_neighbors vs F1 score\n"
     ]
    },
    {
     "data": {
      "image/png": "[encoded data removed]",
      "text/plain": [
       "<Figure size 432x288 with 1 Axes>"
      ]
     },
     "metadata": {
      "needs_background": "light"
     },
     "output_type": "display_data"
    },
    {
     "name": "stdout",
     "output_type": "stream",
     "text": [
      "Test Accuracy:: 0.7856699201419698\n",
      "Test precision:: 0.9205047318611987\n",
      "Test recall:: 0.6823602774962975\n",
      "Test F1:: 0.7837414387394244\n"
     ]
    }
   ],
   "source": [
    "params = {'n_neighbors':[3,5,7,9,11]}\n",
    "knn = KNeighborsClassifier()\n",
    "clf = GridSearchCV(knn, params,scoring='f1', n_jobs=-1)\n",
    "clf.fit(df_train,train_labels)\n",
    "\n",
    "print(\"The average CV score against the five n_neighbors values are:\",clf.cv_results_['mean_test_score'])\n",
    "print(\"*\"*50)\n",
    "print(\"The plot of n_neighbors vs F1 score\")\n",
    "\n",
    "plt.plot(params['n_neighbors'],clf.cv_results_['mean_test_score'])\n",
    "plt.scatter(params['n_neighbors'],clf.cv_results_['mean_test_score'])\n",
    "for i in range(len(params['n_neighbors'])):\n",
    "    plt.annotate(round(clf.cv_results_['mean_test_score'][i],4), (params['n_neighbors'][i], clf.cv_results_['mean_test_score'][i]))\n",
    "plt.grid()\n",
    "plt.show()\n",
    "\n",
    "#Getting the best value of the hyper-parameters\n",
    "n_neighbors = clf.cv_results_['params'][np.argmax(clf.cv_results_['mean_test_score'])]['n_neighbors']\n",
    "\n",
    "knn = KNeighborsClassifier(n_neighbors = n_neighbors)\n",
    "knn.fit(df_train,train_labels)\n",
    "y_pred_knn_chi_anova = knn.predict(df_test)\n",
    "\n",
    "confusion_matrix(test_labels,y_pred_knn_chi_anova)\n",
    "\n",
    "print(\"Test Accuracy::\",accuracy_score(test_labels,y_pred_knn_chi_anova))\n",
    "print(\"Test precision::\",precision_score(test_labels,y_pred_knn_chi_anova))\n",
    "print(\"Test recall::\",recall_score(test_labels,y_pred_knn_chi_anova))\n",
    "print(\"Test F1::\",f1_score(test_labels,y_pred_knn_chi_anova))"
   ]
  },
  {
   "cell_type": "markdown",
   "id": "7f7282cb",
   "metadata": {},
   "source": [
    "<h2>3.3 Logistic Regression Classifier</h2>"
   ]
  },
  {
   "cell_type": "code",
   "execution_count": 10,
   "id": "97992155",
   "metadata": {},
   "outputs": [
    {
     "name": "stdout",
     "output_type": "stream",
     "text": [
      "The average CV score against the five C values are: [0.966318   0.96570794 0.96350806 0.95673421 0.89663425]\n",
      "**************************************************\n",
      "The plot of C vs F1 score\n"
     ]
    },
    {
     "data": {
      "image/png": "[encoded data removed]",
      "text/plain": [
       "<Figure size 432x288 with 1 Axes>"
      ]
     },
     "metadata": {
      "needs_background": "light"
     },
     "output_type": "display_data"
    },
    {
     "name": "stdout",
     "output_type": "stream",
     "text": [
      "**************************************************\n",
      "The confusion matrix for the test set is\n",
      "[[8955  756]\n",
      " [4724 8105]]\n",
      "Test Accuracy:: 0.7568766637089619\n",
      "Test precision:: 0.9146823157657149\n",
      "Test recall:: 0.6317717670901863\n",
      "Test F1:: 0.7473490087597972\n"
     ]
    }
   ],
   "source": [
    "params = {'C':[1,0.1,0.01,0.001,0.0001]}\n",
    "lr = LogisticRegression()\n",
    "clf = GridSearchCV(lr, params,scoring='f1')\n",
    "clf.fit(df_train,train_labels)\n",
    "\n",
    "print(\"The average CV score against the five C values are:\",clf.cv_results_['mean_test_score'])\n",
    "print(\"*\"*50)\n",
    "print(\"The plot of C vs F1 score\")\n",
    "plt.plot(params['C'],clf.cv_results_['mean_test_score'])\n",
    "plt.scatter(params['C'],clf.cv_results_['mean_test_score'])\n",
    "for i in range(len(params['C'])):\n",
    "    plt.annotate(round(clf.cv_results_['mean_test_score'][i],4), (params['C'][i], clf.cv_results_['mean_test_score'][i]))\n",
    "plt.grid()\n",
    "plt.show()\n",
    "print(\"*\"*50)\n",
    "#Getting the best value of the hyper-parameters\n",
    "C = clf.cv_results_['params'][np.argmax(clf.cv_results_['mean_test_score'])]['C']\n",
    "\n",
    "#Training with the best value of the C\n",
    "lr = LogisticRegression(C = C)\n",
    "lr.fit(df_train,train_labels)\n",
    "y_pred_lr_chi_anova = lr.predict(df_test)\n",
    "\n",
    "print(\"The confusion matrix for the test set is\")\n",
    "print(confusion_matrix(test_labels,y_pred_lr_chi_anova))\n",
    "\n",
    "print(\"Test Accuracy::\",accuracy_score(test_labels,y_pred_lr_chi_anova))\n",
    "print(\"Test precision::\",precision_score(test_labels,y_pred_lr_chi_anova))\n",
    "print(\"Test recall::\",recall_score(test_labels,y_pred_lr_chi_anova))\n",
    "print(\"Test F1::\",f1_score(test_labels,y_pred_lr_chi_anova))"
   ]
  },
  {
   "cell_type": "markdown",
   "id": "f9399fa9",
   "metadata": {},
   "source": [
    "<h2>3.4 Support Vector Classifier</h2>"
   ]
  },
  {
   "cell_type": "code",
   "execution_count": 5,
   "id": "17de06db",
   "metadata": {},
   "outputs": [
    {
     "name": "stdout",
     "output_type": "stream",
     "text": [
      "The average CV score against the five C values are: [0.97769577 0.97243356 0.9639732  0.94962907 0.88487246]\n",
      "**************************************************\n",
      "The plot of C vs F1 score\n"
     ]
    },
    {
     "data": {
      "image/png": "[encoded data removed]",
      "text/plain": [
       "<Figure size 432x288 with 1 Axes>"
      ]
     },
     "metadata": {
      "needs_background": "light"
     },
     "output_type": "display_data"
    },
    {
     "name": "stdout",
     "output_type": "stream",
     "text": [
      "The confusion matrix for the test set is\n",
      "[[9014  697]\n",
      " [4834 7995]]\n",
      "Test Accuracy:: 0.7546140195208518\n",
      "Test precision:: 0.9198113207547169\n",
      "Test recall:: 0.6231974432925403\n",
      "Test F1:: 0.7429952139770457\n"
     ]
    }
   ],
   "source": [
    "params = {'C':[1,0.1,0.01,0.001,0.0001]}\n",
    "svc = SVC()\n",
    "clf = GridSearchCV(svc, params,scoring='f1')\n",
    "clf.fit(df_train,train_labels)\n",
    "\n",
    "print(\"The average CV score against the five C values are:\",clf.cv_results_['mean_test_score'])\n",
    "print(\"*\"*50)\n",
    "print(\"The plot of C vs F1 score\")\n",
    "plt.plot(params['C'],clf.cv_results_['mean_test_score'])\n",
    "plt.scatter(params['C'],clf.cv_results_['mean_test_score'])\n",
    "for i in range(len(params['C'])):\n",
    "    plt.annotate(round(clf.cv_results_['mean_test_score'][i],4), (params['C'][i], clf.cv_results_['mean_test_score'][i]))\n",
    "plt.grid()\n",
    "plt.show()\n",
    "\n",
    "#Getting the best value of the hyper-parameters\n",
    "C = clf.cv_results_['params'][np.argmax(clf.cv_results_['mean_test_score'])]['C']\n",
    "\n",
    "#Training with the best value of the C\n",
    "svc = SVC(C = C)\n",
    "svc.fit(df_train,train_labels)\n",
    "y_pred_svc_chi_anova = svc.predict(df_test)\n",
    "\n",
    "print(\"The confusion matrix for the test set is\")\n",
    "print(confusion_matrix(test_labels,y_pred_svc_chi_anova))\n",
    "\n",
    "print(\"Test Accuracy::\",accuracy_score(test_labels,y_pred_svc_chi_anova))\n",
    "print(\"Test precision::\",precision_score(test_labels,y_pred_svc_chi_anova))\n",
    "print(\"Test recall::\",recall_score(test_labels,y_pred_svc_chi_anova))\n",
    "print(\"Test F1::\",f1_score(test_labels,y_pred_svc_chi_anova))"
   ]
  },
  {
   "cell_type": "markdown",
   "id": "a0c9acb3",
   "metadata": {},
   "source": [
    "<h2>3.5 Decision Tree Classifier</h2>"
   ]
  },
  {
   "cell_type": "code",
   "execution_count": 11,
   "id": "cd0914b0",
   "metadata": {},
   "outputs": [
    {
     "name": "stdout",
     "output_type": "stream",
     "text": [
      "The average CV score against the five min_samples_split values are: [0.99039987 0.99033946 0.99057015 0.99059914 0.99046144]\n",
      "**************************************************\n",
      "The plot of min_samples_split vs F1 score\n"
     ]
    },
    {
     "data": {
      "image/png": "[encoded data removed]",
      "text/plain": [
       "<Figure size 432x288 with 1 Axes>"
      ]
     },
     "metadata": {
      "needs_background": "light"
     },
     "output_type": "display_data"
    },
    {
     "name": "stdout",
     "output_type": "stream",
     "text": [
      "The confusion matrix for the test set is\n",
      "[[9398  313]\n",
      " [4180 8649]]\n",
      "Test Accuracy:: 0.8006654835847382\n",
      "Test precision:: 0.9650747600981924\n",
      "Test recall:: 0.6741756956894536\n",
      "Test F1:: 0.7938139598916985\n"
     ]
    }
   ],
   "source": [
    "params = {'min_samples_split':[2,4,6,8,10]}\n",
    "dtc = DecisionTreeClassifier()\n",
    "clf = GridSearchCV(dtc, params,scoring='f1')\n",
    "clf.fit(df_train,train_labels)\n",
    "\n",
    "print(\"The average CV score against the five min_samples_split values are:\",clf.cv_results_['mean_test_score'])\n",
    "print(\"*\"*50)\n",
    "print(\"The plot of min_samples_split vs F1 score\")\n",
    "\n",
    "plt.plot(params['min_samples_split'],clf.cv_results_['mean_test_score'])\n",
    "plt.scatter(params['min_samples_split'],clf.cv_results_['mean_test_score'])\n",
    "for i in range(len(params['min_samples_split'])):\n",
    "    plt.annotate(round(clf.cv_results_['mean_test_score'][i],4), (params['min_samples_split'][i], clf.cv_results_['mean_test_score'][i]))\n",
    "plt.grid()\n",
    "plt.show()\n",
    "\n",
    "#Getting the best value of the hyper-parameters\n",
    "min_samples_split = clf.cv_results_['params'][np.argmax(clf.cv_results_['mean_test_score'])]['min_samples_split']\n",
    "\n",
    "dtc = DecisionTreeClassifier(min_samples_split = min_samples_split)\n",
    "dtc.fit(df_train,train_labels)\n",
    "y_pred_dtc_chi_anova = dtc.predict(df_test)\n",
    "\n",
    "\n",
    "print(\"The confusion matrix for the test set is\")\n",
    "print(confusion_matrix(test_labels,y_pred_dtc_chi_anova))\n",
    "\n",
    "print(\"Test Accuracy::\",accuracy_score(test_labels,y_pred_dtc_chi_anova))\n",
    "print(\"Test precision::\",precision_score(test_labels,y_pred_dtc_chi_anova))\n",
    "print(\"Test recall::\",recall_score(test_labels,y_pred_dtc_chi_anova))\n",
    "print(\"Test F1::\",f1_score(test_labels,y_pred_dtc_chi_anova))\n",
    "\n"
   ]
  },
  {
   "cell_type": "markdown",
   "id": "93d6d68b",
   "metadata": {},
   "source": [
    "<h2>3.6 Random Forest Classifier</h2>"
   ]
  },
  {
   "cell_type": "code",
   "execution_count": 12,
   "id": "02c063b8",
   "metadata": {},
   "outputs": [
    {
     "name": "stdout",
     "output_type": "stream",
     "text": [
      "The average CV score against the five n_estimators values are: [0.99157749 0.99184994 0.99176489 0.99181564 0.99183321]\n",
      "**************************************************\n",
      "The plot of n_estimators vs F1 score\n"
     ]
    },
    {
     "data": {
      "image/png": "[encoded data removed]",
      "text/plain": [
       "<Figure size 432x288 with 1 Axes>"
      ]
     },
     "metadata": {
      "needs_background": "light"
     },
     "output_type": "display_data"
    },
    {
     "name": "stdout",
     "output_type": "stream",
     "text": [
      "The confusion matrix for the test set is\n",
      "[[9409  302]\n",
      " [4631 8198]]\n",
      "Test Accuracy:: 0.7811446317657498\n",
      "Test precision:: 0.9644705882352941\n",
      "Test recall:: 0.6390209681191051\n",
      "Test F1:: 0.7687186459749636\n"
     ]
    }
   ],
   "source": [
    "params = {'n_estimators':[100,500,1000,1500,2000]}\n",
    "rfc = RandomForestClassifier()\n",
    "clf = GridSearchCV(rfc, params,scoring='f1')\n",
    "clf.fit(df_train,train_labels)\n",
    "\n",
    "print(\"The average CV score against the five n_estimators values are:\",clf.cv_results_['mean_test_score'])\n",
    "print(\"*\"*50)\n",
    "print(\"The plot of n_estimators vs F1 score\")\n",
    "\n",
    "plt.plot(params['n_estimators'],clf.cv_results_['mean_test_score'])\n",
    "plt.scatter(params['n_estimators'],clf.cv_results_['mean_test_score'])\n",
    "for i in range(len(params['n_estimators'])):\n",
    "    plt.annotate(round(clf.cv_results_['mean_test_score'][i],4), (params['n_estimators'][i], clf.cv_results_['mean_test_score'][i]))\n",
    "plt.grid()\n",
    "plt.show()\n",
    "\n",
    "#Getting the best value of the hyper-parameters\n",
    "n_estimators = clf.cv_results_['params'][np.argmax(clf.cv_results_['mean_test_score'])]['n_estimators']\n",
    "\n",
    "rfc = RandomForestClassifier(n_estimators = n_estimators)\n",
    "rfc.fit(df_train,train_labels)\n",
    "y_pred_rfc_chi_anova = rfc.predict(df_test)\n",
    "\n",
    "\n",
    "print(\"The confusion matrix for the test set is\")\n",
    "print(confusion_matrix(test_labels,y_pred_rfc_chi_anova))\n",
    "\n",
    "print(\"Test Accuracy::\",accuracy_score(test_labels,y_pred_rfc_chi_anova))\n",
    "print(\"Test precision::\",precision_score(test_labels,y_pred_rfc_chi_anova))\n",
    "print(\"Test recall::\",recall_score(test_labels,y_pred_rfc_chi_anova))\n",
    "print(\"Test F1::\",f1_score(test_labels,y_pred_rfc_chi_anova))\n",
    "\n"
   ]
  },
  {
   "cell_type": "markdown",
   "id": "4ccac6ab",
   "metadata": {},
   "source": [
    "<h2>3.7 GBDT Classifier</h2>"
   ]
  },
  {
   "cell_type": "code",
   "execution_count": 13,
   "id": "d31a67fd",
   "metadata": {},
   "outputs": [
    {
     "name": "stdout",
     "output_type": "stream",
     "text": [
      "The average CV score against the five n_estimators values are: [0.97860248 0.98876939 0.99054957 0.99109729 0.99140767]\n",
      "**************************************************\n",
      "The plot of n_estimators vs F1 score\n"
     ]
    },
    {
     "data": {
      "image/png": "[encoded data removed]",
      "text/plain": [
       "<Figure size 432x288 with 1 Axes>"
      ]
     },
     "metadata": {
      "needs_background": "light"
     },
     "output_type": "display_data"
    },
    {
     "name": "stdout",
     "output_type": "stream",
     "text": [
      "The confusion matrix for the test set is\n",
      "[[9397  314]\n",
      " [4175 8654]]\n",
      "Test Accuracy:: 0.8008429458740017\n",
      "Test precision:: 0.9649866190900981\n",
      "Test recall:: 0.6745654376802557\n",
      "Test F1:: 0.7940542276460063\n"
     ]
    }
   ],
   "source": [
    "params = {'n_estimators':[100,500,1000,1500,2000]}\n",
    "gbc = GradientBoostingClassifier()\n",
    "clf = GridSearchCV(gbc, params,scoring='f1')\n",
    "clf.fit(df_train,train_labels)\n",
    "\n",
    "print(\"The average CV score against the five n_estimators values are:\",clf.cv_results_['mean_test_score'])\n",
    "print(\"*\"*50)\n",
    "print(\"The plot of n_estimators vs F1 score\")\n",
    "\n",
    "plt.plot(params['n_estimators'],clf.cv_results_['mean_test_score'])\n",
    "plt.scatter(params['n_estimators'],clf.cv_results_['mean_test_score'])\n",
    "for i in range(len(params['n_estimators'])):\n",
    "    plt.annotate(round(clf.cv_results_['mean_test_score'][i],4), (params['n_estimators'][i], clf.cv_results_['mean_test_score'][i]))\n",
    "plt.grid()\n",
    "plt.show()\n",
    "\n",
    "#Getting the best value of the hyper-parameters\n",
    "n_estimators = clf.cv_results_['params'][np.argmax(clf.cv_results_['mean_test_score'])]['n_estimators']\n",
    "\n",
    "gbc = GradientBoostingClassifier(n_estimators = n_estimators)\n",
    "gbc.fit(df_train,train_labels)\n",
    "y_pred_gbc_chi_anova = gbc.predict(df_test)\n",
    "\n",
    "print(\"The confusion matrix for the test set is\")\n",
    "print(confusion_matrix(test_labels,y_pred_gbc_chi_anova))\n",
    "\n",
    "print(\"Test Accuracy::\",accuracy_score(test_labels,y_pred_gbc_chi_anova))\n",
    "print(\"Test precision::\",precision_score(test_labels,y_pred_gbc_chi_anova))\n",
    "print(\"Test recall::\",recall_score(test_labels,y_pred_gbc_chi_anova))\n",
    "print(\"Test F1::\",f1_score(test_labels,y_pred_gbc_chi_anova))\n",
    "\n"
   ]
  },
  {
   "cell_type": "markdown",
   "id": "5bb3454a",
   "metadata": {},
   "source": [
    "<h2>3.8 MLP Classifier</h2>"
   ]
  },
  {
   "cell_type": "code",
   "execution_count": 15,
   "id": "335e773a",
   "metadata": {},
   "outputs": [
    {
     "name": "stdout",
     "output_type": "stream",
     "text": [
      "Model: \"sequential\"\n",
      "_________________________________________________________________\n",
      "Layer (type)                 Output Shape              Param #   \n",
      "=================================================================\n",
      "dense (Dense)                (None, 6256)              600576    \n",
      "_________________________________________________________________\n",
      "dropout (Dropout)            (None, 6256)              0         \n",
      "_________________________________________________________________\n",
      "dense_1 (Dense)              (None, 256)               1601792   \n",
      "_________________________________________________________________\n",
      "dropout_1 (Dropout)          (None, 256)               0         \n",
      "_________________________________________________________________\n",
      "dense_2 (Dense)              (None, 128)               32896     \n",
      "_________________________________________________________________\n",
      "dropout_2 (Dropout)          (None, 128)               0         \n",
      "_________________________________________________________________\n",
      "dense_3 (Dense)              (None, 128)               16512     \n",
      "_________________________________________________________________\n",
      "dropout_3 (Dropout)          (None, 128)               0         \n",
      "_________________________________________________________________\n",
      "batch_normalization (BatchNo (None, 128)               512       \n",
      "_________________________________________________________________\n",
      "dense_4 (Dense)              (None, 64)                8256      \n",
      "_________________________________________________________________\n",
      "dropout_4 (Dropout)          (None, 64)                0         \n",
      "_________________________________________________________________\n",
      "dense_5 (Dense)              (None, 1)                 65        \n",
      "=================================================================\n",
      "Total params: 2,260,609\n",
      "Trainable params: 2,260,353\n",
      "Non-trainable params: 256\n",
      "_________________________________________________________________\n",
      "None\n",
      "Epoch 1/20\n",
      "2756/2756 [==============================] - 20s 7ms/step - loss: 0.0819 - accuracy: 0.9726 - val_loss: 0.0544 - val_accuracy: 0.9807\n",
      "Epoch 2/20\n",
      "2756/2756 [==============================] - 19s 7ms/step - loss: 0.0602 - accuracy: 0.9788 - val_loss: 0.0476 - val_accuracy: 0.9825\n",
      "Epoch 3/20\n",
      "2756/2756 [==============================] - 18s 7ms/step - loss: 0.0535 - accuracy: 0.9805 - val_loss: 0.0472 - val_accuracy: 0.9812\n",
      "Epoch 4/20\n",
      "2756/2756 [==============================] - 18s 6ms/step - loss: 0.0495 - accuracy: 0.9817 - val_loss: 0.0493 - val_accuracy: 0.9818\n",
      "Epoch 5/20\n",
      "2756/2756 [==============================] - 18s 7ms/step - loss: 0.0482 - accuracy: 0.9826 - val_loss: 0.0443 - val_accuracy: 0.9830\n",
      "Epoch 6/20\n",
      "2756/2756 [==============================] - 19s 7ms/step - loss: 0.0463 - accuracy: 0.9831 - val_loss: 0.0414 - val_accuracy: 0.9844\n",
      "Epoch 7/20\n",
      "2756/2756 [==============================] - 18s 7ms/step - loss: 0.0447 - accuracy: 0.9837 - val_loss: 0.0391 - val_accuracy: 0.9846\n",
      "Epoch 8/20\n",
      "2756/2756 [==============================] - 18s 7ms/step - loss: 0.0434 - accuracy: 0.9842 - val_loss: 0.0395 - val_accuracy: 0.9854\n",
      "Epoch 9/20\n",
      "2756/2756 [==============================] - 18s 7ms/step - loss: 0.0422 - accuracy: 0.9847 - val_loss: 0.0385 - val_accuracy: 0.9855\n",
      "Epoch 10/20\n",
      "2756/2756 [==============================] - 18s 6ms/step - loss: 0.0424 - accuracy: 0.9844 - val_loss: 0.0389 - val_accuracy: 0.9844\n",
      "Epoch 11/20\n",
      "2756/2756 [==============================] - 18s 7ms/step - loss: 0.0408 - accuracy: 0.9848 - val_loss: 0.0405 - val_accuracy: 0.9852\n",
      "Epoch 12/20\n",
      "2756/2756 [==============================] - 18s 7ms/step - loss: 0.0400 - accuracy: 0.9849 - val_loss: 0.0393 - val_accuracy: 0.9863\n",
      "Epoch 13/20\n",
      "2756/2756 [==============================] - 18s 7ms/step - loss: 0.0400 - accuracy: 0.9851 - val_loss: 0.0364 - val_accuracy: 0.9859\n",
      "Epoch 14/20\n",
      "2756/2756 [==============================] - 18s 7ms/step - loss: 0.0398 - accuracy: 0.9856 - val_loss: 0.0368 - val_accuracy: 0.9870\n",
      "Epoch 15/20\n",
      "2756/2756 [==============================] - 18s 7ms/step - loss: 0.0387 - accuracy: 0.9857 - val_loss: 0.0362 - val_accuracy: 0.9857\n",
      "Epoch 16/20\n",
      "2756/2756 [==============================] - 18s 7ms/step - loss: 0.0386 - accuracy: 0.9856 - val_loss: 0.0372 - val_accuracy: 0.9860\n",
      "Epoch 17/20\n",
      "2756/2756 [==============================] - 18s 6ms/step - loss: 0.0391 - accuracy: 0.9855 - val_loss: 0.0365 - val_accuracy: 0.9853\n",
      "Epoch 18/20\n",
      "2756/2756 [==============================] - 18s 6ms/step - loss: 0.0378 - accuracy: 0.9858 - val_loss: 0.0396 - val_accuracy: 0.9848\n",
      "Epoch 19/20\n",
      "2756/2756 [==============================] - 18s 7ms/step - loss: 0.0378 - accuracy: 0.9859 - val_loss: 0.0364 - val_accuracy: 0.9861\n",
      "Epoch 20/20\n",
      "2756/2756 [==============================] - 18s 7ms/step - loss: 0.0363 - accuracy: 0.9865 - val_loss: 0.0341 - val_accuracy: 0.9867\n",
      "The confusion matrix for the test set is\n",
      "[[9348  363]\n",
      " [4182 8647]]\n",
      "Test Accuracy:: 0.7983584738243124\n",
      "Test precision:: 0.9597114317425083\n",
      "Test recall:: 0.6740197988931328\n",
      "Test F1:: 0.7918860753697514\n"
     ]
    }
   ],
   "source": [
    "from tensorflow.keras.callbacks import ModelCheckpoint\n",
    "model = Sequential() \n",
    "model.add(Dense(6256, activation = 'relu',kernel_initializer = 'he_normal',input_shape = (df_train.shape[1],)))  \n",
    "model.add(Dropout(0.2))\n",
    "model.add(Dense(256, activation = 'relu',kernel_initializer = 'he_normal'))  \n",
    "model.add(Dropout(0.2))\n",
    "model.add(Dense(128, activation = 'relu',kernel_initializer = 'he_normal'))  \n",
    "model.add(Dropout(0.2))\n",
    "model.add(Dense(128, activation = 'relu',kernel_initializer = 'he_normal'))  \n",
    "model.add(Dropout(0.2))\n",
    "model.add(BatchNormalization())\n",
    "model.add(Dense(64, activation = 'relu',kernel_initializer = 'he_normal'))  \n",
    "model.add(Dropout(0.2))\n",
    "model.add(Dense(1, activation = 'sigmoid'))\n",
    "print(model.summary())\n",
    "\n",
    "\n",
    "optimizer = Adam(learning_rate=.001)\n",
    "model.compile(loss = 'binary_crossentropy', optimizer = optimizer, metrics = ['accuracy'])\n",
    "\n",
    "history = model.fit(\n",
    "   df_train,train_labels,    \n",
    "   epochs =20, \n",
    "   verbose = 1, \n",
    "   validation_split = 0.3, \n",
    "   callbacks = [EarlyStopping(monitor = 'val_loss', patience = 5)]\n",
    ")\n",
    "\n",
    "y_pred_mlp_chi_anova = model.predict_classes(df_test)\n",
    "\n",
    "print(\"The confusion matrix for the test set is\")\n",
    "print(confusion_matrix(test_labels,y_pred_mlp_chi_anova))\n",
    "\n",
    "print(\"Test Accuracy::\",accuracy_score(test_labels,y_pred_mlp_chi_anova))\n",
    "print(\"Test precision::\",precision_score(test_labels,y_pred_mlp_chi_anova))\n",
    "print(\"Test recall::\",recall_score(test_labels,y_pred_mlp_chi_anova))\n",
    "print(\"Test F1::\",f1_score(test_labels,y_pred_mlp_chi_anova))"
   ]
  },
  {
   "cell_type": "markdown",
   "id": "a75f693c",
   "metadata": {},
   "source": [
    "<h2>4. Modelling with features selected through PCA</h2>"
   ]
  },
  {
   "cell_type": "code",
   "execution_count": 24,
   "id": "7536eafb",
   "metadata": {},
   "outputs": [],
   "source": [
    "df_train = pd.read_csv(\"df_train_pca.csv\").drop(columns='Unnamed: 0')\n",
    "df_test = pd.read_csv(\"df_test_pca.csv\").drop(columns='Unnamed: 0')"
   ]
  },
  {
   "cell_type": "markdown",
   "id": "b3984c69",
   "metadata": {},
   "source": [
    "<h2>4.1 Naive Bayes Classifier</h2>"
   ]
  },
  {
   "cell_type": "code",
   "execution_count": 7,
   "id": "5e84b243",
   "metadata": {},
   "outputs": [
    {
     "name": "stdout",
     "output_type": "stream",
     "text": [
      "The average CV score against the five var_smoothing values are: [0.88002627 0.88801634 0.89320402 0.8987007  0.88996152]\n",
      "**************************************************\n",
      "The plot of var_smoothing vs F1 score\n"
     ]
    },
    {
     "data": {
      "image/png": "[encoded data removed]",
      "text/plain": [
       "<Figure size 432x288 with 1 Axes>"
      ]
     },
     "metadata": {
      "needs_background": "light"
     },
     "output_type": "display_data"
    },
    {
     "name": "stdout",
     "output_type": "stream",
     "text": [
      "The confusion matrix for the test set is\n",
      "[[9450  261]\n",
      " [5517 7312]]\n",
      "Test Accuracy:: 0.7436557231588288\n",
      "Test precision:: 0.9655354549055857\n",
      "Test recall:: 0.5699586873489749\n",
      "Test F1:: 0.7167924713263406\n"
     ]
    }
   ],
   "source": [
    "\n",
    "params = {'var_smoothing':[0.001,0.005,0.01,0.05,0.1]}\n",
    "gnb = GaussianNB()\n",
    "clf = GridSearchCV(gnb, params,scoring='f1')\n",
    "clf.fit(df_train,train_labels)\n",
    "\n",
    "print(\"The average CV score against the five var_smoothing values are:\",clf.cv_results_['mean_test_score'])\n",
    "print(\"*\"*50)\n",
    "print(\"The plot of var_smoothing vs F1 score\")\n",
    "\n",
    "plt.plot(params['var_smoothing'],clf.cv_results_['mean_test_score'])\n",
    "plt.scatter(params['var_smoothing'],clf.cv_results_['mean_test_score'])\n",
    "for i in range(len(params['var_smoothing'])):\n",
    "    plt.annotate(round(clf.cv_results_['mean_test_score'][i],4), (params['var_smoothing'][i], clf.cv_results_['mean_test_score'][i]))\n",
    "plt.grid()\n",
    "plt.show()\n",
    "\n",
    "#Getting the best value of the hyper-parameters\n",
    "var_smoothing = clf.cv_results_['params'][np.argmax(clf.cv_results_['mean_test_score'])]['var_smoothing']\n",
    "\n",
    "gnb = GaussianNB(var_smoothing = var_smoothing)\n",
    "gnb.fit(df_train,train_labels)\n",
    "y_pred_gnb_pca = gnb.predict(df_test)\n",
    "\n",
    "print(\"The confusion matrix for the test set is\")\n",
    "print(confusion_matrix(test_labels,y_pred_gnb_pca))\n",
    "\n",
    "print(\"Test Accuracy::\",accuracy_score(test_labels,y_pred_gnb_pca))\n",
    "print(\"Test precision::\",precision_score(test_labels,y_pred_gnb_pca))\n",
    "print(\"Test recall::\",recall_score(test_labels,y_pred_gnb_pca))\n",
    "print(\"Test F1::\",f1_score(test_labels,y_pred_gnb_pca))"
   ]
  },
  {
   "cell_type": "markdown",
   "id": "373dc43e",
   "metadata": {},
   "source": [
    "<h2> 4.2 KNN Classifier</h2>"
   ]
  },
  {
   "cell_type": "code",
   "execution_count": 9,
   "id": "fe8dd09a",
   "metadata": {},
   "outputs": [
    {
     "name": "stdout",
     "output_type": "stream",
     "text": [
      "The average CV score against the five n_neighbors values are: [0.99482437 0.99401278 0.99345703 0.99315749 0.99272053]\n",
      "**************************************************\n",
      "The plot of n_neighbors vs F1 score\n"
     ]
    },
    {
     "data": {
      "image/png": "[encoded data removed]",
      "text/plain": [
       "<Figure size 432x288 with 1 Axes>"
      ]
     },
     "metadata": {
      "needs_background": "light"
     },
     "output_type": "display_data"
    },
    {
     "name": "stdout",
     "output_type": "stream",
     "text": [
      "Test Accuracy:: 0.7815439219165927\n",
      "Test precision:: 0.9242245357947837\n",
      "Test recall:: 0.6712136565593577\n",
      "Test F1:: 0.7776573647611307\n"
     ]
    }
   ],
   "source": [
    "params = {'n_neighbors':[3,5,7,9,11]}\n",
    "knn = KNeighborsClassifier()\n",
    "clf = GridSearchCV(knn, params,scoring='f1', n_jobs=-1)\n",
    "clf.fit(df_train,train_labels)\n",
    "\n",
    "print(\"The average CV score against the five n_neighbors values are:\",clf.cv_results_['mean_test_score'])\n",
    "print(\"*\"*50)\n",
    "print(\"The plot of n_neighbors vs F1 score\")\n",
    "\n",
    "plt.plot(params['n_neighbors'],clf.cv_results_['mean_test_score'])\n",
    "plt.scatter(params['n_neighbors'],clf.cv_results_['mean_test_score'])\n",
    "for i in range(len(params['n_neighbors'])):\n",
    "    plt.annotate(round(clf.cv_results_['mean_test_score'][i],4), (params['n_neighbors'][i], clf.cv_results_['mean_test_score'][i]))\n",
    "plt.grid()\n",
    "plt.show()\n",
    "\n",
    "#Getting the best value of the hyper-parameters\n",
    "n_neighbors = clf.cv_results_['params'][np.argmax(clf.cv_results_['mean_test_score'])]['n_neighbors']\n",
    "\n",
    "knn = KNeighborsClassifier(n_neighbors = n_neighbors)\n",
    "knn.fit(df_train,train_labels)\n",
    "y_pred_knn_pca = knn.predict(df_test)\n",
    "\n",
    "\n",
    "\n",
    "print(\"Test Accuracy::\",accuracy_score(test_labels,y_pred_knn_pca))\n",
    "print(\"Test precision::\",precision_score(test_labels,y_pred_knn_pca))\n",
    "print(\"Test recall::\",recall_score(test_labels,y_pred_knn_pca))\n",
    "print(\"Test F1::\",f1_score(test_labels,y_pred_knn_pca))"
   ]
  },
  {
   "cell_type": "code",
   "execution_count": 10,
   "id": "c5e59c5b",
   "metadata": {},
   "outputs": [
    {
     "name": "stdout",
     "output_type": "stream",
     "text": [
      "The confusion matrix for the test set is\n",
      "[[9005  706]\n",
      " [4218 8611]]\n"
     ]
    }
   ],
   "source": [
    "print(\"The confusion matrix for the test set is\")\n",
    "print(confusion_matrix(test_labels,y_pred_knn_pca))"
   ]
  },
  {
   "cell_type": "markdown",
   "id": "532106a4",
   "metadata": {},
   "source": [
    "<h2>4.3 Logistic Regression Classifier</h2>"
   ]
  },
  {
   "cell_type": "code",
   "execution_count": 11,
   "id": "3d7eb126",
   "metadata": {},
   "outputs": [
    {
     "name": "stdout",
     "output_type": "stream",
     "text": [
      "The average CV score against the five C values are: [0.96643598 0.96628426 0.96735457 0.95957116 0.89809036]\n",
      "**************************************************\n",
      "The plot of C vs F1 score\n"
     ]
    },
    {
     "data": {
      "image/png": "[encoded data removed]",
      "text/plain": [
       "<Figure size 432x288 with 1 Axes>"
      ]
     },
     "metadata": {
      "needs_background": "light"
     },
     "output_type": "display_data"
    },
    {
     "name": "stdout",
     "output_type": "stream",
     "text": [
      "**************************************************\n",
      "The confusion matrix for the test set is\n",
      "[[8986  725]\n",
      " [5014 7815]]\n",
      "Test Accuracy:: 0.7453859804791482\n",
      "Test precision:: 0.9151053864168618\n",
      "Test recall:: 0.6091667316236651\n",
      "Test F1:: 0.7314333848097712\n"
     ]
    }
   ],
   "source": [
    "params = {'C':[1,0.1,0.01,0.001,0.0001]}\n",
    "lr = LogisticRegression()\n",
    "clf = GridSearchCV(lr, params,scoring='f1')\n",
    "clf.fit(df_train,train_labels)\n",
    "\n",
    "print(\"The average CV score against the five C values are:\",clf.cv_results_['mean_test_score'])\n",
    "print(\"*\"*50)\n",
    "print(\"The plot of C vs F1 score\")\n",
    "plt.plot(params['C'],clf.cv_results_['mean_test_score'])\n",
    "plt.scatter(params['C'],clf.cv_results_['mean_test_score'])\n",
    "for i in range(len(params['C'])):\n",
    "    plt.annotate(round(clf.cv_results_['mean_test_score'][i],4), (params['C'][i], clf.cv_results_['mean_test_score'][i]))\n",
    "plt.grid()\n",
    "plt.show()\n",
    "print(\"*\"*50)\n",
    "#Getting the best value of the hyper-parameters\n",
    "C = clf.cv_results_['params'][np.argmax(clf.cv_results_['mean_test_score'])]['C']\n",
    "\n",
    "#Training with the best value of the C\n",
    "lr = LogisticRegression(C = C)\n",
    "lr.fit(df_train,train_labels)\n",
    "y_pred_lr_pca = lr.predict(df_test)\n",
    "\n",
    "print(\"The confusion matrix for the test set is\")\n",
    "print(confusion_matrix(test_labels,y_pred_lr_pca))\n",
    "\n",
    "print(\"Test Accuracy::\",accuracy_score(test_labels,y_pred_lr_pca))\n",
    "print(\"Test precision::\",precision_score(test_labels,y_pred_lr_pca))\n",
    "print(\"Test recall::\",recall_score(test_labels,y_pred_lr_pca))\n",
    "print(\"Test F1::\",f1_score(test_labels,y_pred_lr_pca))"
   ]
  },
  {
   "cell_type": "markdown",
   "id": "0377ab1b",
   "metadata": {},
   "source": [
    "<h2>4.4 Support Vector Classifier</h2>"
   ]
  },
  {
   "cell_type": "code",
   "execution_count": 12,
   "id": "e40ab379",
   "metadata": {},
   "outputs": [
    {
     "name": "stdout",
     "output_type": "stream",
     "text": [
      "The average CV score against the five C values are: [0.98554803 0.98063216 0.97320287 0.96236446 0.9012933 ]\n",
      "**************************************************\n",
      "The plot of C vs F1 score\n"
     ]
    },
    {
     "data": {
      "image/png": "[encoded data removed]",
      "text/plain": [
       "<Figure size 432x288 with 1 Axes>"
      ]
     },
     "metadata": {
      "needs_background": "light"
     },
     "output_type": "display_data"
    },
    {
     "name": "stdout",
     "output_type": "stream",
     "text": [
      "The confusion matrix for the test set is\n",
      "[[9012  699]\n",
      " [4559 8270]]\n",
      "Test Accuracy:: 0.7667258207630878\n",
      "Test precision:: 0.9220648901772773\n",
      "Test recall:: 0.6446332527866553\n",
      "Test F1:: 0.7587852096522617\n"
     ]
    }
   ],
   "source": [
    "params = {'C':[1,0.1,0.01,0.001,0.0001]}\n",
    "svc = SVC()\n",
    "clf = GridSearchCV(svc, params,scoring='f1')\n",
    "clf.fit(df_train,train_labels)\n",
    "\n",
    "print(\"The average CV score against the five C values are:\",clf.cv_results_['mean_test_score'])\n",
    "print(\"*\"*50)\n",
    "print(\"The plot of C vs F1 score\")\n",
    "plt.plot(params['C'],clf.cv_results_['mean_test_score'])\n",
    "plt.scatter(params['C'],clf.cv_results_['mean_test_score'])\n",
    "for i in range(len(params['C'])):\n",
    "    plt.annotate(round(clf.cv_results_['mean_test_score'][i],4), (params['C'][i], clf.cv_results_['mean_test_score'][i]))\n",
    "plt.grid()\n",
    "plt.show()\n",
    "\n",
    "#Getting the best value of the hyper-parameters\n",
    "C = clf.cv_results_['params'][np.argmax(clf.cv_results_['mean_test_score'])]['C']\n",
    "\n",
    "#Training with the best value of the C\n",
    "svc = SVC(C = C)\n",
    "svc.fit(df_train,train_labels)\n",
    "y_pred_svc_pca = svc.predict(df_test)\n",
    "\n",
    "print(\"The confusion matrix for the test set is\")\n",
    "print(confusion_matrix(test_labels,y_pred_svc_pca))\n",
    "\n",
    "print(\"Test Accuracy::\",accuracy_score(test_labels,y_pred_svc_pca))\n",
    "print(\"Test precision::\",precision_score(test_labels,y_pred_svc_pca))\n",
    "print(\"Test recall::\",recall_score(test_labels,y_pred_svc_pca))\n",
    "print(\"Test F1::\",f1_score(test_labels,y_pred_svc_pca))"
   ]
  },
  {
   "cell_type": "markdown",
   "id": "a8d63310",
   "metadata": {},
   "source": [
    "<h2>4.5 Decision Tree Classifier</h2>"
   ]
  },
  {
   "cell_type": "code",
   "execution_count": 13,
   "id": "7bb4e95e",
   "metadata": {},
   "outputs": [
    {
     "name": "stdout",
     "output_type": "stream",
     "text": [
      "The average CV score against the five min_samples_split values are: [0.99383351 0.99382458 0.99369568 0.99348191 0.99326898]\n",
      "**************************************************\n",
      "The plot of min_samples_split vs F1 score\n"
     ]
    },
    {
     "data": {
      "image/png": "[encoded data removed]",
      "text/plain": [
       "<Figure size 432x288 with 1 Axes>"
      ]
     },
     "metadata": {
      "needs_background": "light"
     },
     "output_type": "display_data"
    },
    {
     "name": "stdout",
     "output_type": "stream",
     "text": [
      "The confusion matrix for the test set is\n",
      "[[9127  584]\n",
      " [3873 8956]]\n",
      "Test Accuracy:: 0.80226264418811\n",
      "Test precision:: 0.9387840670859539\n",
      "Test recall:: 0.6981058539247018\n",
      "Test F1:: 0.8007510393848629\n"
     ]
    }
   ],
   "source": [
    "params = {'min_samples_split':[2,4,6,8,10]}\n",
    "dtc = DecisionTreeClassifier()\n",
    "clf = GridSearchCV(dtc, params,scoring='f1')\n",
    "clf.fit(df_train,train_labels)\n",
    "\n",
    "print(\"The average CV score against the five min_samples_split values are:\",clf.cv_results_['mean_test_score'])\n",
    "print(\"*\"*50)\n",
    "print(\"The plot of min_samples_split vs F1 score\")\n",
    "\n",
    "plt.plot(params['min_samples_split'],clf.cv_results_['mean_test_score'])\n",
    "plt.scatter(params['min_samples_split'],clf.cv_results_['mean_test_score'])\n",
    "for i in range(len(params['min_samples_split'])):\n",
    "    plt.annotate(round(clf.cv_results_['mean_test_score'][i],4), (params['min_samples_split'][i], clf.cv_results_['mean_test_score'][i]))\n",
    "plt.grid()\n",
    "plt.show()\n",
    "\n",
    "#Getting the best value of the hyper-parameters\n",
    "min_samples_split = clf.cv_results_['params'][np.argmax(clf.cv_results_['mean_test_score'])]['min_samples_split']\n",
    "\n",
    "dtc = DecisionTreeClassifier(min_samples_split = min_samples_split)\n",
    "dtc.fit(df_train,train_labels)\n",
    "y_pred_dtc_pca = dtc.predict(df_test)\n",
    "\n",
    "\n",
    "print(\"The confusion matrix for the test set is\")\n",
    "print(confusion_matrix(test_labels,y_pred_dtc_pca))\n",
    "\n",
    "print(\"Test Accuracy::\",accuracy_score(test_labels,y_pred_dtc_pca))\n",
    "print(\"Test precision::\",precision_score(test_labels,y_pred_dtc_pca))\n",
    "print(\"Test recall::\",recall_score(test_labels,y_pred_dtc_pca))\n",
    "print(\"Test F1::\",f1_score(test_labels,y_pred_dtc_pca))\n"
   ]
  },
  {
   "cell_type": "markdown",
   "id": "00167c9a",
   "metadata": {},
   "source": [
    "<h2>4.6 Random Forest Classifier</h2>"
   ]
  },
  {
   "cell_type": "code",
   "execution_count": 14,
   "id": "3db6cf2f",
   "metadata": {},
   "outputs": [
    {
     "name": "stdout",
     "output_type": "stream",
     "text": [
      "The average CV score against the five n_estimators values are: [0.99634519 0.99635388 0.99637965 0.99643927 0.99636242]\n",
      "**************************************************\n",
      "The plot of n_estimators vs F1 score\n"
     ]
    },
    {
     "data": {
      "image/png": "[encoded data removed]",
      "text/plain": [
       "<Figure size 432x288 with 1 Axes>"
      ]
     },
     "metadata": {
      "needs_background": "light"
     },
     "output_type": "display_data"
    },
    {
     "name": "stdout",
     "output_type": "stream",
     "text": [
      "The confusion matrix for the test set is\n",
      "[[9455  256]\n",
      " [4373 8456]]\n",
      "Test Accuracy:: 0.7946317657497781\n",
      "Test precision:: 0.970615243342516\n",
      "Test recall:: 0.659131654844493\n",
      "Test F1:: 0.7851074694768116\n"
     ]
    }
   ],
   "source": [
    "params = {'n_estimators':[100,500,1000,1500,2000]}\n",
    "rfc = RandomForestClassifier()\n",
    "clf = GridSearchCV(rfc, params,scoring='f1')\n",
    "clf.fit(df_train,train_labels)\n",
    "\n",
    "print(\"The average CV score against the five n_estimators values are:\",clf.cv_results_['mean_test_score'])\n",
    "print(\"*\"*50)\n",
    "print(\"The plot of n_estimators vs F1 score\")\n",
    "\n",
    "plt.plot(params['n_estimators'],clf.cv_results_['mean_test_score'])\n",
    "plt.scatter(params['n_estimators'],clf.cv_results_['mean_test_score'])\n",
    "for i in range(len(params['n_estimators'])):\n",
    "    plt.annotate(round(clf.cv_results_['mean_test_score'][i],4), (params['n_estimators'][i], clf.cv_results_['mean_test_score'][i]))\n",
    "plt.grid()\n",
    "plt.show()\n",
    "\n",
    "#Getting the best value of the hyper-parameters\n",
    "n_estimators = clf.cv_results_['params'][np.argmax(clf.cv_results_['mean_test_score'])]['n_estimators']\n",
    "\n",
    "rfc = RandomForestClassifier(n_estimators = n_estimators)\n",
    "rfc.fit(df_train,train_labels)\n",
    "y_pred_rfc_pca = rfc.predict(df_test)\n",
    "\n",
    "\n",
    "print(\"The confusion matrix for the test set is\")\n",
    "print(confusion_matrix(test_labels,y_pred_rfc_pca))\n",
    "\n",
    "print(\"Test Accuracy::\",accuracy_score(test_labels,y_pred_rfc_pca))\n",
    "print(\"Test precision::\",precision_score(test_labels,y_pred_rfc_pca))\n",
    "print(\"Test recall::\",recall_score(test_labels,y_pred_rfc_pca))\n",
    "print(\"Test F1::\",f1_score(test_labels,y_pred_rfc_pca))"
   ]
  },
  {
   "cell_type": "markdown",
   "id": "02fd439b",
   "metadata": {},
   "source": [
    "<h2>4.7 GBDT Classifier</h2>"
   ]
  },
  {
   "cell_type": "code",
   "execution_count": 25,
   "id": "76dad68c",
   "metadata": {},
   "outputs": [
    {
     "name": "stdout",
     "output_type": "stream",
     "text": [
      "The average CV score against the five n_estimators values are: [0.98589765 0.99338579 0.99467313 0.99493862 0.99507511]\n",
      "**************************************************\n",
      "The plot of n_estimators vs F1 score\n"
     ]
    },
    {
     "data": {
      "image/png": "[encoded data removed]",
      "text/plain": [
       "<Figure size 432x288 with 1 Axes>"
      ]
     },
     "metadata": {
      "needs_background": "light"
     },
     "output_type": "display_data"
    },
    {
     "name": "stdout",
     "output_type": "stream",
     "text": [
      "The confusion matrix for the test set is\n",
      "[[9428  283]\n",
      " [4086 8743]]\n",
      "Test Accuracy:: 0.8061668145519078\n",
      "Test precision:: 0.9686461333924219\n",
      "Test recall:: 0.6815028451165328\n",
      "Test F1:: 0.800091512239762\n"
     ]
    }
   ],
   "source": [
    "params = {'n_estimators':[100,500,1000,1500,2000]}\n",
    "gbc = GradientBoostingClassifier()\n",
    "clf = GridSearchCV(gbc, params,scoring='f1')\n",
    "clf.fit(df_train,train_labels)\n",
    "\n",
    "print(\"The average CV score against the five n_estimators values are:\",clf.cv_results_['mean_test_score'])\n",
    "print(\"*\"*50)\n",
    "print(\"The plot of n_estimators vs F1 score\")\n",
    "\n",
    "plt.plot(params['n_estimators'],clf.cv_results_['mean_test_score'])\n",
    "plt.scatter(params['n_estimators'],clf.cv_results_['mean_test_score'])\n",
    "for i in range(len(params['n_estimators'])):\n",
    "    plt.annotate(round(clf.cv_results_['mean_test_score'][i],4), (params['n_estimators'][i], clf.cv_results_['mean_test_score'][i]))\n",
    "plt.grid()\n",
    "plt.show()\n",
    "\n",
    "#Getting the best value of the hyper-parameters\n",
    "n_estimators = clf.cv_results_['params'][np.argmax(clf.cv_results_['mean_test_score'])]['n_estimators']\n",
    "\n",
    "gbc = GradientBoostingClassifier(n_estimators = n_estimators)\n",
    "gbc.fit(df_train,train_labels)\n",
    "y_pred_gbc_pca = gbc.predict(df_test)\n",
    "\n",
    "print(\"The confusion matrix for the test set is\")\n",
    "print(confusion_matrix(test_labels,y_pred_gbc_pca))\n",
    "\n",
    "print(\"Test Accuracy::\",accuracy_score(test_labels,y_pred_gbc_pca))\n",
    "print(\"Test precision::\",precision_score(test_labels,y_pred_gbc_pca))\n",
    "print(\"Test recall::\",recall_score(test_labels,y_pred_gbc_pca))\n",
    "print(\"Test F1::\",f1_score(test_labels,y_pred_gbc_pca))"
   ]
  },
  {
   "cell_type": "markdown",
   "id": "18eb8e5c",
   "metadata": {},
   "source": [
    "<h2>4.8 MLP Classifier</h2>"
   ]
  },
  {
   "cell_type": "code",
   "execution_count": 52,
   "id": "6c2cd79e",
   "metadata": {},
   "outputs": [
    {
     "name": "stdout",
     "output_type": "stream",
     "text": [
      "Model: \"sequential\"\n",
      "_________________________________________________________________\n",
      "Layer (type)                 Output Shape              Param #   \n",
      "=================================================================\n",
      "dense (Dense)                (None, 6256)              193936    \n",
      "_________________________________________________________________\n",
      "dropout (Dropout)            (None, 6256)              0         \n",
      "_________________________________________________________________\n",
      "dense_1 (Dense)              (None, 256)               1601792   \n",
      "_________________________________________________________________\n",
      "dropout_1 (Dropout)          (None, 256)               0         \n",
      "_________________________________________________________________\n",
      "dense_2 (Dense)              (None, 128)               32896     \n",
      "_________________________________________________________________\n",
      "dropout_2 (Dropout)          (None, 128)               0         \n",
      "_________________________________________________________________\n",
      "dense_3 (Dense)              (None, 128)               16512     \n",
      "_________________________________________________________________\n",
      "dropout_3 (Dropout)          (None, 128)               0         \n",
      "_________________________________________________________________\n",
      "batch_normalization (BatchNo (None, 128)               512       \n",
      "_________________________________________________________________\n",
      "dense_4 (Dense)              (None, 64)                8256      \n",
      "_________________________________________________________________\n",
      "dropout_4 (Dropout)          (None, 64)                0         \n",
      "_________________________________________________________________\n",
      "dense_5 (Dense)              (None, 1)                 65        \n",
      "=================================================================\n",
      "Total params: 1,853,969\n",
      "Trainable params: 1,853,713\n",
      "Non-trainable params: 256\n",
      "_________________________________________________________________\n",
      "None\n",
      "Epoch 1/20\n",
      "2756/2756 [==============================] - 20s 7ms/step - loss: 0.0681 - accuracy: 0.9755 - val_loss: 0.0440 - val_accuracy: 0.9831\n",
      "Epoch 2/20\n",
      "2756/2756 [==============================] - 17s 6ms/step - loss: 0.0469 - accuracy: 0.9828 - val_loss: 0.0366 - val_accuracy: 0.9846\n",
      "Epoch 3/20\n",
      "2756/2756 [==============================] - 17s 6ms/step - loss: 0.0414 - accuracy: 0.9846 - val_loss: 0.0330 - val_accuracy: 0.9886\n",
      "Epoch 4/20\n",
      "2756/2756 [==============================] - 19s 7ms/step - loss: 0.0361 - accuracy: 0.9864 - val_loss: 0.0284 - val_accuracy: 0.9904\n",
      "Epoch 5/20\n",
      "2756/2756 [==============================] - 18s 7ms/step - loss: 0.0309 - accuracy: 0.9888 - val_loss: 0.0323 - val_accuracy: 0.9843\n",
      "Epoch 6/20\n",
      "2756/2756 [==============================] - 18s 6ms/step - loss: 0.0291 - accuracy: 0.9891 - val_loss: 0.0264 - val_accuracy: 0.9895\n",
      "Epoch 7/20\n",
      "2756/2756 [==============================] - 19s 7ms/step - loss: 0.0273 - accuracy: 0.9899 - val_loss: 0.0254 - val_accuracy: 0.9910\n",
      "Epoch 8/20\n",
      "2756/2756 [==============================] - 18s 7ms/step - loss: 0.0270 - accuracy: 0.9904 - val_loss: 0.0243 - val_accuracy: 0.9916\n",
      "Epoch 9/20\n",
      "2756/2756 [==============================] - 18s 6ms/step - loss: 0.0243 - accuracy: 0.9912 - val_loss: 0.0258 - val_accuracy: 0.9913\n",
      "Epoch 10/20\n",
      "2756/2756 [==============================] - 18s 7ms/step - loss: 0.0241 - accuracy: 0.9910 - val_loss: 0.0208 - val_accuracy: 0.9925\n",
      "Epoch 11/20\n",
      "2756/2756 [==============================] - 19s 7ms/step - loss: 0.0228 - accuracy: 0.9914 - val_loss: 0.0233 - val_accuracy: 0.9916\n",
      "Epoch 12/20\n",
      "2756/2756 [==============================] - 18s 7ms/step - loss: 0.0221 - accuracy: 0.9919 - val_loss: 0.0240 - val_accuracy: 0.9924\n",
      "Epoch 13/20\n",
      "2756/2756 [==============================] - 19s 7ms/step - loss: 0.0223 - accuracy: 0.9917 - val_loss: 0.0239 - val_accuracy: 0.9929\n",
      "Epoch 14/20\n",
      "2756/2756 [==============================] - 19s 7ms/step - loss: 0.0215 - accuracy: 0.9920 - val_loss: 0.0223 - val_accuracy: 0.9920\n",
      "Epoch 15/20\n",
      "2756/2756 [==============================] - 19s 7ms/step - loss: 0.0214 - accuracy: 0.9922 - val_loss: 0.0236 - val_accuracy: 0.9915\n",
      "The confusion matrix for the test set is\n",
      "[[8967  744]\n",
      " [4279 8550]]\n",
      "Test Accuracy:: 0.7771517302573203\n",
      "Test precision:: 0.9199483537766301\n",
      "Test recall:: 0.6664588042715722\n",
      "Test F1:: 0.77295122722958\n"
     ]
    }
   ],
   "source": [
    "from tensorflow.keras.callbacks import ModelCheckpoint\n",
    "model = Sequential() \n",
    "model.add(Dense(6256, activation = 'relu',kernel_initializer = 'he_normal',input_shape = (df_train.shape[1],)))  \n",
    "model.add(Dropout(0.2))\n",
    "model.add(Dense(256, activation = 'relu',kernel_initializer = 'he_normal'))  \n",
    "model.add(Dropout(0.2))\n",
    "model.add(Dense(128, activation = 'relu',kernel_initializer = 'he_normal'))  \n",
    "model.add(Dropout(0.2))\n",
    "model.add(Dense(128, activation = 'relu',kernel_initializer = 'he_normal'))  \n",
    "model.add(Dropout(0.2))\n",
    "model.add(BatchNormalization())\n",
    "model.add(Dense(64, activation = 'relu',kernel_initializer = 'he_normal'))  \n",
    "model.add(Dropout(0.2))\n",
    "model.add(Dense(1, activation = 'sigmoid'))\n",
    "print(model.summary())\n",
    "\n",
    "\n",
    "optimizer = Adam(learning_rate=.001)\n",
    "model.compile(loss = 'binary_crossentropy', optimizer = optimizer, metrics = ['accuracy'])\n",
    "\n",
    "history = model.fit(\n",
    "   df_train,train_labels,    \n",
    "   epochs =20, \n",
    "   verbose = 1, \n",
    "   validation_split = 0.3, \n",
    "   callbacks = [EarlyStopping(monitor = 'val_loss', patience = 5)]\n",
    ")\n",
    "\n",
    "y_pred_mlp_pca = model.predict_classes(df_test)\n",
    "\n",
    "print(\"The confusion matrix for the test set is\")\n",
    "print(confusion_matrix(test_labels,y_pred_mlp_pca))\n",
    "\n",
    "print(\"Test Accuracy::\",accuracy_score(test_labels,y_pred_mlp_pca))\n",
    "print(\"Test precision::\",precision_score(test_labels,y_pred_mlp_pca))\n",
    "print(\"Test recall::\",recall_score(test_labels,y_pred_mlp_pca))\n",
    "print(\"Test F1::\",f1_score(test_labels,y_pred_mlp_pca))"
   ]
  },
  {
   "cell_type": "markdown",
   "id": "e6c1e2df",
   "metadata": {},
   "source": [
    "<h2>5. Modelling with features selected through Auto-Encoder</h2>"
   ]
  },
  {
   "cell_type": "code",
   "execution_count": 4,
   "id": "2d0a996c",
   "metadata": {},
   "outputs": [],
   "source": [
    "df_train = pd.read_csv(\"df_train_ae.csv\").drop(columns='Unnamed: 0')\n",
    "df_test = pd.read_csv(\"df_test_ae.csv\").drop(columns='Unnamed: 0')"
   ]
  },
  {
   "cell_type": "code",
   "execution_count": 5,
   "id": "d23f7992",
   "metadata": {},
   "outputs": [
    {
     "data": {
      "text/plain": [
       "((125963, 10), (22540, 10), (125963,), (22540,))"
      ]
     },
     "execution_count": 5,
     "metadata": {},
     "output_type": "execute_result"
    }
   ],
   "source": [
    "df_train.shape, df_test.shape, train_labels.shape, test_labels.shape"
   ]
  },
  {
   "cell_type": "markdown",
   "id": "328cdcfe",
   "metadata": {},
   "source": [
    "<h2>5.1 Naive Bayes Classifier</h2>"
   ]
  },
  {
   "cell_type": "code",
   "execution_count": 55,
   "id": "5a370506",
   "metadata": {},
   "outputs": [
    {
     "name": "stdout",
     "output_type": "stream",
     "text": [
      "The average CV score against the five var_smoothing values are: [0.99274872 0.99256459 0.99247228 0.99199966 0.99176323]\n",
      "**************************************************\n",
      "The plot of var_smoothing vs F1 score\n"
     ]
    },
    {
     "data": {
      "image/png": "[encoded data removed]",
      "text/plain": [
       "<Figure size 432x288 with 1 Axes>"
      ]
     },
     "metadata": {
      "needs_background": "light"
     },
     "output_type": "display_data"
    },
    {
     "name": "stdout",
     "output_type": "stream",
     "text": [
      "The confusion matrix for the test set is\n",
      "[[9422  289]\n",
      " [3773 9056]]\n",
      "Test Accuracy:: 0.8197870452528838\n",
      "Test precision:: 0.9690743713215624\n",
      "Test recall:: 0.7059006937407436\n",
      "Test F1:: 0.8168124830883015\n"
     ]
    }
   ],
   "source": [
    "params = {'var_smoothing':[0.001,0.005,0.01,0.05,0.1]}\n",
    "gnb = GaussianNB()\n",
    "clf = GridSearchCV(gnb, params,scoring='f1')\n",
    "clf.fit(df_train,train_labels)\n",
    "\n",
    "print(\"The average CV score against the five var_smoothing values are:\",clf.cv_results_['mean_test_score'])\n",
    "print(\"*\"*50)\n",
    "print(\"The plot of var_smoothing vs F1 score\")\n",
    "\n",
    "plt.plot(params['var_smoothing'],clf.cv_results_['mean_test_score'])\n",
    "plt.scatter(params['var_smoothing'],clf.cv_results_['mean_test_score'])\n",
    "for i in range(len(params['var_smoothing'])):\n",
    "    plt.annotate(round(clf.cv_results_['mean_test_score'][i],4), (params['var_smoothing'][i], clf.cv_results_['mean_test_score'][i]))\n",
    "plt.grid()\n",
    "plt.show()\n",
    "\n",
    "#Getting the best value of the hyper-parameters\n",
    "var_smoothing = clf.cv_results_['params'][np.argmax(clf.cv_results_['mean_test_score'])]['var_smoothing']\n",
    "\n",
    "gnb = GaussianNB(var_smoothing = var_smoothing)\n",
    "gnb.fit(df_train,train_labels)\n",
    "y_pred_gnb_ae = gnb.predict(df_test)\n",
    "\n",
    "print(\"The confusion matrix for the test set is\")\n",
    "print(confusion_matrix(test_labels,y_pred_gnb_ae))\n",
    "\n",
    "print(\"Test Accuracy::\",accuracy_score(test_labels,y_pred_gnb_ae))\n",
    "print(\"Test precision::\",precision_score(test_labels,y_pred_gnb_ae))\n",
    "print(\"Test recall::\",recall_score(test_labels,y_pred_gnb_ae))\n",
    "print(\"Test F1::\",f1_score(test_labels,y_pred_gnb_ae))"
   ]
  },
  {
   "cell_type": "markdown",
   "id": "301c3898",
   "metadata": {},
   "source": [
    "<h2> 5.2 KNN Classifier</h2>"
   ]
  },
  {
   "cell_type": "code",
   "execution_count": 56,
   "id": "32d8f007",
   "metadata": {},
   "outputs": [
    {
     "name": "stdout",
     "output_type": "stream",
     "text": [
      "The average CV score against the five n_neighbors values are: [0.99668159 0.99658761 0.99636517 0.99627079 0.99627805]\n",
      "**************************************************\n",
      "The plot of n_neighbors vs F1 score\n"
     ]
    },
    {
     "data": {
      "image/png": "[encoded data removed]",
      "text/plain": [
       "<Figure size 432x288 with 1 Axes>"
      ]
     },
     "metadata": {
      "needs_background": "light"
     },
     "output_type": "display_data"
    },
    {
     "name": "stdout",
     "output_type": "stream",
     "text": [
      "The confusion matrix for the test set is\n",
      "[[9420  291]\n",
      " [3834 8995]]\n",
      "Test Accuracy:: 0.8169920141969832\n",
      "Test precision:: 0.9686625026922249\n",
      "Test recall:: 0.7011458414529581\n",
      "Test F1:: 0.8134750169568167\n"
     ]
    }
   ],
   "source": [
    "params = {'n_neighbors':[3,5,7,9,11]}\n",
    "knn = KNeighborsClassifier()\n",
    "clf = GridSearchCV(knn, params,scoring='f1', n_jobs=-1)\n",
    "clf.fit(df_train,train_labels)\n",
    "\n",
    "print(\"The average CV score against the five n_neighbors values are:\",clf.cv_results_['mean_test_score'])\n",
    "print(\"*\"*50)\n",
    "print(\"The plot of n_neighbors vs F1 score\")\n",
    "\n",
    "plt.plot(params['n_neighbors'],clf.cv_results_['mean_test_score'])\n",
    "plt.scatter(params['n_neighbors'],clf.cv_results_['mean_test_score'])\n",
    "for i in range(len(params['n_neighbors'])):\n",
    "    plt.annotate(round(clf.cv_results_['mean_test_score'][i],4), (params['n_neighbors'][i], clf.cv_results_['mean_test_score'][i]))\n",
    "plt.grid()\n",
    "plt.show()\n",
    "\n",
    "#Getting the best value of the hyper-parameters\n",
    "n_neighbors = clf.cv_results_['params'][np.argmax(clf.cv_results_['mean_test_score'])]['n_neighbors']\n",
    "\n",
    "knn = KNeighborsClassifier(n_neighbors = n_neighbors)\n",
    "knn.fit(df_train,train_labels)\n",
    "y_pred_knn_ae = knn.predict(df_test)\n",
    "\n",
    "print(\"The confusion matrix for the test set is\")\n",
    "print(confusion_matrix(test_labels,y_pred_knn_ae))\n",
    "\n",
    "\n",
    "print(\"Test Accuracy::\",accuracy_score(test_labels,y_pred_knn_ae))\n",
    "print(\"Test precision::\",precision_score(test_labels,y_pred_knn_ae))\n",
    "print(\"Test recall::\",recall_score(test_labels,y_pred_knn_ae))\n",
    "print(\"Test F1::\",f1_score(test_labels,y_pred_knn_ae))\n",
    "\n"
   ]
  },
  {
   "cell_type": "markdown",
   "id": "bc309c43",
   "metadata": {},
   "source": [
    "<h2>5.3 Logistic Regression Classifier</h2>"
   ]
  },
  {
   "cell_type": "code",
   "execution_count": 57,
   "id": "b8e1b099",
   "metadata": {},
   "outputs": [
    {
     "name": "stdout",
     "output_type": "stream",
     "text": [
      "The average CV score against the five C values are: [0.99194889 0.9919152  0.99227005 0.98949684 0.        ]\n",
      "**************************************************\n",
      "The plot of C vs F1 score\n"
     ]
    },
    {
     "data": {
      "image/png": "[encoded data removed]",
      "text/plain": [
       "<Figure size 432x288 with 1 Axes>"
      ]
     },
     "metadata": {
      "needs_background": "light"
     },
     "output_type": "display_data"
    },
    {
     "name": "stdout",
     "output_type": "stream",
     "text": [
      "**************************************************\n",
      "The confusion matrix for the test set is\n",
      "[[9226  485]\n",
      " [3709 9120]]\n",
      "Test Accuracy:: 0.8139307897071872\n",
      "Test precision:: 0.9495054659031754\n",
      "Test recall:: 0.7108893912230103\n",
      "Test F1:: 0.8130516180797004\n"
     ]
    }
   ],
   "source": [
    "params = {'C':[1,0.1,0.01,0.001,0.0001]}\n",
    "lr = LogisticRegression()\n",
    "clf = GridSearchCV(lr, params,scoring='f1')\n",
    "clf.fit(df_train,train_labels)\n",
    "\n",
    "print(\"The average CV score against the five C values are:\",clf.cv_results_['mean_test_score'])\n",
    "print(\"*\"*50)\n",
    "print(\"The plot of C vs F1 score\")\n",
    "plt.plot(params['C'],clf.cv_results_['mean_test_score'])\n",
    "plt.scatter(params['C'],clf.cv_results_['mean_test_score'])\n",
    "for i in range(len(params['C'])):\n",
    "    plt.annotate(round(clf.cv_results_['mean_test_score'][i],4), (params['C'][i], clf.cv_results_['mean_test_score'][i]))\n",
    "plt.grid()\n",
    "plt.show()\n",
    "print(\"*\"*50)\n",
    "#Getting the best value of the hyper-parameters\n",
    "C = clf.cv_results_['params'][np.argmax(clf.cv_results_['mean_test_score'])]['C']\n",
    "\n",
    "#Training with the best value of the C\n",
    "lr = LogisticRegression(C = C)\n",
    "lr.fit(df_train,train_labels)\n",
    "y_pred_lr_ae = lr.predict(df_test)\n",
    "\n",
    "print(\"The confusion matrix for the test set is\")\n",
    "print(confusion_matrix(test_labels,y_pred_lr_ae))\n",
    "\n",
    "print(\"Test Accuracy::\",accuracy_score(test_labels,y_pred_lr_ae))\n",
    "print(\"Test precision::\",precision_score(test_labels,y_pred_lr_ae))\n",
    "print(\"Test recall::\",recall_score(test_labels,y_pred_lr_ae))\n",
    "print(\"Test F1::\",f1_score(test_labels,y_pred_lr_ae))"
   ]
  },
  {
   "cell_type": "markdown",
   "id": "582ff7ce",
   "metadata": {},
   "source": [
    "<h2>5.4 Support Vector Classifier</h2>"
   ]
  },
  {
   "cell_type": "code",
   "execution_count": 58,
   "id": "24f563bc",
   "metadata": {},
   "outputs": [
    {
     "name": "stdout",
     "output_type": "stream",
     "text": [
      "The average CV score against the five C values are: [0.99478094 0.99280954 0.99270783 0.99270766 0.9919909 ]\n",
      "**************************************************\n",
      "The plot of C vs F1 score\n"
     ]
    },
    {
     "data": {
      "image/png": "[encoded data removed]",
      "text/plain": [
       "<Figure size 432x288 with 1 Axes>"
      ]
     },
     "metadata": {
      "needs_background": "light"
     },
     "output_type": "display_data"
    },
    {
     "name": "stdout",
     "output_type": "stream",
     "text": [
      "The confusion matrix for the test set is\n",
      "[[9443  268]\n",
      " [3808 9021]]\n",
      "Test Accuracy:: 0.8191659272404614\n",
      "Test precision:: 0.971148670470449\n",
      "Test recall:: 0.703172499805129\n",
      "Test F1:: 0.8157157066642552\n"
     ]
    }
   ],
   "source": [
    "params = {'C':[1,0.1,0.01,0.001,0.0001]}\n",
    "svc = SVC()\n",
    "clf = GridSearchCV(svc, params,scoring='f1')\n",
    "clf.fit(df_train,train_labels)\n",
    "\n",
    "print(\"The average CV score against the five C values are:\",clf.cv_results_['mean_test_score'])\n",
    "print(\"*\"*50)\n",
    "print(\"The plot of C vs F1 score\")\n",
    "plt.plot(params['C'],clf.cv_results_['mean_test_score'])\n",
    "plt.scatter(params['C'],clf.cv_results_['mean_test_score'])\n",
    "for i in range(len(params['C'])):\n",
    "    plt.annotate(round(clf.cv_results_['mean_test_score'][i],4), (params['C'][i], clf.cv_results_['mean_test_score'][i]))\n",
    "plt.grid()\n",
    "plt.show()\n",
    "\n",
    "#Getting the best value of the hyper-parameters\n",
    "C = clf.cv_results_['params'][np.argmax(clf.cv_results_['mean_test_score'])]['C']\n",
    "\n",
    "#Training with the best value of the C\n",
    "svc = SVC(C = C)\n",
    "svc.fit(df_train,train_labels)\n",
    "y_pred_svc_ae = svc.predict(df_test)\n",
    "\n",
    "print(\"The confusion matrix for the test set is\")\n",
    "print(confusion_matrix(test_labels,y_pred_svc_ae))\n",
    "\n",
    "print(\"Test Accuracy::\",accuracy_score(test_labels,y_pred_svc_ae))\n",
    "print(\"Test precision::\",precision_score(test_labels,y_pred_svc_ae))\n",
    "print(\"Test recall::\",recall_score(test_labels,y_pred_svc_ae))\n",
    "print(\"Test F1::\",f1_score(test_labels,y_pred_svc_ae))\n"
   ]
  },
  {
   "cell_type": "markdown",
   "id": "5bfe1360",
   "metadata": {},
   "source": [
    "<h2>5.5 Decision Tree Classifier</h2>"
   ]
  },
  {
   "cell_type": "code",
   "execution_count": 59,
   "id": "967ac9c1",
   "metadata": {},
   "outputs": [
    {
     "name": "stdout",
     "output_type": "stream",
     "text": [
      "The average CV score against the five min_samples_split values are: [0.99575352 0.99560807 0.99550593 0.99551413 0.99561667]\n",
      "**************************************************\n",
      "The plot of min_samples_split vs F1 score\n"
     ]
    },
    {
     "data": {
      "image/png": "[encoded data removed]",
      "text/plain": [
       "<Figure size 432x288 with 1 Axes>"
      ]
     },
     "metadata": {
      "needs_background": "light"
     },
     "output_type": "display_data"
    },
    {
     "name": "stdout",
     "output_type": "stream",
     "text": [
      "The confusion matrix for the test set is\n",
      "[[9234  477]\n",
      " [3926 8903]]\n",
      "Test Accuracy:: 0.8046583850931677\n",
      "Test precision:: 0.9491471215351812\n",
      "Test recall:: 0.6939745888221998\n",
      "Test F1:: 0.8017470394884956\n"
     ]
    }
   ],
   "source": [
    "params = {'min_samples_split':[2,4,6,8,10]}\n",
    "dtc = DecisionTreeClassifier()\n",
    "clf = GridSearchCV(dtc, params,scoring='f1')\n",
    "clf.fit(df_train,train_labels)\n",
    "\n",
    "print(\"The average CV score against the five min_samples_split values are:\",clf.cv_results_['mean_test_score'])\n",
    "print(\"*\"*50)\n",
    "print(\"The plot of min_samples_split vs F1 score\")\n",
    "\n",
    "plt.plot(params['min_samples_split'],clf.cv_results_['mean_test_score'])\n",
    "plt.scatter(params['min_samples_split'],clf.cv_results_['mean_test_score'])\n",
    "for i in range(len(params['min_samples_split'])):\n",
    "    plt.annotate(round(clf.cv_results_['mean_test_score'][i],4), (params['min_samples_split'][i], clf.cv_results_['mean_test_score'][i]))\n",
    "plt.grid()\n",
    "plt.show()\n",
    "\n",
    "#Getting the best value of the hyper-parameters\n",
    "min_samples_split = clf.cv_results_['params'][np.argmax(clf.cv_results_['mean_test_score'])]['min_samples_split']\n",
    "\n",
    "dtc = DecisionTreeClassifier(min_samples_split = min_samples_split)\n",
    "dtc.fit(df_train,train_labels)\n",
    "y_pred_dtc_ae = dtc.predict(df_test)\n",
    "\n",
    "\n",
    "print(\"The confusion matrix for the test set is\")\n",
    "print(confusion_matrix(test_labels,y_pred_dtc_ae))\n",
    "\n",
    "print(\"Test Accuracy::\",accuracy_score(test_labels,y_pred_dtc_ae))\n",
    "print(\"Test precision::\",precision_score(test_labels,y_pred_dtc_ae))\n",
    "print(\"Test recall::\",recall_score(test_labels,y_pred_dtc_ae))\n",
    "print(\"Test F1::\",f1_score(test_labels,y_pred_dtc_ae))"
   ]
  },
  {
   "cell_type": "markdown",
   "id": "5483b5ce",
   "metadata": {},
   "source": [
    "<h2>5.6 Random Forest Classifier</h2>"
   ]
  },
  {
   "cell_type": "code",
   "execution_count": 6,
   "id": "8c53e61e",
   "metadata": {},
   "outputs": [
    {
     "name": "stdout",
     "output_type": "stream",
     "text": [
      "The average CV score against the five n_estimators values are: [0.99700424 0.99700449 0.99696185 0.99699611 0.99698751]\n",
      "**************************************************\n",
      "The plot of n_estimators vs F1 score\n"
     ]
    },
    {
     "data": {
      "image/png": "[encoded data removed]",
      "text/plain": [
       "<Figure size 432x288 with 1 Axes>"
      ]
     },
     "metadata": {
      "needs_background": "light"
     },
     "output_type": "display_data"
    },
    {
     "name": "stdout",
     "output_type": "stream",
     "text": [
      "The confusion matrix for the test set is\n",
      "[[9451  260]\n",
      " [3909 8920]]\n",
      "Test Accuracy:: 0.8150399290150843\n",
      "Test precision:: 0.971677559912854\n",
      "Test recall:: 0.6952997115909268\n",
      "Test F1:: 0.8105774910263983\n"
     ]
    }
   ],
   "source": [
    "params = {'n_estimators':[100,500,1000,1500,2000]}\n",
    "rfc = RandomForestClassifier()\n",
    "clf = GridSearchCV(rfc, params,scoring='f1')\n",
    "clf.fit(df_train,train_labels)\n",
    "\n",
    "print(\"The average CV score against the five n_estimators values are:\",clf.cv_results_['mean_test_score'])\n",
    "print(\"*\"*50)\n",
    "print(\"The plot of n_estimators vs F1 score\")\n",
    "\n",
    "plt.plot(params['n_estimators'],clf.cv_results_['mean_test_score'])\n",
    "plt.scatter(params['n_estimators'],clf.cv_results_['mean_test_score'])\n",
    "for i in range(len(params['n_estimators'])):\n",
    "    plt.annotate(round(clf.cv_results_['mean_test_score'][i],4), (params['n_estimators'][i], clf.cv_results_['mean_test_score'][i]))\n",
    "plt.grid()\n",
    "plt.show()\n",
    "\n",
    "#Getting the best value of the hyper-parameters\n",
    "n_estimators = clf.cv_results_['params'][np.argmax(clf.cv_results_['mean_test_score'])]['n_estimators']\n",
    "\n",
    "rfc = RandomForestClassifier(n_estimators = n_estimators)\n",
    "rfc.fit(df_train,train_labels)\n",
    "y_pred_rfc_ae = rfc.predict(df_test)\n",
    "\n",
    "\n",
    "print(\"The confusion matrix for the test set is\")\n",
    "print(confusion_matrix(test_labels,y_pred_rfc_ae))\n",
    "\n",
    "print(\"Test Accuracy::\",accuracy_score(test_labels,y_pred_rfc_ae))\n",
    "print(\"Test precision::\",precision_score(test_labels,y_pred_rfc_ae))\n",
    "print(\"Test recall::\",recall_score(test_labels,y_pred_rfc_ae))\n",
    "print(\"Test F1::\",f1_score(test_labels,y_pred_rfc_ae))"
   ]
  },
  {
   "cell_type": "markdown",
   "id": "d1e8535d",
   "metadata": {},
   "source": [
    "<h2>5.7 GBDT Classifier</h2>"
   ]
  },
  {
   "cell_type": "code",
   "execution_count": 5,
   "id": "063ca522",
   "metadata": {},
   "outputs": [
    {
     "name": "stdout",
     "output_type": "stream",
     "text": [
      "The average CV score against the five n_estimators values are: [0.99604048 0.99586274 0.99605009 0.99610119 0.99597336]\n",
      "**************************************************\n",
      "The plot of n_estimators vs F1 score\n"
     ]
    },
    {
     "data": {
      "image/png": "[encoded data removed]",
      "text/plain": [
       "<Figure size 432x288 with 1 Axes>"
      ]
     },
     "metadata": {
      "needs_background": "light"
     },
     "output_type": "display_data"
    },
    {
     "name": "stdout",
     "output_type": "stream",
     "text": [
      "The confusion matrix for the test set is\n",
      "[[9340  371]\n",
      " [3857 8972]]\n",
      "Test Accuracy:: 0.8124223602484472\n",
      "Test precision:: 0.960291127046987\n",
      "Test recall:: 0.6993530282952686\n",
      "Test F1:: 0.8093090384268447\n"
     ]
    }
   ],
   "source": [
    "params = {'n_estimators':[100,500,1000,1500,2000]}\n",
    "gbc = GradientBoostingClassifier()\n",
    "clf = GridSearchCV(gbc, params,scoring='f1')\n",
    "clf.fit(df_train,train_labels)\n",
    "\n",
    "print(\"The average CV score against the five n_estimators values are:\",clf.cv_results_['mean_test_score'])\n",
    "print(\"*\"*50)\n",
    "print(\"The plot of n_estimators vs F1 score\")\n",
    "\n",
    "plt.plot(params['n_estimators'],clf.cv_results_['mean_test_score'])\n",
    "plt.scatter(params['n_estimators'],clf.cv_results_['mean_test_score'])\n",
    "for i in range(len(params['n_estimators'])):\n",
    "    plt.annotate(round(clf.cv_results_['mean_test_score'][i],4), (params['n_estimators'][i], clf.cv_results_['mean_test_score'][i]))\n",
    "plt.grid()\n",
    "plt.show()\n",
    "\n",
    "#Getting the best value of the hyper-parameters\n",
    "n_estimators = clf.cv_results_['params'][np.argmax(clf.cv_results_['mean_test_score'])]['n_estimators']\n",
    "\n",
    "gbc = GradientBoostingClassifier(n_estimators = n_estimators)\n",
    "gbc.fit(df_train,train_labels)\n",
    "y_pred_gbc_ae = gbc.predict(df_test)\n",
    "\n",
    "print(\"The confusion matrix for the test set is\")\n",
    "print(confusion_matrix(test_labels,y_pred_gbc_ae))\n",
    "\n",
    "print(\"Test Accuracy::\",accuracy_score(test_labels,y_pred_gbc_ae))\n",
    "print(\"Test precision::\",precision_score(test_labels,y_pred_gbc_ae))\n",
    "print(\"Test recall::\",recall_score(test_labels,y_pred_gbc_ae))\n",
    "print(\"Test F1::\",f1_score(test_labels,y_pred_gbc_ae))"
   ]
  },
  {
   "cell_type": "markdown",
   "id": "55795bd6",
   "metadata": {},
   "source": [
    "<h2>5.8 MLP Classifier</h2>"
   ]
  },
  {
   "cell_type": "code",
   "execution_count": 6,
   "id": "d694d055",
   "metadata": {},
   "outputs": [
    {
     "name": "stdout",
     "output_type": "stream",
     "text": [
      "Model: \"sequential\"\n",
      "_________________________________________________________________\n",
      "Layer (type)                 Output Shape              Param #   \n",
      "=================================================================\n",
      "dense (Dense)                (None, 6256)              68816     \n",
      "_________________________________________________________________\n",
      "dropout (Dropout)            (None, 6256)              0         \n",
      "_________________________________________________________________\n",
      "dense_1 (Dense)              (None, 256)               1601792   \n",
      "_________________________________________________________________\n",
      "dropout_1 (Dropout)          (None, 256)               0         \n",
      "_________________________________________________________________\n",
      "dense_2 (Dense)              (None, 128)               32896     \n",
      "_________________________________________________________________\n",
      "dropout_2 (Dropout)          (None, 128)               0         \n",
      "_________________________________________________________________\n",
      "dense_3 (Dense)              (None, 128)               16512     \n",
      "_________________________________________________________________\n",
      "dropout_3 (Dropout)          (None, 128)               0         \n",
      "_________________________________________________________________\n",
      "batch_normalization (BatchNo (None, 128)               512       \n",
      "_________________________________________________________________\n",
      "dense_4 (Dense)              (None, 64)                8256      \n",
      "_________________________________________________________________\n",
      "dropout_4 (Dropout)          (None, 64)                0         \n",
      "_________________________________________________________________\n",
      "dense_5 (Dense)              (None, 1)                 65        \n",
      "=================================================================\n",
      "Total params: 1,728,849\n",
      "Trainable params: 1,728,593\n",
      "Non-trainable params: 256\n",
      "_________________________________________________________________\n",
      "None\n",
      "Epoch 1/20\n",
      "2756/2756 [==============================] - 20s 6ms/step - loss: 0.0301 - accuracy: 0.9924 - val_loss: 0.0191 - val_accuracy: 0.9934\n",
      "Epoch 2/20\n",
      "2756/2756 [==============================] - 18s 6ms/step - loss: 0.0254 - accuracy: 0.9929 - val_loss: 0.0246 - val_accuracy: 0.9934\n",
      "Epoch 3/20\n",
      "2756/2756 [==============================] - 17s 6ms/step - loss: 0.0255 - accuracy: 0.9928 - val_loss: 0.0198 - val_accuracy: 0.9948\n",
      "Epoch 4/20\n",
      "2756/2756 [==============================] - 18s 7ms/step - loss: 0.0238 - accuracy: 0.9928 - val_loss: 0.0180 - val_accuracy: 0.9935\n",
      "Epoch 5/20\n",
      "2756/2756 [==============================] - 17s 6ms/step - loss: 0.0236 - accuracy: 0.9930 - val_loss: 0.0181 - val_accuracy: 0.9929\n",
      "Epoch 6/20\n",
      "2756/2756 [==============================] - 17s 6ms/step - loss: 0.0228 - accuracy: 0.9935 - val_loss: 0.0195 - val_accuracy: 0.9937\n",
      "Epoch 7/20\n",
      "2756/2756 [==============================] - 18s 6ms/step - loss: 0.0222 - accuracy: 0.9934 - val_loss: 0.0178 - val_accuracy: 0.9931\n",
      "Epoch 8/20\n",
      "2756/2756 [==============================] - 17s 6ms/step - loss: 0.0218 - accuracy: 0.9935 - val_loss: 0.0282 - val_accuracy: 0.9936\n",
      "Epoch 9/20\n",
      "2756/2756 [==============================] - 17s 6ms/step - loss: 0.0222 - accuracy: 0.9939 - val_loss: 0.0164 - val_accuracy: 0.9957\n",
      "Epoch 10/20\n",
      "2756/2756 [==============================] - 17s 6ms/step - loss: 0.0208 - accuracy: 0.9944 - val_loss: 0.0152 - val_accuracy: 0.9957\n",
      "Epoch 11/20\n",
      "2756/2756 [==============================] - 18s 6ms/step - loss: 0.0222 - accuracy: 0.9937 - val_loss: 0.0168 - val_accuracy: 0.9950\n",
      "Epoch 12/20\n",
      "2756/2756 [==============================] - 17s 6ms/step - loss: 0.0206 - accuracy: 0.9944 - val_loss: 0.0156 - val_accuracy: 0.9958\n",
      "Epoch 13/20\n",
      "2756/2756 [==============================] - 17s 6ms/step - loss: 0.0219 - accuracy: 0.9940 - val_loss: 0.0177 - val_accuracy: 0.9939\n",
      "Epoch 14/20\n",
      "2756/2756 [==============================] - 18s 6ms/step - loss: 0.0205 - accuracy: 0.9945 - val_loss: 0.0151 - val_accuracy: 0.9958\n",
      "Epoch 15/20\n",
      "2756/2756 [==============================] - 18s 6ms/step - loss: 0.0213 - accuracy: 0.9940 - val_loss: 0.0210 - val_accuracy: 0.9936\n",
      "Epoch 16/20\n",
      "2756/2756 [==============================] - 17s 6ms/step - loss: 0.0208 - accuracy: 0.9942 - val_loss: 0.0145 - val_accuracy: 0.9963\n",
      "Epoch 17/20\n",
      "2756/2756 [==============================] - 17s 6ms/step - loss: 0.0196 - accuracy: 0.9949 - val_loss: 0.0153 - val_accuracy: 0.9962\n",
      "Epoch 18/20\n",
      "2756/2756 [==============================] - 17s 6ms/step - loss: 0.0201 - accuracy: 0.9947 - val_loss: 0.0153 - val_accuracy: 0.9960\n",
      "Epoch 19/20\n",
      "2756/2756 [==============================] - 17s 6ms/step - loss: 0.0194 - accuracy: 0.9951 - val_loss: 0.0175 - val_accuracy: 0.9938\n",
      "Epoch 20/20\n",
      "2756/2756 [==============================] - 17s 6ms/step - loss: 0.0198 - accuracy: 0.9945 - val_loss: 0.0167 - val_accuracy: 0.9948\n",
      "The confusion matrix for the test set is\n",
      "[[9090  621]\n",
      " [3716 9113]]\n",
      "Test Accuracy:: 0.807586512866016\n",
      "Test precision:: 0.9362029997945346\n",
      "Test recall:: 0.7103437524358874\n",
      "Test F1:: 0.8077826530159996\n"
     ]
    }
   ],
   "source": [
    "from tensorflow.keras.callbacks import ModelCheckpoint\n",
    "model = Sequential() \n",
    "model.add(Dense(6256, activation = 'relu',kernel_initializer = 'he_normal',input_shape = (df_train.shape[1],)))  \n",
    "model.add(Dropout(0.2))\n",
    "model.add(Dense(256, activation = 'relu',kernel_initializer = 'he_normal'))  \n",
    "model.add(Dropout(0.2))\n",
    "model.add(Dense(128, activation = 'relu',kernel_initializer = 'he_normal'))  \n",
    "model.add(Dropout(0.2))\n",
    "model.add(Dense(128, activation = 'relu',kernel_initializer = 'he_normal'))  \n",
    "model.add(Dropout(0.2))\n",
    "model.add(BatchNormalization())\n",
    "model.add(Dense(64, activation = 'relu',kernel_initializer = 'he_normal'))  \n",
    "model.add(Dropout(0.2))\n",
    "model.add(Dense(1, activation = 'sigmoid'))\n",
    "print(model.summary())\n",
    "\n",
    "\n",
    "optimizer = Adam(learning_rate=.001)\n",
    "model.compile(loss = 'binary_crossentropy', optimizer = optimizer, metrics = ['accuracy'])\n",
    "\n",
    "history = model.fit(\n",
    "   df_train,train_labels,    \n",
    "   epochs =20, \n",
    "   verbose = 1, \n",
    "   validation_split = 0.3, \n",
    "   callbacks = [EarlyStopping(monitor = 'val_loss', patience = 5)]\n",
    ")\n",
    "\n",
    "y_pred_mlp_ae = model.predict_classes(df_test)\n",
    "\n",
    "print(\"The confusion matrix for the test set is\")\n",
    "print(confusion_matrix(test_labels,y_pred_mlp_ae))\n",
    "\n",
    "print(\"Test Accuracy::\",accuracy_score(test_labels,y_pred_mlp_ae))\n",
    "print(\"Test precision::\",precision_score(test_labels,y_pred_mlp_ae))\n",
    "print(\"Test recall::\",recall_score(test_labels,y_pred_mlp_ae))\n",
    "print(\"Test F1::\",f1_score(test_labels,y_pred_mlp_ae))"
   ]
  },
  {
   "cell_type": "markdown",
   "id": "06db4caf",
   "metadata": {},
   "source": [
    "<h2>6. Modelling with features selected through Recursive Feature Selection</h2>"
   ]
  },
  {
   "cell_type": "code",
   "execution_count": 4,
   "id": "d362f84d",
   "metadata": {},
   "outputs": [],
   "source": [
    "df_train = pd.read_csv(\"df_train_rfe.csv\").drop(columns='Unnamed: 0')\n",
    "df_test = pd.read_csv(\"df_test_rfe.csv\").drop(columns='Unnamed: 0')"
   ]
  },
  {
   "cell_type": "code",
   "execution_count": 34,
   "id": "73ff3774",
   "metadata": {},
   "outputs": [
    {
     "data": {
      "text/plain": [
       "((125963, 30), (22540, 30))"
      ]
     },
     "execution_count": 34,
     "metadata": {},
     "output_type": "execute_result"
    }
   ],
   "source": [
    "df_train.shape, df_test.shape"
   ]
  },
  {
   "cell_type": "markdown",
   "id": "c8fa31c8",
   "metadata": {},
   "source": [
    "<h2>6.1 Naive Bayes Classifier</h2>"
   ]
  },
  {
   "cell_type": "code",
   "execution_count": 8,
   "id": "1bd5b8ed",
   "metadata": {},
   "outputs": [
    {
     "name": "stdout",
     "output_type": "stream",
     "text": [
      "The average CV score against the five var_smoothing values are: [0.93333992 0.93546478 0.93678869 0.93517581 0.91377437]\n",
      "**************************************************\n",
      "The plot of var_smoothing vs F1 score\n"
     ]
    },
    {
     "data": {
      "image/png": "[encoded data removed]",
      "text/plain": [
       "<Figure size 432x288 with 1 Axes>"
      ]
     },
     "metadata": {
      "needs_background": "light"
     },
     "output_type": "display_data"
    },
    {
     "name": "stdout",
     "output_type": "stream",
     "text": [
      "The confusion matrix for the test set is\n",
      "[[8582 1129]\n",
      " [3941 8888]]\n",
      "Test Accuracy:: 0.7750665483584738\n",
      "Test precision:: 0.8872916042727363\n",
      "Test recall:: 0.6928053628497934\n",
      "Test F1:: 0.7780793136654119\n"
     ]
    }
   ],
   "source": [
    "params = {'var_smoothing':[0.001,0.005,0.01,0.05,0.1]}\n",
    "gnb = GaussianNB()\n",
    "clf = GridSearchCV(gnb, params,scoring='f1')\n",
    "clf.fit(df_train,train_labels)\n",
    "\n",
    "print(\"The average CV score against the five var_smoothing values are:\",clf.cv_results_['mean_test_score'])\n",
    "print(\"*\"*50)\n",
    "print(\"The plot of var_smoothing vs F1 score\")\n",
    "\n",
    "plt.plot(params['var_smoothing'],clf.cv_results_['mean_test_score'])\n",
    "plt.scatter(params['var_smoothing'],clf.cv_results_['mean_test_score'])\n",
    "for i in range(len(params['var_smoothing'])):\n",
    "    plt.annotate(round(clf.cv_results_['mean_test_score'][i],4), (params['var_smoothing'][i], clf.cv_results_['mean_test_score'][i]))\n",
    "plt.grid()\n",
    "plt.show()\n",
    "\n",
    "#Getting the best value of the hyper-parameters\n",
    "var_smoothing = clf.cv_results_['params'][np.argmax(clf.cv_results_['mean_test_score'])]['var_smoothing']\n",
    "\n",
    "gnb = GaussianNB(var_smoothing = var_smoothing)\n",
    "gnb.fit(df_train,train_labels)\n",
    "y_pred_gnb_rfe = gnb.predict(df_test)\n",
    "\n",
    "print(\"The confusion matrix for the test set is\")\n",
    "print(confusion_matrix(test_labels,y_pred_gnb_rfe))\n",
    "\n",
    "print(\"Test Accuracy::\",accuracy_score(test_labels,y_pred_gnb_rfe))\n",
    "print(\"Test precision::\",precision_score(test_labels,y_pred_gnb_rfe))\n",
    "print(\"Test recall::\",recall_score(test_labels,y_pred_gnb_rfe))\n",
    "print(\"Test F1::\",f1_score(test_labels,y_pred_gnb_rfe))\n"
   ]
  },
  {
   "cell_type": "markdown",
   "id": "a7c5ad4d",
   "metadata": {},
   "source": [
    "<h2> 6.2 KNN Classifier</h2>"
   ]
  },
  {
   "cell_type": "code",
   "execution_count": 9,
   "id": "ea3aab74",
   "metadata": {},
   "outputs": [
    {
     "name": "stdout",
     "output_type": "stream",
     "text": [
      "The average CV score against the five n_neighbors values are: [0.99622073 0.99558084 0.99528229 0.99470179 0.99463205]\n",
      "**************************************************\n",
      "The plot of n_neighbors vs F1 score\n"
     ]
    },
    {
     "data": {
      "image/png": "[encoded data removed]",
      "text/plain": [
       "<Figure size 432x288 with 1 Axes>"
      ]
     },
     "metadata": {
      "needs_background": "light"
     },
     "output_type": "display_data"
    },
    {
     "name": "stdout",
     "output_type": "stream",
     "text": [
      "The confusion matrix for the test set is\n",
      "[[8987  724]\n",
      " [4534 8295]]\n",
      "Test Accuracy:: 0.7667258207630878\n",
      "Test precision:: 0.9197250249473334\n",
      "Test recall:: 0.6465819627406657\n",
      "Test F1:: 0.7593372391065545\n"
     ]
    }
   ],
   "source": [
    "params = {'n_neighbors':[3,5,7,9,11]}\n",
    "knn = KNeighborsClassifier()\n",
    "clf = GridSearchCV(knn, params,scoring='f1', n_jobs=-1)\n",
    "clf.fit(df_train,train_labels)\n",
    "\n",
    "print(\"The average CV score against the five n_neighbors values are:\",clf.cv_results_['mean_test_score'])\n",
    "print(\"*\"*50)\n",
    "print(\"The plot of n_neighbors vs F1 score\")\n",
    "\n",
    "plt.plot(params['n_neighbors'],clf.cv_results_['mean_test_score'])\n",
    "plt.scatter(params['n_neighbors'],clf.cv_results_['mean_test_score'])\n",
    "for i in range(len(params['n_neighbors'])):\n",
    "    plt.annotate(round(clf.cv_results_['mean_test_score'][i],4), (params['n_neighbors'][i], clf.cv_results_['mean_test_score'][i]))\n",
    "plt.grid()\n",
    "plt.show()\n",
    "\n",
    "#Getting the best value of the hyper-parameters\n",
    "n_neighbors = clf.cv_results_['params'][np.argmax(clf.cv_results_['mean_test_score'])]['n_neighbors']\n",
    "\n",
    "knn = KNeighborsClassifier(n_neighbors = n_neighbors)\n",
    "knn.fit(df_train,train_labels)\n",
    "y_pred_knn_rfe = knn.predict(df_test)\n",
    "\n",
    "print(\"The confusion matrix for the test set is\")\n",
    "print(confusion_matrix(test_labels,y_pred_knn_rfe))\n",
    "\n",
    "\n",
    "print(\"Test Accuracy::\",accuracy_score(test_labels,y_pred_knn_rfe))\n",
    "print(\"Test precision::\",precision_score(test_labels,y_pred_knn_rfe))\n",
    "print(\"Test recall::\",recall_score(test_labels,y_pred_knn_rfe))\n",
    "print(\"Test F1::\",f1_score(test_labels,y_pred_knn_rfe))\n"
   ]
  },
  {
   "cell_type": "markdown",
   "id": "a7448f26",
   "metadata": {},
   "source": [
    "<h2>6.3 Logistic Regression Classifier</h2>"
   ]
  },
  {
   "cell_type": "code",
   "execution_count": 10,
   "id": "89f83eb2",
   "metadata": {},
   "outputs": [
    {
     "name": "stdout",
     "output_type": "stream",
     "text": [
      "The average CV score against the five C values are: [0.96485594 0.9651649  0.96636764 0.95806347 0.89828424]\n",
      "**************************************************\n",
      "The plot of C vs F1 score\n"
     ]
    },
    {
     "data": {
      "image/png": "[encoded data removed]",
      "text/plain": [
       "<Figure size 432x288 with 1 Axes>"
      ]
     },
     "metadata": {
      "needs_background": "light"
     },
     "output_type": "display_data"
    },
    {
     "name": "stdout",
     "output_type": "stream",
     "text": [
      "**************************************************\n",
      "The confusion matrix for the test set is\n",
      "[[8978  733]\n",
      " [5517 7312]]\n",
      "Test Accuracy:: 0.7227151730257321\n",
      "Test precision:: 0.9088875077688005\n",
      "Test recall:: 0.5699586873489749\n",
      "Test F1:: 0.7005844591357668\n"
     ]
    }
   ],
   "source": [
    "\n",
    "params = {'C':[1,0.1,0.01,0.001,0.0001]}\n",
    "lr = LogisticRegression()\n",
    "clf = GridSearchCV(lr, params,scoring='f1')\n",
    "clf.fit(df_train,train_labels)\n",
    "\n",
    "print(\"The average CV score against the five C values are:\",clf.cv_results_['mean_test_score'])\n",
    "print(\"*\"*50)\n",
    "print(\"The plot of C vs F1 score\")\n",
    "plt.plot(params['C'],clf.cv_results_['mean_test_score'])\n",
    "plt.scatter(params['C'],clf.cv_results_['mean_test_score'])\n",
    "for i in range(len(params['C'])):\n",
    "    plt.annotate(round(clf.cv_results_['mean_test_score'][i],4), (params['C'][i], clf.cv_results_['mean_test_score'][i]))\n",
    "plt.grid()\n",
    "plt.show()\n",
    "print(\"*\"*50)\n",
    "#Getting the best value of the hyper-parameters\n",
    "C = clf.cv_results_['params'][np.argmax(clf.cv_results_['mean_test_score'])]['C']\n",
    "\n",
    "#Training with the best value of the C\n",
    "lr = LogisticRegression(C = C)\n",
    "lr.fit(df_train,train_labels)\n",
    "y_pred_lr_rfe = lr.predict(df_test)\n",
    "\n",
    "print(\"The confusion matrix for the test set is\")\n",
    "print(confusion_matrix(test_labels,y_pred_lr_rfe))\n",
    "\n",
    "print(\"Test Accuracy::\",accuracy_score(test_labels,y_pred_lr_rfe))\n",
    "print(\"Test precision::\",precision_score(test_labels,y_pred_lr_rfe))\n",
    "print(\"Test recall::\",recall_score(test_labels,y_pred_lr_rfe))\n",
    "print(\"Test F1::\",f1_score(test_labels,y_pred_lr_rfe))"
   ]
  },
  {
   "cell_type": "markdown",
   "id": "e94b2db8",
   "metadata": {},
   "source": [
    "<h2>6.4 Support Vector Classifier</h2>"
   ]
  },
  {
   "cell_type": "code",
   "execution_count": 118,
   "id": "7440a0a5",
   "metadata": {},
   "outputs": [
    {
     "name": "stdout",
     "output_type": "stream",
     "text": [
      "The average CV score against the five C values are: [0.98465213 0.97824884 0.97341045 0.96307878 0.8938299 ]\n",
      "**************************************************\n",
      "The plot of C vs F1 score\n"
     ]
    },
    {
     "data": {
      "image/png": "[encoded data removed]",
      "text/plain": [
       "<Figure size 432x288 with 1 Axes>"
      ]
     },
     "metadata": {
      "needs_background": "light"
     },
     "output_type": "display_data"
    },
    {
     "name": "stdout",
     "output_type": "stream",
     "text": [
      "The confusion matrix for the test set is\n",
      "[[8974  737]\n",
      " [4510 8319]]\n",
      "Test Accuracy:: 0.7672138420585626\n",
      "Test precision:: 0.9186174911660777\n",
      "Test recall:: 0.6484527242965157\n",
      "Test F1:: 0.7602467443454421\n"
     ]
    }
   ],
   "source": [
    "params = {'C':[1,0.1,0.01,0.001,0.0001]}\n",
    "svc = SVC()\n",
    "clf = GridSearchCV(svc, params,scoring='f1')\n",
    "clf.fit(df_train,train_labels)\n",
    "\n",
    "print(\"The average CV score against the five C values are:\",clf.cv_results_['mean_test_score'])\n",
    "print(\"*\"*50)\n",
    "print(\"The plot of C vs F1 score\")\n",
    "plt.plot(params['C'],clf.cv_results_['mean_test_score'])\n",
    "plt.scatter(params['C'],clf.cv_results_['mean_test_score'])\n",
    "for i in range(len(params['C'])):\n",
    "    plt.annotate(round(clf.cv_results_['mean_test_score'][i],4), (params['C'][i], clf.cv_results_['mean_test_score'][i]))\n",
    "plt.grid()\n",
    "plt.show()\n",
    "\n",
    "#Getting the best value of the hyper-parameters\n",
    "C = clf.cv_results_['params'][np.argmax(clf.cv_results_['mean_test_score'])]['C']\n",
    "\n",
    "#Training with the best value of the C\n",
    "svc = SVC(C = C)\n",
    "svc.fit(df_train,train_labels)\n",
    "y_pred_svc_rfe = svc.predict(df_test)\n",
    "\n",
    "print(\"The confusion matrix for the test set is\")\n",
    "print(confusion_matrix(test_labels,y_pred_svc_rfe))\n",
    "\n",
    "print(\"Test Accuracy::\",accuracy_score(test_labels,y_pred_svc_rfe))\n",
    "print(\"Test precision::\",precision_score(test_labels,y_pred_svc_rfe))\n",
    "print(\"Test recall::\",recall_score(test_labels,y_pred_svc_rfe))\n",
    "print(\"Test F1::\",f1_score(test_labels,y_pred_svc_rfe))"
   ]
  },
  {
   "cell_type": "markdown",
   "id": "52b8d400",
   "metadata": {},
   "source": [
    "<h2>6.5 Decision Tree Classifier</h2>"
   ]
  },
  {
   "cell_type": "code",
   "execution_count": 119,
   "id": "55036be7",
   "metadata": {},
   "outputs": [
    {
     "name": "stdout",
     "output_type": "stream",
     "text": [
      "The average CV score against the five min_samples_split values are: [0.99692172 0.99683602 0.99676756 0.99657982 0.996588  ]\n",
      "**************************************************\n",
      "The plot of min_samples_split vs F1 score\n"
     ]
    },
    {
     "data": {
      "image/png": "[encoded data removed]",
      "text/plain": [
       "<Figure size 432x288 with 1 Axes>"
      ]
     },
     "metadata": {
      "needs_background": "light"
     },
     "output_type": "display_data"
    },
    {
     "name": "stdout",
     "output_type": "stream",
     "text": [
      "The confusion matrix for the test set is\n",
      "[[8929  782]\n",
      " [4087 8742]]\n",
      "Test Accuracy:: 0.7839840283939663\n",
      "Test precision:: 0.9178916421671567\n",
      "Test recall:: 0.6814248967183725\n",
      "Test F1:: 0.7821768890081869\n"
     ]
    }
   ],
   "source": [
    "\n",
    "params = {'min_samples_split':[2,4,6,8,10]}\n",
    "dtc = DecisionTreeClassifier()\n",
    "clf = GridSearchCV(dtc, params,scoring='f1')\n",
    "clf.fit(df_train,train_labels)\n",
    "\n",
    "print(\"The average CV score against the five min_samples_split values are:\",clf.cv_results_['mean_test_score'])\n",
    "print(\"*\"*50)\n",
    "print(\"The plot of min_samples_split vs F1 score\")\n",
    "\n",
    "plt.plot(params['min_samples_split'],clf.cv_results_['mean_test_score'])\n",
    "plt.scatter(params['min_samples_split'],clf.cv_results_['mean_test_score'])\n",
    "for i in range(len(params['min_samples_split'])):\n",
    "    plt.annotate(round(clf.cv_results_['mean_test_score'][i],4), (params['min_samples_split'][i], clf.cv_results_['mean_test_score'][i]))\n",
    "plt.grid()\n",
    "plt.show()\n",
    "\n",
    "#Getting the best value of the hyper-parameters\n",
    "min_samples_split = clf.cv_results_['params'][np.argmax(clf.cv_results_['mean_test_score'])]['min_samples_split']\n",
    "\n",
    "dtc = DecisionTreeClassifier(min_samples_split = min_samples_split)\n",
    "dtc.fit(df_train,train_labels)\n",
    "y_pred_dtc_rfe = dtc.predict(df_test)\n",
    "\n",
    "\n",
    "print(\"The confusion matrix for the test set is\")\n",
    "print(confusion_matrix(test_labels,y_pred_dtc_rfe))\n",
    "\n",
    "print(\"Test Accuracy::\",accuracy_score(test_labels,y_pred_dtc_rfe))\n",
    "print(\"Test precision::\",precision_score(test_labels,y_pred_dtc_rfe))\n",
    "print(\"Test recall::\",recall_score(test_labels,y_pred_dtc_rfe))\n",
    "print(\"Test F1::\",f1_score(test_labels,y_pred_dtc_rfe))"
   ]
  },
  {
   "cell_type": "markdown",
   "id": "95f8c02e",
   "metadata": {},
   "source": [
    "<h2>6.6 Random Forest Classifier</h2>"
   ]
  },
  {
   "cell_type": "code",
   "execution_count": 120,
   "id": "8c822637",
   "metadata": {},
   "outputs": [
    {
     "name": "stdout",
     "output_type": "stream",
     "text": [
      "The average CV score against the five n_estimators values are: [0.99789161 0.99801131 0.99800274 0.99805408 0.99804548]\n",
      "**************************************************\n",
      "The plot of n_estimators vs F1 score\n"
     ]
    },
    {
     "data": {
      "image/png": "[encoded data removed]",
      "text/plain": [
       "<Figure size 432x288 with 1 Axes>"
      ]
     },
     "metadata": {
      "needs_background": "light"
     },
     "output_type": "display_data"
    },
    {
     "name": "stdout",
     "output_type": "stream",
     "text": [
      "The confusion matrix for the test set is\n",
      "[[9426  285]\n",
      " [4960 7869]]\n",
      "Test Accuracy:: 0.7673025732031943\n",
      "Test precision:: 0.9650478292862399\n",
      "Test recall:: 0.6133759451243277\n",
      "Test F1:: 0.7500357432207024\n"
     ]
    }
   ],
   "source": [
    "params = {'n_estimators':[100,500,1000,1500,2000]}\n",
    "rfc = RandomForestClassifier()\n",
    "clf = GridSearchCV(rfc, params,scoring='f1')\n",
    "clf.fit(df_train,train_labels)\n",
    "\n",
    "print(\"The average CV score against the five n_estimators values are:\",clf.cv_results_['mean_test_score'])\n",
    "print(\"*\"*50)\n",
    "print(\"The plot of n_estimators vs F1 score\")\n",
    "\n",
    "plt.plot(params['n_estimators'],clf.cv_results_['mean_test_score'])\n",
    "plt.scatter(params['n_estimators'],clf.cv_results_['mean_test_score'])\n",
    "for i in range(len(params['n_estimators'])):\n",
    "    plt.annotate(round(clf.cv_results_['mean_test_score'][i],4), (params['n_estimators'][i], clf.cv_results_['mean_test_score'][i]))\n",
    "plt.grid()\n",
    "plt.show()\n",
    "\n",
    "#Getting the best value of the hyper-parameters\n",
    "n_estimators = clf.cv_results_['params'][np.argmax(clf.cv_results_['mean_test_score'])]['n_estimators']\n",
    "\n",
    "rfc = RandomForestClassifier(n_estimators = n_estimators)\n",
    "rfc.fit(df_train,train_labels)\n",
    "y_pred_rfc_rfe = rfc.predict(df_test)\n",
    "\n",
    "\n",
    "print(\"The confusion matrix for the test set is\")\n",
    "print(confusion_matrix(test_labels,y_pred_rfc_rfe))\n",
    "\n",
    "print(\"Test Accuracy::\",accuracy_score(test_labels,y_pred_rfc_rfe))\n",
    "print(\"Test precision::\",precision_score(test_labels,y_pred_rfc_rfe))\n",
    "print(\"Test recall::\",recall_score(test_labels,y_pred_rfc_rfe))\n",
    "print(\"Test F1::\",f1_score(test_labels,y_pred_rfc_rfe))"
   ]
  },
  {
   "cell_type": "markdown",
   "id": "1edb7ebf",
   "metadata": {},
   "source": [
    "<h2>6.7 GBDT Classifier</h2>"
   ]
  },
  {
   "cell_type": "code",
   "execution_count": 5,
   "id": "ff39536e",
   "metadata": {},
   "outputs": [
    {
     "name": "stdout",
     "output_type": "stream",
     "text": [
      "The average CV score against the five n_estimators values are: [0.99375187 0.99687604 0.99751647 0.99770456 0.99778127]\n",
      "**************************************************\n",
      "The plot of n_estimators vs F1 score\n"
     ]
    },
    {
     "data": {
      "image/png": "[encoded data removed]",
      "text/plain": [
       "<Figure size 432x288 with 1 Axes>"
      ]
     },
     "metadata": {
      "needs_background": "light"
     },
     "output_type": "display_data"
    },
    {
     "name": "stdout",
     "output_type": "stream",
     "text": [
      "The confusion matrix for the test set is\n",
      "[[9421  290]\n",
      " [4536 8293]]\n",
      "Test Accuracy:: 0.7858917480035492\n",
      "Test precision:: 0.9662122800885471\n",
      "Test recall:: 0.6464260659443448\n",
      "Test F1:: 0.774612366897067\n"
     ]
    }
   ],
   "source": [
    "params = {'n_estimators':[100,500,1000,1500,2000]}\n",
    "gbc = GradientBoostingClassifier()\n",
    "clf = GridSearchCV(gbc, params,scoring='f1')\n",
    "clf.fit(df_train,train_labels)\n",
    "\n",
    "print(\"The average CV score against the five n_estimators values are:\",clf.cv_results_['mean_test_score'])\n",
    "print(\"*\"*50)\n",
    "print(\"The plot of n_estimators vs F1 score\")\n",
    "\n",
    "plt.plot(params['n_estimators'],clf.cv_results_['mean_test_score'])\n",
    "plt.scatter(params['n_estimators'],clf.cv_results_['mean_test_score'])\n",
    "for i in range(len(params['n_estimators'])):\n",
    "    plt.annotate(round(clf.cv_results_['mean_test_score'][i],4), (params['n_estimators'][i], clf.cv_results_['mean_test_score'][i]))\n",
    "plt.grid()\n",
    "plt.show()\n",
    "\n",
    "#Getting the best value of the hyper-parameters\n",
    "n_estimators = clf.cv_results_['params'][np.argmax(clf.cv_results_['mean_test_score'])]['n_estimators']\n",
    "\n",
    "gbc = GradientBoostingClassifier(n_estimators = n_estimators)\n",
    "gbc.fit(df_train,train_labels)\n",
    "y_pred_gbc_rfe = gbc.predict(df_test)\n",
    "\n",
    "print(\"The confusion matrix for the test set is\")\n",
    "print(confusion_matrix(test_labels,y_pred_gbc_rfe))\n",
    "\n",
    "print(\"Test Accuracy::\",accuracy_score(test_labels,y_pred_gbc_rfe))\n",
    "print(\"Test precision::\",precision_score(test_labels,y_pred_gbc_rfe))\n",
    "print(\"Test recall::\",recall_score(test_labels,y_pred_gbc_rfe))\n",
    "print(\"Test F1::\",f1_score(test_labels,y_pred_gbc_rfe))"
   ]
  },
  {
   "cell_type": "markdown",
   "id": "a738187b",
   "metadata": {},
   "source": [
    "<h2>6.8 MLP Classifier</h2>"
   ]
  },
  {
   "cell_type": "code",
   "execution_count": 6,
   "id": "edbbf605",
   "metadata": {},
   "outputs": [
    {
     "name": "stdout",
     "output_type": "stream",
     "text": [
      "Model: \"sequential\"\n",
      "_________________________________________________________________\n",
      "Layer (type)                 Output Shape              Param #   \n",
      "=================================================================\n",
      "dense (Dense)                (None, 256)               7936      \n",
      "_________________________________________________________________\n",
      "dropout (Dropout)            (None, 256)               0         \n",
      "_________________________________________________________________\n",
      "dense_1 (Dense)              (None, 256)               65792     \n",
      "_________________________________________________________________\n",
      "dropout_1 (Dropout)          (None, 256)               0         \n",
      "_________________________________________________________________\n",
      "dense_2 (Dense)              (None, 128)               32896     \n",
      "_________________________________________________________________\n",
      "dropout_2 (Dropout)          (None, 128)               0         \n",
      "_________________________________________________________________\n",
      "dense_3 (Dense)              (None, 128)               16512     \n",
      "_________________________________________________________________\n",
      "dropout_3 (Dropout)          (None, 128)               0         \n",
      "_________________________________________________________________\n",
      "batch_normalization (BatchNo (None, 128)               512       \n",
      "_________________________________________________________________\n",
      "dense_4 (Dense)              (None, 64)                8256      \n",
      "_________________________________________________________________\n",
      "dropout_4 (Dropout)          (None, 64)                0         \n",
      "_________________________________________________________________\n",
      "dense_5 (Dense)              (None, 1)                 65        \n",
      "=================================================================\n",
      "Total params: 131,969\n",
      "Trainable params: 131,713\n",
      "Non-trainable params: 256\n",
      "_________________________________________________________________\n",
      "None\n",
      "Epoch 1/20\n",
      "2756/2756 [==============================] - 21s 7ms/step - loss: 0.0815 - accuracy: 0.9736 - val_loss: 0.0413 - val_accuracy: 0.9860\n",
      "Epoch 2/20\n",
      "2756/2756 [==============================] - 19s 7ms/step - loss: 0.0479 - accuracy: 0.9843 - val_loss: 0.0346 - val_accuracy: 0.9887\n",
      "Epoch 3/20\n",
      "2756/2756 [==============================] - 19s 7ms/step - loss: 0.0346 - accuracy: 0.9885 - val_loss: 0.0249 - val_accuracy: 0.9913\n",
      "Epoch 4/20\n",
      "2756/2756 [==============================] - 19s 7ms/step - loss: 0.0288 - accuracy: 0.9905 - val_loss: 0.0244 - val_accuracy: 0.9922\n",
      "Epoch 5/20\n",
      "2756/2756 [==============================] - 19s 7ms/step - loss: 0.0259 - accuracy: 0.9911 - val_loss: 0.0213 - val_accuracy: 0.9931\n",
      "Epoch 6/20\n",
      "2756/2756 [==============================] - 19s 7ms/step - loss: 0.0239 - accuracy: 0.9921 - val_loss: 0.0188 - val_accuracy: 0.9931\n",
      "Epoch 7/20\n",
      "2756/2756 [==============================] - 19s 7ms/step - loss: 0.0220 - accuracy: 0.9923 - val_loss: 0.0188 - val_accuracy: 0.9934\n",
      "Epoch 8/20\n",
      "2756/2756 [==============================] - 19s 7ms/step - loss: 0.0209 - accuracy: 0.9925 - val_loss: 0.0164 - val_accuracy: 0.9942\n",
      "Epoch 9/20\n",
      "2756/2756 [==============================] - 19s 7ms/step - loss: 0.0206 - accuracy: 0.9929 - val_loss: 0.0170 - val_accuracy: 0.9933\n",
      "Epoch 10/20\n",
      "2756/2756 [==============================] - 19s 7ms/step - loss: 0.0194 - accuracy: 0.9929 - val_loss: 0.0198 - val_accuracy: 0.9927\n",
      "Epoch 11/20\n",
      "2756/2756 [==============================] - 19s 7ms/step - loss: 0.0198 - accuracy: 0.9930 - val_loss: 0.0176 - val_accuracy: 0.9938\n",
      "Epoch 12/20\n",
      "2756/2756 [==============================] - 19s 7ms/step - loss: 0.0189 - accuracy: 0.9935 - val_loss: 0.0183 - val_accuracy: 0.9934\n",
      "Epoch 13/20\n",
      "2756/2756 [==============================] - 19s 7ms/step - loss: 0.0175 - accuracy: 0.9936 - val_loss: 0.0162 - val_accuracy: 0.9948\n",
      "Epoch 14/20\n",
      "2756/2756 [==============================] - 19s 7ms/step - loss: 0.0165 - accuracy: 0.9941 - val_loss: 0.0164 - val_accuracy: 0.9948\n",
      "Epoch 15/20\n",
      "2756/2756 [==============================] - 19s 7ms/step - loss: 0.0178 - accuracy: 0.9938 - val_loss: 0.0181 - val_accuracy: 0.9951\n",
      "Epoch 16/20\n",
      "2756/2756 [==============================] - 19s 7ms/step - loss: 0.0168 - accuracy: 0.9942 - val_loss: 0.0142 - val_accuracy: 0.9960\n",
      "Epoch 17/20\n",
      "2756/2756 [==============================] - 19s 7ms/step - loss: 0.0162 - accuracy: 0.9944 - val_loss: 0.0167 - val_accuracy: 0.9941\n",
      "Epoch 18/20\n",
      "2756/2756 [==============================] - 19s 7ms/step - loss: 0.0163 - accuracy: 0.9945 - val_loss: 0.0159 - val_accuracy: 0.9945\n",
      "Epoch 19/20\n",
      "2756/2756 [==============================] - 19s 7ms/step - loss: 0.0154 - accuracy: 0.9946 - val_loss: 0.0146 - val_accuracy: 0.9955\n",
      "Epoch 20/20\n",
      "2756/2756 [==============================] - 19s 7ms/step - loss: 0.0156 - accuracy: 0.9949 - val_loss: 0.0163 - val_accuracy: 0.9952\n",
      "The confusion matrix for the test set is\n",
      "[[8990  721]\n",
      " [4238 8591]]\n",
      "Test Accuracy:: 0.7799911268855368\n",
      "Test precision:: 0.9225730240549829\n",
      "Test recall:: 0.6696546885961493\n",
      "Test F1:: 0.776026376405763\n"
     ]
    }
   ],
   "source": [
    "from tensorflow.keras.callbacks import ModelCheckpoint\n",
    "model = Sequential() \n",
    "model.add(Dense(256, activation = 'relu',kernel_initializer = 'he_normal',input_shape = (df_train.shape[1],)))  \n",
    "model.add(Dropout(0.2))\n",
    "model.add(Dense(256, activation = 'relu',kernel_initializer = 'he_normal'))  \n",
    "model.add(Dropout(0.2))\n",
    "model.add(Dense(128, activation = 'relu',kernel_initializer = 'he_normal'))  \n",
    "model.add(Dropout(0.2))\n",
    "model.add(Dense(128, activation = 'relu',kernel_initializer = 'he_normal'))  \n",
    "model.add(Dropout(0.2))\n",
    "model.add(BatchNormalization())\n",
    "model.add(Dense(64, activation = 'relu',kernel_initializer = 'he_normal'))  \n",
    "model.add(Dropout(0.2))\n",
    "model.add(Dense(1, activation = 'sigmoid'))\n",
    "print(model.summary())\n",
    "\n",
    "\n",
    "optimizer = Adam(learning_rate=.001)\n",
    "model.compile(loss = 'binary_crossentropy', optimizer = optimizer, metrics = ['accuracy'])\n",
    "\n",
    "history = model.fit(\n",
    "   df_train,train_labels,    \n",
    "   epochs =20, \n",
    "   verbose = 1, \n",
    "   validation_split = 0.3, \n",
    "   callbacks = [EarlyStopping(monitor = 'val_loss', patience = 5)]\n",
    ")\n",
    "\n",
    "y_pred_mlp_rfe = model.predict_classes(df_test)\n",
    "\n",
    "print(\"The confusion matrix for the test set is\")\n",
    "print(confusion_matrix(test_labels,y_pred_mlp_rfe))\n",
    "\n",
    "print(\"Test Accuracy::\",accuracy_score(test_labels,y_pred_mlp_rfe))\n",
    "print(\"Test precision::\",precision_score(test_labels,y_pred_mlp_rfe))\n",
    "print(\"Test recall::\",recall_score(test_labels,y_pred_mlp_rfe))\n",
    "print(\"Test F1::\",f1_score(test_labels,y_pred_mlp_rfe))"
   ]
  },
  {
   "cell_type": "markdown",
   "id": "8c79d0f2",
   "metadata": {},
   "source": [
    "<h2>7. Auto-Encoder with all Features </h2>"
   ]
  },
  {
   "cell_type": "code",
   "execution_count": 90,
   "id": "c84ff44a",
   "metadata": {},
   "outputs": [],
   "source": [
    "from sklearn.datasets import make_classification\n",
    "from sklearn.preprocessing import MinMaxScaler\n",
    "from sklearn.model_selection import train_test_split\n",
    "from tensorflow.keras.models import Model\n",
    "from tensorflow.keras.layers import Input\n",
    "from tensorflow.keras.layers import Dense,Dropout\n",
    "from tensorflow.keras.layers import LeakyReLU\n",
    "from tensorflow.keras.layers import BatchNormalization\n",
    "from tensorflow.keras.utils import plot_model\n",
    "from matplotlib import pyplot\n",
    "import tensorflow\n",
    "from tensorflow.keras.optimizers import Adam\n",
    "from tensorflow.keras import regularizers\n",
    "from tensorflow.keras.models import load_model\n"
   ]
  },
  {
   "cell_type": "code",
   "execution_count": 68,
   "id": "01ba061a",
   "metadata": {},
   "outputs": [],
   "source": [
    "df_train = pd.read_csv(\"df_train_whole.csv\").drop(columns='Unnamed: 0')\n",
    "df_test = pd.read_csv(\"df_test_whole.csv\").drop(columns='Unnamed: 0')\n",
    "train_labels = df_train['class']\n",
    "test_labels = df_test['class']\n",
    "df_train.drop(columns='class',inplace=True)\n",
    "df_test.drop(columns='class',inplace=True)"
   ]
  },
  {
   "cell_type": "code",
   "execution_count": 69,
   "id": "92f677d6",
   "metadata": {},
   "outputs": [
    {
     "name": "stdout",
     "output_type": "stream",
     "text": [
      "Epoch 1/10\n",
      "264/264 [==============================] - 4s 11ms/step - loss: 0.5150 - val_loss: 0.0477\n",
      "Epoch 2/10\n",
      "264/264 [==============================] - 3s 10ms/step - loss: 0.1913 - val_loss: 0.0352\n",
      "Epoch 3/10\n",
      "264/264 [==============================] - 3s 10ms/step - loss: 0.1144 - val_loss: 0.0297\n",
      "Epoch 4/10\n",
      "264/264 [==============================] - 3s 10ms/step - loss: 0.0677 - val_loss: 0.0265\n",
      "Epoch 5/10\n",
      "264/264 [==============================] - 3s 10ms/step - loss: 0.0369 - val_loss: 0.0211\n",
      "Epoch 6/10\n",
      "264/264 [==============================] - 3s 10ms/step - loss: 0.0250 - val_loss: 0.0176\n",
      "Epoch 7/10\n",
      "264/264 [==============================] - 3s 10ms/step - loss: 0.0197 - val_loss: 0.0147\n",
      "Epoch 8/10\n",
      "264/264 [==============================] - 3s 10ms/step - loss: 0.0167 - val_loss: 0.0128\n",
      "Epoch 9/10\n",
      "264/264 [==============================] - 3s 10ms/step - loss: 0.0148 - val_loss: 0.0122\n",
      "Epoch 10/10\n",
      "264/264 [==============================] - 3s 10ms/step - loss: 0.0134 - val_loss: 0.0109\n"
     ]
    },
    {
     "data": {
      "image/png": "[encoded data removed]",
      "text/plain": [
       "<Figure size 432x288 with 1 Axes>"
      ]
     },
     "metadata": {
      "needs_background": "light"
     },
     "output_type": "display_data"
    },
    {
     "name": "stdout",
     "output_type": "stream",
     "text": [
      "[[ 8224  1487]\n",
      " [  760 12069]]\n",
      "Test Accuracy:: 0.9003105590062112\n",
      "Test precision:: 0.8903068751844202\n",
      "Test recall:: 0.9407592173980824\n",
      "Test F1:: 0.914837976122797\n"
     ]
    }
   ],
   "source": [
    "df_train_preprocess_1 = df_train[(train_labels == 1).values]\n",
    "df_train_preprocess_0 = df_train[(train_labels == 0).values]\n",
    "df_test_preprocess_1 = df_test[(test_labels == 1).values]\n",
    "df_test_preprocess_0 = df_test[(test_labels == 0).values]\n",
    "\n",
    "\n",
    "n_inputs = df_train_preprocess_0.shape[1]\n",
    "\n",
    "#Encoder\n",
    "input_ = Input(shape=(n_inputs,))\n",
    "e = Dense(n_inputs*2,activation = 'LeakyReLU',kernel_initializer='he_normal',activity_regularizer=regularizers.l1(10e-4))(input_)\n",
    "e = Dropout(0.2)(e)\n",
    "e = Dense(n_inputs,activation = 'LeakyReLU',kernel_initializer='he_normal',activity_regularizer=regularizers.l1(10e-4))(e)\n",
    "e = Dropout(0.2)(e)\n",
    "e = Dense(n_inputs,activation = 'LeakyReLU',kernel_initializer='he_normal',activity_regularizer=regularizers.l1(10e-4))(e)\n",
    "e = Dropout(0.2)(e)\n",
    "#Code\n",
    "bottleneck = Dense(10)(e)\n",
    "#Decoder\n",
    "d = Dense(n_inputs,activation = 'LeakyReLU',kernel_initializer='he_normal',activity_regularizer=regularizers.l1(10e-4))(bottleneck)\n",
    "d = Dropout(0.2)(d)\n",
    "d = Dense(n_inputs,activation = 'LeakyReLU',kernel_initializer='he_normal',activity_regularizer=regularizers.l1(10e-4))(d)\n",
    "d = Dropout(0.2)(d)\n",
    "d = BatchNormalization()(d)\n",
    "d = Dense(n_inputs*2,activation = 'LeakyReLU',kernel_initializer='he_normal',activity_regularizer=regularizers.l1(10e-4))(d)\n",
    "d = Dropout(0.2)(d)\n",
    "d = BatchNormalization()(d)\n",
    "#Output\n",
    "output = Dense(n_inputs, activation='linear')(d)\n",
    "\n",
    "model = Model(inputs=input_, outputs=output)\n",
    "optimizer = Adam(learning_rate=.0005)\n",
    "model.compile(optimizer=optimizer, loss='mse')\n",
    "\n",
    "plot_model(model, 'autoencoder_no_compress.png', show_shapes=True)\n",
    "\n",
    "\n",
    "earlystop1 = tensorflow.keras.callbacks.EarlyStopping(monitor = 'loss', \n",
    "                            mode=\"auto\",\n",
    "                            min_delta = 0.0001, \n",
    "                            patience = 5,\n",
    "                            verbose = 1)\n",
    "\n",
    "history = model.fit(df_train_preprocess_0, df_train_preprocess_0, epochs=10, batch_size=256, verbose=1, validation_data=(df_test_preprocess_0,df_test_preprocess_0),callbacks=[earlystop1])\n",
    "\n",
    "model.save('encoder_full.h5')\n",
    "model = load_model('encoder_full.h5')\n",
    "\n",
    "#pyplot.plot(history.history['loss'], label='train')\n",
    "pyplot.plot(history.history['val_loss'], label='test')\n",
    "pyplot.grid()\n",
    "pyplot.legend()\n",
    "pyplot.show()\n",
    "\n",
    "threshold = history.history[\"loss\"][-1]\n",
    "\n",
    "\n",
    "#Getting the error for the test dataset\n",
    "#df_test_preprocess\n",
    "df_test_preprocess_predict = model.predict(df_test)\n",
    "diff_arr = df_test_preprocess_predict - df_test.values\n",
    "sqr_error_arr = np.sum(diff_arr**2,axis=1)/120\n",
    "test_predict_label = np.where(sqr_error_arr > threshold, 1, 0)\n",
    "    \n",
    "\n",
    "print(confusion_matrix(test_labels,test_predict_label))\n",
    "\n",
    "print(\"Test Accuracy::\",accuracy_score(test_labels,test_predict_label))\n",
    "print(\"Test precision::\",precision_score(test_labels, test_predict_label))\n",
    "print(\"Test recall::\",recall_score(test_labels, test_predict_label))\n",
    "print(\"Test F1::\",f1_score(test_labels, test_predict_label))"
   ]
  },
  {
   "cell_type": "markdown",
   "id": "4d2429e7",
   "metadata": {},
   "source": [
    "Conclusion:\n",
    "Out of all the models that we have tried with various feature selection techniques, it can be clearly seen that the AE which is trained with the normal data gives the best accuracy on the test data of 90 percent which stands way ahead of the classical ML techniques. Hence this model would be put to production"
   ]
  },
  {
   "cell_type": "code",
   "execution_count": null,
   "id": "bf93fe01",
   "metadata": {},
   "outputs": [],
   "source": []
  }
 ],
 "metadata": {
  "kernelspec": {
   "display_name": "Python 3",
   "language": "python",
   "name": "python3"
  },
  "language_info": {
   "codemirror_mode": {
    "name": "ipython",
    "version": 3
   },
   "file_extension": ".py",
   "mimetype": "text/x-python",
   "name": "python",
   "nbconvert_exporter": "python",
   "pygments_lexer": "ipython3",
   "version": "3.8.8"
  }
 },
 "nbformat": 4,
 "nbformat_minor": 5
}
